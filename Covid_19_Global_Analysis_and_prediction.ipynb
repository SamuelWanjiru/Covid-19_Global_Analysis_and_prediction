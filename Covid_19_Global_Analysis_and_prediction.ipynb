{
  "nbformat": 4,
  "nbformat_minor": 0,
  "metadata": {
    "colab": {
      "provenance": [],
      "authorship_tag": "ABX9TyMac+/I1SUR7KAvULWhe690",
      "include_colab_link": true
    },
    "kernelspec": {
      "name": "python3",
      "display_name": "Python 3"
    },
    "language_info": {
      "name": "python"
    }
  },
  "cells": [
    {
      "cell_type": "markdown",
      "metadata": {
        "id": "view-in-github",
        "colab_type": "text"
      },
      "source": [
        "<a href=\"https://colab.research.google.com/github/SamuelWanjiru/Covid-19_Global_Analysis_and_prediction/blob/main/Covid_19_Global_Analysis_and_prediction.ipynb\" target=\"_parent\"><img src=\"https://colab.research.google.com/assets/colab-badge.svg\" alt=\"Open In Colab\"/></a>"
      ]
    },
    {
      "cell_type": "markdown",
      "source": [
        "# **<font color='red'>🚑 <u>Covid-19 Global Analysis and prediction</u> 🏥**\n",
        " \n",
        "In this article, i will be analysing global **<font color='blue'>confirmed cases</font>** and **<font color='red'>deaths</font>** using **python**.\n",
        "\n",
        "I will then introduce you to a machine learning approach to predicting covid-19 cases for the next 30 days.\n",
        "\n",
        "These types of predictive models help in providing an accurate **prediction of epidemics,** which is essential for obtaining information on the likely **spread** and consequences of **infectious diseases 🤢**.\n",
        "\n",
        "**Governments** and other legislative bodies rely on these kinds of machine learning predictive models and ideas to suggest **new policies** and assess the effectiveness of applied policies.\n",
        "\n",
        "The dataset used in this analysis is a daily updating version of [COVID-19 Data Repository](https://github.com/CSSEGISandData/COVID-19) from 2019 by the Center for Systems Science and Engineering (CSSE) at Johns Hopkins University (JHU).\n",
        "\n",
        "For more information, click [here](https://covidbehaviors.org/).\n",
        "\n",
        "## **<font color='blue'><u>Task </u>** \n",
        "Predicting covid-19 cases for the next 30 days using python.\n",
        "\n",
        "\n",
        "**<font color='brown'>Pointers** : To install prohet model, use the code below\n",
        "```\n",
        "# pip install pystan==2.19.1.1 prophet\n",
        "```\n",
        "\n",
        "**<font color='red'>As a bonus, i will do an analysis of the covid-19 situation in kenya before carrying out the forecast. You can implement the same for your home country/your country of interest**"
      ],
      "metadata": {
        "id": "Kk_LKBQYy4On"
      }
    },
    {
      "cell_type": "markdown",
      "source": [
        "## **Connecting/mounting the google drive**"
      ],
      "metadata": {
        "id": "dKN8bv2s6JZe"
      }
    },
    {
      "cell_type": "code",
      "source": [
        "from google.colab import drive \n",
        "drive.mount('/content/gdrive')"
      ],
      "metadata": {
        "colab": {
          "base_uri": "https://localhost:8080/"
        },
        "id": "dAj90B1D6EkT",
        "outputId": "c494078f-ceca-430c-f2c5-c481d405b047"
      },
      "execution_count": 1,
      "outputs": [
        {
          "output_type": "stream",
          "name": "stdout",
          "text": [
            "Mounted at /content/gdrive\n"
          ]
        }
      ]
    },
    {
      "cell_type": "markdown",
      "source": [
        "### **Importing the relevant data analysis libraries**\n"
      ],
      "metadata": {
        "id": "Etq6mCkV7EcR"
      }
    },
    {
      "cell_type": "code",
      "source": [
        "import pandas as pd\n",
        "import numpy as np\n",
        "import matplotlib.pyplot as plt\n",
        "import plotly.express as px\n",
        "import colorama\n",
        "from colorama import Fore, Back, Style\n",
        "from prophet import Prophet\n",
        "from sklearn.metrics import r2_score\n",
        "\n",
        "plt.style.use(\"ggplot\")\n",
        "\n",
        "import warnings\n",
        "warnings.filterwarnings(\"ignore\")"
      ],
      "metadata": {
        "id": "6MShOkBT7MDg"
      },
      "execution_count": 193,
      "outputs": []
    },
    {
      "cell_type": "markdown",
      "source": [
        "### **Loading the datasets**"
      ],
      "metadata": {
        "id": "xfmnqhzCALX-"
      }
    },
    {
      "cell_type": "code",
      "source": [
        "Global_Cases = pd.read_csv(r'/content/gdrive/My Drive/KAGGLE PROJECTS/Covid-19 Cases Analysis and Prediction/Data/CONVENIENT_global_confirmed_cases.csv')\n",
        "Global_Deaths = pd.read_csv(r'/content/gdrive/My Drive/KAGGLE PROJECTS/Covid-19 Cases Analysis and Prediction/Data/CONVENIENT_global_deaths.csv')\n",
        "continent = pd.read_csv(r'/content/gdrive/My Drive/KAGGLE PROJECTS/Covid-19 Cases Analysis and Prediction/Data/continents2.csv')"
      ],
      "metadata": {
        "id": "ZyYCVSVkAQgW"
      },
      "execution_count": 17,
      "outputs": []
    },
    {
      "cell_type": "markdown",
      "source": [
        "### **Understanding the data**"
      ],
      "metadata": {
        "id": "3QGqreVMA8rU"
      }
    },
    {
      "cell_type": "markdown",
      "source": [
        "**Global Cases**"
      ],
      "metadata": {
        "id": "TKKCmEBBBHKs"
      }
    },
    {
      "cell_type": "code",
      "source": [
        "# Printing the 1st 5 observations\n",
        "Global_Cases.head()"
      ],
      "metadata": {
        "colab": {
          "base_uri": "https://localhost:8080/",
          "height": 352
        },
        "id": "Y42ZNdccA-GM",
        "outputId": "6adbc113-9fa1-417c-c27b-8b7447d595c7"
      },
      "execution_count": 4,
      "outputs": [
        {
          "output_type": "execute_result",
          "data": {
            "text/plain": [
              "   Country/Region  Afghanistan  Albania  Algeria  Andorra  Angola  Antarctica  \\\n",
              "0  Province/State          NaN      NaN      NaN      NaN     NaN         NaN   \n",
              "1         1/23/20          0.0      0.0      0.0      0.0     0.0         0.0   \n",
              "2         1/24/20          0.0      0.0      0.0      0.0     0.0         0.0   \n",
              "3         1/25/20          0.0      0.0      0.0      0.0     0.0         0.0   \n",
              "4         1/26/20          0.0      0.0      0.0      0.0     0.0         0.0   \n",
              "\n",
              "   Antigua and Barbuda  Argentina  Armenia  ... Uruguay Uzbekistan Vanuatu  \\\n",
              "0                  NaN        NaN      NaN  ...     NaN        NaN     NaN   \n",
              "1                  0.0        0.0      0.0  ...     0.0        0.0     0.0   \n",
              "2                  0.0        0.0      0.0  ...     0.0        0.0     0.0   \n",
              "3                  0.0        0.0      0.0  ...     0.0        0.0     0.0   \n",
              "4                  0.0        0.0      0.0  ...     0.0        0.0     0.0   \n",
              "\n",
              "  Venezuela Vietnam West Bank and Gaza Winter Olympics 2022 Yemen  Zambia  \\\n",
              "0       NaN     NaN                NaN                  NaN   NaN     NaN   \n",
              "1       0.0     2.0                0.0                  0.0   0.0     0.0   \n",
              "2       0.0     0.0                0.0                  0.0   0.0     0.0   \n",
              "3       0.0     0.0                0.0                  0.0   0.0     0.0   \n",
              "4       0.0     0.0                0.0                  0.0   0.0     0.0   \n",
              "\n",
              "   Zimbabwe  \n",
              "0       NaN  \n",
              "1       0.0  \n",
              "2       0.0  \n",
              "3       0.0  \n",
              "4       0.0  \n",
              "\n",
              "[5 rows x 290 columns]"
            ],
            "text/html": [
              "\n",
              "  <div id=\"df-e00456fb-2ecd-492e-8a91-cbc66d901a44\">\n",
              "    <div class=\"colab-df-container\">\n",
              "      <div>\n",
              "<style scoped>\n",
              "    .dataframe tbody tr th:only-of-type {\n",
              "        vertical-align: middle;\n",
              "    }\n",
              "\n",
              "    .dataframe tbody tr th {\n",
              "        vertical-align: top;\n",
              "    }\n",
              "\n",
              "    .dataframe thead th {\n",
              "        text-align: right;\n",
              "    }\n",
              "</style>\n",
              "<table border=\"1\" class=\"dataframe\">\n",
              "  <thead>\n",
              "    <tr style=\"text-align: right;\">\n",
              "      <th></th>\n",
              "      <th>Country/Region</th>\n",
              "      <th>Afghanistan</th>\n",
              "      <th>Albania</th>\n",
              "      <th>Algeria</th>\n",
              "      <th>Andorra</th>\n",
              "      <th>Angola</th>\n",
              "      <th>Antarctica</th>\n",
              "      <th>Antigua and Barbuda</th>\n",
              "      <th>Argentina</th>\n",
              "      <th>Armenia</th>\n",
              "      <th>...</th>\n",
              "      <th>Uruguay</th>\n",
              "      <th>Uzbekistan</th>\n",
              "      <th>Vanuatu</th>\n",
              "      <th>Venezuela</th>\n",
              "      <th>Vietnam</th>\n",
              "      <th>West Bank and Gaza</th>\n",
              "      <th>Winter Olympics 2022</th>\n",
              "      <th>Yemen</th>\n",
              "      <th>Zambia</th>\n",
              "      <th>Zimbabwe</th>\n",
              "    </tr>\n",
              "  </thead>\n",
              "  <tbody>\n",
              "    <tr>\n",
              "      <th>0</th>\n",
              "      <td>Province/State</td>\n",
              "      <td>NaN</td>\n",
              "      <td>NaN</td>\n",
              "      <td>NaN</td>\n",
              "      <td>NaN</td>\n",
              "      <td>NaN</td>\n",
              "      <td>NaN</td>\n",
              "      <td>NaN</td>\n",
              "      <td>NaN</td>\n",
              "      <td>NaN</td>\n",
              "      <td>...</td>\n",
              "      <td>NaN</td>\n",
              "      <td>NaN</td>\n",
              "      <td>NaN</td>\n",
              "      <td>NaN</td>\n",
              "      <td>NaN</td>\n",
              "      <td>NaN</td>\n",
              "      <td>NaN</td>\n",
              "      <td>NaN</td>\n",
              "      <td>NaN</td>\n",
              "      <td>NaN</td>\n",
              "    </tr>\n",
              "    <tr>\n",
              "      <th>1</th>\n",
              "      <td>1/23/20</td>\n",
              "      <td>0.0</td>\n",
              "      <td>0.0</td>\n",
              "      <td>0.0</td>\n",
              "      <td>0.0</td>\n",
              "      <td>0.0</td>\n",
              "      <td>0.0</td>\n",
              "      <td>0.0</td>\n",
              "      <td>0.0</td>\n",
              "      <td>0.0</td>\n",
              "      <td>...</td>\n",
              "      <td>0.0</td>\n",
              "      <td>0.0</td>\n",
              "      <td>0.0</td>\n",
              "      <td>0.0</td>\n",
              "      <td>2.0</td>\n",
              "      <td>0.0</td>\n",
              "      <td>0.0</td>\n",
              "      <td>0.0</td>\n",
              "      <td>0.0</td>\n",
              "      <td>0.0</td>\n",
              "    </tr>\n",
              "    <tr>\n",
              "      <th>2</th>\n",
              "      <td>1/24/20</td>\n",
              "      <td>0.0</td>\n",
              "      <td>0.0</td>\n",
              "      <td>0.0</td>\n",
              "      <td>0.0</td>\n",
              "      <td>0.0</td>\n",
              "      <td>0.0</td>\n",
              "      <td>0.0</td>\n",
              "      <td>0.0</td>\n",
              "      <td>0.0</td>\n",
              "      <td>...</td>\n",
              "      <td>0.0</td>\n",
              "      <td>0.0</td>\n",
              "      <td>0.0</td>\n",
              "      <td>0.0</td>\n",
              "      <td>0.0</td>\n",
              "      <td>0.0</td>\n",
              "      <td>0.0</td>\n",
              "      <td>0.0</td>\n",
              "      <td>0.0</td>\n",
              "      <td>0.0</td>\n",
              "    </tr>\n",
              "    <tr>\n",
              "      <th>3</th>\n",
              "      <td>1/25/20</td>\n",
              "      <td>0.0</td>\n",
              "      <td>0.0</td>\n",
              "      <td>0.0</td>\n",
              "      <td>0.0</td>\n",
              "      <td>0.0</td>\n",
              "      <td>0.0</td>\n",
              "      <td>0.0</td>\n",
              "      <td>0.0</td>\n",
              "      <td>0.0</td>\n",
              "      <td>...</td>\n",
              "      <td>0.0</td>\n",
              "      <td>0.0</td>\n",
              "      <td>0.0</td>\n",
              "      <td>0.0</td>\n",
              "      <td>0.0</td>\n",
              "      <td>0.0</td>\n",
              "      <td>0.0</td>\n",
              "      <td>0.0</td>\n",
              "      <td>0.0</td>\n",
              "      <td>0.0</td>\n",
              "    </tr>\n",
              "    <tr>\n",
              "      <th>4</th>\n",
              "      <td>1/26/20</td>\n",
              "      <td>0.0</td>\n",
              "      <td>0.0</td>\n",
              "      <td>0.0</td>\n",
              "      <td>0.0</td>\n",
              "      <td>0.0</td>\n",
              "      <td>0.0</td>\n",
              "      <td>0.0</td>\n",
              "      <td>0.0</td>\n",
              "      <td>0.0</td>\n",
              "      <td>...</td>\n",
              "      <td>0.0</td>\n",
              "      <td>0.0</td>\n",
              "      <td>0.0</td>\n",
              "      <td>0.0</td>\n",
              "      <td>0.0</td>\n",
              "      <td>0.0</td>\n",
              "      <td>0.0</td>\n",
              "      <td>0.0</td>\n",
              "      <td>0.0</td>\n",
              "      <td>0.0</td>\n",
              "    </tr>\n",
              "  </tbody>\n",
              "</table>\n",
              "<p>5 rows × 290 columns</p>\n",
              "</div>\n",
              "      <button class=\"colab-df-convert\" onclick=\"convertToInteractive('df-e00456fb-2ecd-492e-8a91-cbc66d901a44')\"\n",
              "              title=\"Convert this dataframe to an interactive table.\"\n",
              "              style=\"display:none;\">\n",
              "        \n",
              "  <svg xmlns=\"http://www.w3.org/2000/svg\" height=\"24px\"viewBox=\"0 0 24 24\"\n",
              "       width=\"24px\">\n",
              "    <path d=\"M0 0h24v24H0V0z\" fill=\"none\"/>\n",
              "    <path d=\"M18.56 5.44l.94 2.06.94-2.06 2.06-.94-2.06-.94-.94-2.06-.94 2.06-2.06.94zm-11 1L8.5 8.5l.94-2.06 2.06-.94-2.06-.94L8.5 2.5l-.94 2.06-2.06.94zm10 10l.94 2.06.94-2.06 2.06-.94-2.06-.94-.94-2.06-.94 2.06-2.06.94z\"/><path d=\"M17.41 7.96l-1.37-1.37c-.4-.4-.92-.59-1.43-.59-.52 0-1.04.2-1.43.59L10.3 9.45l-7.72 7.72c-.78.78-.78 2.05 0 2.83L4 21.41c.39.39.9.59 1.41.59.51 0 1.02-.2 1.41-.59l7.78-7.78 2.81-2.81c.8-.78.8-2.07 0-2.86zM5.41 20L4 18.59l7.72-7.72 1.47 1.35L5.41 20z\"/>\n",
              "  </svg>\n",
              "      </button>\n",
              "      \n",
              "  <style>\n",
              "    .colab-df-container {\n",
              "      display:flex;\n",
              "      flex-wrap:wrap;\n",
              "      gap: 12px;\n",
              "    }\n",
              "\n",
              "    .colab-df-convert {\n",
              "      background-color: #E8F0FE;\n",
              "      border: none;\n",
              "      border-radius: 50%;\n",
              "      cursor: pointer;\n",
              "      display: none;\n",
              "      fill: #1967D2;\n",
              "      height: 32px;\n",
              "      padding: 0 0 0 0;\n",
              "      width: 32px;\n",
              "    }\n",
              "\n",
              "    .colab-df-convert:hover {\n",
              "      background-color: #E2EBFA;\n",
              "      box-shadow: 0px 1px 2px rgba(60, 64, 67, 0.3), 0px 1px 3px 1px rgba(60, 64, 67, 0.15);\n",
              "      fill: #174EA6;\n",
              "    }\n",
              "\n",
              "    [theme=dark] .colab-df-convert {\n",
              "      background-color: #3B4455;\n",
              "      fill: #D2E3FC;\n",
              "    }\n",
              "\n",
              "    [theme=dark] .colab-df-convert:hover {\n",
              "      background-color: #434B5C;\n",
              "      box-shadow: 0px 1px 3px 1px rgba(0, 0, 0, 0.15);\n",
              "      filter: drop-shadow(0px 1px 2px rgba(0, 0, 0, 0.3));\n",
              "      fill: #FFFFFF;\n",
              "    }\n",
              "  </style>\n",
              "\n",
              "      <script>\n",
              "        const buttonEl =\n",
              "          document.querySelector('#df-e00456fb-2ecd-492e-8a91-cbc66d901a44 button.colab-df-convert');\n",
              "        buttonEl.style.display =\n",
              "          google.colab.kernel.accessAllowed ? 'block' : 'none';\n",
              "\n",
              "        async function convertToInteractive(key) {\n",
              "          const element = document.querySelector('#df-e00456fb-2ecd-492e-8a91-cbc66d901a44');\n",
              "          const dataTable =\n",
              "            await google.colab.kernel.invokeFunction('convertToInteractive',\n",
              "                                                     [key], {});\n",
              "          if (!dataTable) return;\n",
              "\n",
              "          const docLinkHtml = 'Like what you see? Visit the ' +\n",
              "            '<a target=\"_blank\" href=https://colab.research.google.com/notebooks/data_table.ipynb>data table notebook</a>'\n",
              "            + ' to learn more about interactive tables.';\n",
              "          element.innerHTML = '';\n",
              "          dataTable['output_type'] = 'display_data';\n",
              "          await google.colab.output.renderOutput(dataTable, element);\n",
              "          const docLink = document.createElement('div');\n",
              "          docLink.innerHTML = docLinkHtml;\n",
              "          element.appendChild(docLink);\n",
              "        }\n",
              "      </script>\n",
              "    </div>\n",
              "  </div>\n",
              "  "
            ]
          },
          "metadata": {},
          "execution_count": 4
        }
      ]
    },
    {
      "cell_type": "code",
      "source": [
        "# Printing the shape of the data\n",
        "print(\"The covid-19 confirmed cases dataset has\",Global_Cases.shape[0], 'rows and',Global_Cases.shape[1],'columns')"
      ],
      "metadata": {
        "id": "Oat4KbFa8294",
        "outputId": "3c6dd6c4-03a5-486c-a93e-8baaddd99457",
        "colab": {
          "base_uri": "https://localhost:8080/"
        }
      },
      "execution_count": 9,
      "outputs": [
        {
          "output_type": "stream",
          "name": "stdout",
          "text": [
            "The covid-19 confirmed cases dataset has 1077 rows and 290 columns\n"
          ]
        }
      ]
    },
    {
      "cell_type": "code",
      "source": [
        "# Getting the different data types of the columns\n",
        "Global_Cases.dtypes"
      ],
      "metadata": {
        "id": "6bZvdluR_NBv",
        "outputId": "b655350d-244f-4bf6-fed2-15bf9e10e56c",
        "colab": {
          "base_uri": "https://localhost:8080/"
        }
      },
      "execution_count": 11,
      "outputs": [
        {
          "output_type": "execute_result",
          "data": {
            "text/plain": [
              "Country/Region           object\n",
              "Afghanistan             float64\n",
              "Albania                 float64\n",
              "Algeria                 float64\n",
              "Andorra                 float64\n",
              "                         ...   \n",
              "West Bank and Gaza      float64\n",
              "Winter Olympics 2022    float64\n",
              "Yemen                   float64\n",
              "Zambia                  float64\n",
              "Zimbabwe                float64\n",
              "Length: 290, dtype: object"
            ]
          },
          "metadata": {},
          "execution_count": 11
        }
      ]
    },
    {
      "cell_type": "code",
      "source": [
        "# Data descriptive statistics\n",
        "Global_Cases.describe()"
      ],
      "metadata": {
        "id": "vJY-p4jT__7j",
        "outputId": "a2036862-1d90-436d-f858-3bd4e4e88f00",
        "colab": {
          "base_uri": "https://localhost:8080/",
          "height": 428
        }
      },
      "execution_count": 15,
      "outputs": [
        {
          "output_type": "execute_result",
          "data": {
            "text/plain": [
              "       Afghanistan      Albania      Algeria      Andorra       Angola  \\\n",
              "count  1076.000000  1076.000000  1076.000000  1076.000000  1076.000000   \n",
              "mean    192.961896   310.234201   252.071561    44.378253    97.671933   \n",
              "std     336.478377   450.406666   338.336917   140.473767   244.790073   \n",
              "min      -6.000000     0.000000     0.000000     0.000000     0.000000   \n",
              "25%      28.000000    18.000000    13.000000     0.000000     0.000000   \n",
              "50%      77.000000   113.000000   149.500000     0.000000    27.000000   \n",
              "75%     194.750000   495.000000   323.500000    37.000000   110.250000   \n",
              "max    3243.000000  4789.000000  2521.000000  2313.000000  5035.000000   \n",
              "\n",
              "        Antarctica  Antigua and Barbuda      Argentina      Armenia  \\\n",
              "count  1076.000000          1076.000000    1076.000000  1076.000000   \n",
              "mean      0.010223             8.462825    9259.941450   414.475836   \n",
              "std       0.335341            32.891527   17576.116124   616.965699   \n",
              "min       0.000000            -1.000000       0.000000     0.000000   \n",
              "25%       0.000000             0.000000       0.000000     4.000000   \n",
              "50%       0.000000             0.000000    3463.500000   168.000000   \n",
              "75%       0.000000             2.000000   11123.000000   544.750000   \n",
              "max      11.000000           468.000000  139853.000000  4388.000000   \n",
              "\n",
              "            Austria  ...       Uruguay   Uzbekistan      Vanuatu    Venezuela  \\\n",
              "count   1076.000000  ...   1076.000000  1076.000000  1076.000000  1076.000000   \n",
              "mean    5306.138476  ...    948.105019   231.614312    11.164498   511.722119   \n",
              "std     8980.099172  ...   2062.429962   270.222243    49.822605   597.178197   \n",
              "min   -12934.000000  ...    -21.000000     0.000000    -7.000000     0.000000   \n",
              "25%      252.750000  ...      0.000000    27.000000     0.000000    29.000000   \n",
              "50%     1959.000000  ...     87.000000   126.000000     0.000000   314.500000   \n",
              "75%     5551.750000  ...    728.500000   352.500000     0.000000   864.750000   \n",
              "max    64038.000000  ...  13612.000000  1478.000000   616.000000  4418.000000   \n",
              "\n",
              "             Vietnam  West Bank and Gaza  Winter Olympics 2022        Yemen  \\\n",
              "count    1076.000000         1076.000000           1076.000000  1076.000000   \n",
              "mean    10711.278810          653.557621              0.497212    11.101301   \n",
              "std     39519.460758         1734.604124              4.142238    23.137525   \n",
              "min         0.000000            0.000000              0.000000    -1.000000   \n",
              "25%         3.000000            0.000000              0.000000     0.000000   \n",
              "50%       309.000000          157.500000              0.000000     1.000000   \n",
              "75%      4363.000000          662.000000              0.000000    11.000000   \n",
              "max    454212.000000        30356.000000             72.000000   287.000000   \n",
              "\n",
              "            Zambia     Zimbabwe  \n",
              "count  1076.000000  1076.000000  \n",
              "mean    311.023234   241.618030  \n",
              "std     673.775534   702.689785  \n",
              "min       0.000000    -6.000000  \n",
              "25%       0.000000     1.000000  \n",
              "50%      54.000000    33.000000  \n",
              "75%     251.250000   144.500000  \n",
              "max    5555.000000  9185.000000  \n",
              "\n",
              "[8 rows x 198 columns]"
            ],
            "text/html": [
              "\n",
              "  <div id=\"df-6747673c-771f-4df4-95a1-e76e4f915fda\">\n",
              "    <div class=\"colab-df-container\">\n",
              "      <div>\n",
              "<style scoped>\n",
              "    .dataframe tbody tr th:only-of-type {\n",
              "        vertical-align: middle;\n",
              "    }\n",
              "\n",
              "    .dataframe tbody tr th {\n",
              "        vertical-align: top;\n",
              "    }\n",
              "\n",
              "    .dataframe thead th {\n",
              "        text-align: right;\n",
              "    }\n",
              "</style>\n",
              "<table border=\"1\" class=\"dataframe\">\n",
              "  <thead>\n",
              "    <tr style=\"text-align: right;\">\n",
              "      <th></th>\n",
              "      <th>Afghanistan</th>\n",
              "      <th>Albania</th>\n",
              "      <th>Algeria</th>\n",
              "      <th>Andorra</th>\n",
              "      <th>Angola</th>\n",
              "      <th>Antarctica</th>\n",
              "      <th>Antigua and Barbuda</th>\n",
              "      <th>Argentina</th>\n",
              "      <th>Armenia</th>\n",
              "      <th>Austria</th>\n",
              "      <th>...</th>\n",
              "      <th>Uruguay</th>\n",
              "      <th>Uzbekistan</th>\n",
              "      <th>Vanuatu</th>\n",
              "      <th>Venezuela</th>\n",
              "      <th>Vietnam</th>\n",
              "      <th>West Bank and Gaza</th>\n",
              "      <th>Winter Olympics 2022</th>\n",
              "      <th>Yemen</th>\n",
              "      <th>Zambia</th>\n",
              "      <th>Zimbabwe</th>\n",
              "    </tr>\n",
              "  </thead>\n",
              "  <tbody>\n",
              "    <tr>\n",
              "      <th>count</th>\n",
              "      <td>1076.000000</td>\n",
              "      <td>1076.000000</td>\n",
              "      <td>1076.000000</td>\n",
              "      <td>1076.000000</td>\n",
              "      <td>1076.000000</td>\n",
              "      <td>1076.000000</td>\n",
              "      <td>1076.000000</td>\n",
              "      <td>1076.000000</td>\n",
              "      <td>1076.000000</td>\n",
              "      <td>1076.000000</td>\n",
              "      <td>...</td>\n",
              "      <td>1076.000000</td>\n",
              "      <td>1076.000000</td>\n",
              "      <td>1076.000000</td>\n",
              "      <td>1076.000000</td>\n",
              "      <td>1076.000000</td>\n",
              "      <td>1076.000000</td>\n",
              "      <td>1076.000000</td>\n",
              "      <td>1076.000000</td>\n",
              "      <td>1076.000000</td>\n",
              "      <td>1076.000000</td>\n",
              "    </tr>\n",
              "    <tr>\n",
              "      <th>mean</th>\n",
              "      <td>192.961896</td>\n",
              "      <td>310.234201</td>\n",
              "      <td>252.071561</td>\n",
              "      <td>44.378253</td>\n",
              "      <td>97.671933</td>\n",
              "      <td>0.010223</td>\n",
              "      <td>8.462825</td>\n",
              "      <td>9259.941450</td>\n",
              "      <td>414.475836</td>\n",
              "      <td>5306.138476</td>\n",
              "      <td>...</td>\n",
              "      <td>948.105019</td>\n",
              "      <td>231.614312</td>\n",
              "      <td>11.164498</td>\n",
              "      <td>511.722119</td>\n",
              "      <td>10711.278810</td>\n",
              "      <td>653.557621</td>\n",
              "      <td>0.497212</td>\n",
              "      <td>11.101301</td>\n",
              "      <td>311.023234</td>\n",
              "      <td>241.618030</td>\n",
              "    </tr>\n",
              "    <tr>\n",
              "      <th>std</th>\n",
              "      <td>336.478377</td>\n",
              "      <td>450.406666</td>\n",
              "      <td>338.336917</td>\n",
              "      <td>140.473767</td>\n",
              "      <td>244.790073</td>\n",
              "      <td>0.335341</td>\n",
              "      <td>32.891527</td>\n",
              "      <td>17576.116124</td>\n",
              "      <td>616.965699</td>\n",
              "      <td>8980.099172</td>\n",
              "      <td>...</td>\n",
              "      <td>2062.429962</td>\n",
              "      <td>270.222243</td>\n",
              "      <td>49.822605</td>\n",
              "      <td>597.178197</td>\n",
              "      <td>39519.460758</td>\n",
              "      <td>1734.604124</td>\n",
              "      <td>4.142238</td>\n",
              "      <td>23.137525</td>\n",
              "      <td>673.775534</td>\n",
              "      <td>702.689785</td>\n",
              "    </tr>\n",
              "    <tr>\n",
              "      <th>min</th>\n",
              "      <td>-6.000000</td>\n",
              "      <td>0.000000</td>\n",
              "      <td>0.000000</td>\n",
              "      <td>0.000000</td>\n",
              "      <td>0.000000</td>\n",
              "      <td>0.000000</td>\n",
              "      <td>-1.000000</td>\n",
              "      <td>0.000000</td>\n",
              "      <td>0.000000</td>\n",
              "      <td>-12934.000000</td>\n",
              "      <td>...</td>\n",
              "      <td>-21.000000</td>\n",
              "      <td>0.000000</td>\n",
              "      <td>-7.000000</td>\n",
              "      <td>0.000000</td>\n",
              "      <td>0.000000</td>\n",
              "      <td>0.000000</td>\n",
              "      <td>0.000000</td>\n",
              "      <td>-1.000000</td>\n",
              "      <td>0.000000</td>\n",
              "      <td>-6.000000</td>\n",
              "    </tr>\n",
              "    <tr>\n",
              "      <th>25%</th>\n",
              "      <td>28.000000</td>\n",
              "      <td>18.000000</td>\n",
              "      <td>13.000000</td>\n",
              "      <td>0.000000</td>\n",
              "      <td>0.000000</td>\n",
              "      <td>0.000000</td>\n",
              "      <td>0.000000</td>\n",
              "      <td>0.000000</td>\n",
              "      <td>4.000000</td>\n",
              "      <td>252.750000</td>\n",
              "      <td>...</td>\n",
              "      <td>0.000000</td>\n",
              "      <td>27.000000</td>\n",
              "      <td>0.000000</td>\n",
              "      <td>29.000000</td>\n",
              "      <td>3.000000</td>\n",
              "      <td>0.000000</td>\n",
              "      <td>0.000000</td>\n",
              "      <td>0.000000</td>\n",
              "      <td>0.000000</td>\n",
              "      <td>1.000000</td>\n",
              "    </tr>\n",
              "    <tr>\n",
              "      <th>50%</th>\n",
              "      <td>77.000000</td>\n",
              "      <td>113.000000</td>\n",
              "      <td>149.500000</td>\n",
              "      <td>0.000000</td>\n",
              "      <td>27.000000</td>\n",
              "      <td>0.000000</td>\n",
              "      <td>0.000000</td>\n",
              "      <td>3463.500000</td>\n",
              "      <td>168.000000</td>\n",
              "      <td>1959.000000</td>\n",
              "      <td>...</td>\n",
              "      <td>87.000000</td>\n",
              "      <td>126.000000</td>\n",
              "      <td>0.000000</td>\n",
              "      <td>314.500000</td>\n",
              "      <td>309.000000</td>\n",
              "      <td>157.500000</td>\n",
              "      <td>0.000000</td>\n",
              "      <td>1.000000</td>\n",
              "      <td>54.000000</td>\n",
              "      <td>33.000000</td>\n",
              "    </tr>\n",
              "    <tr>\n",
              "      <th>75%</th>\n",
              "      <td>194.750000</td>\n",
              "      <td>495.000000</td>\n",
              "      <td>323.500000</td>\n",
              "      <td>37.000000</td>\n",
              "      <td>110.250000</td>\n",
              "      <td>0.000000</td>\n",
              "      <td>2.000000</td>\n",
              "      <td>11123.000000</td>\n",
              "      <td>544.750000</td>\n",
              "      <td>5551.750000</td>\n",
              "      <td>...</td>\n",
              "      <td>728.500000</td>\n",
              "      <td>352.500000</td>\n",
              "      <td>0.000000</td>\n",
              "      <td>864.750000</td>\n",
              "      <td>4363.000000</td>\n",
              "      <td>662.000000</td>\n",
              "      <td>0.000000</td>\n",
              "      <td>11.000000</td>\n",
              "      <td>251.250000</td>\n",
              "      <td>144.500000</td>\n",
              "    </tr>\n",
              "    <tr>\n",
              "      <th>max</th>\n",
              "      <td>3243.000000</td>\n",
              "      <td>4789.000000</td>\n",
              "      <td>2521.000000</td>\n",
              "      <td>2313.000000</td>\n",
              "      <td>5035.000000</td>\n",
              "      <td>11.000000</td>\n",
              "      <td>468.000000</td>\n",
              "      <td>139853.000000</td>\n",
              "      <td>4388.000000</td>\n",
              "      <td>64038.000000</td>\n",
              "      <td>...</td>\n",
              "      <td>13612.000000</td>\n",
              "      <td>1478.000000</td>\n",
              "      <td>616.000000</td>\n",
              "      <td>4418.000000</td>\n",
              "      <td>454212.000000</td>\n",
              "      <td>30356.000000</td>\n",
              "      <td>72.000000</td>\n",
              "      <td>287.000000</td>\n",
              "      <td>5555.000000</td>\n",
              "      <td>9185.000000</td>\n",
              "    </tr>\n",
              "  </tbody>\n",
              "</table>\n",
              "<p>8 rows × 198 columns</p>\n",
              "</div>\n",
              "      <button class=\"colab-df-convert\" onclick=\"convertToInteractive('df-6747673c-771f-4df4-95a1-e76e4f915fda')\"\n",
              "              title=\"Convert this dataframe to an interactive table.\"\n",
              "              style=\"display:none;\">\n",
              "        \n",
              "  <svg xmlns=\"http://www.w3.org/2000/svg\" height=\"24px\"viewBox=\"0 0 24 24\"\n",
              "       width=\"24px\">\n",
              "    <path d=\"M0 0h24v24H0V0z\" fill=\"none\"/>\n",
              "    <path d=\"M18.56 5.44l.94 2.06.94-2.06 2.06-.94-2.06-.94-.94-2.06-.94 2.06-2.06.94zm-11 1L8.5 8.5l.94-2.06 2.06-.94-2.06-.94L8.5 2.5l-.94 2.06-2.06.94zm10 10l.94 2.06.94-2.06 2.06-.94-2.06-.94-.94-2.06-.94 2.06-2.06.94z\"/><path d=\"M17.41 7.96l-1.37-1.37c-.4-.4-.92-.59-1.43-.59-.52 0-1.04.2-1.43.59L10.3 9.45l-7.72 7.72c-.78.78-.78 2.05 0 2.83L4 21.41c.39.39.9.59 1.41.59.51 0 1.02-.2 1.41-.59l7.78-7.78 2.81-2.81c.8-.78.8-2.07 0-2.86zM5.41 20L4 18.59l7.72-7.72 1.47 1.35L5.41 20z\"/>\n",
              "  </svg>\n",
              "      </button>\n",
              "      \n",
              "  <style>\n",
              "    .colab-df-container {\n",
              "      display:flex;\n",
              "      flex-wrap:wrap;\n",
              "      gap: 12px;\n",
              "    }\n",
              "\n",
              "    .colab-df-convert {\n",
              "      background-color: #E8F0FE;\n",
              "      border: none;\n",
              "      border-radius: 50%;\n",
              "      cursor: pointer;\n",
              "      display: none;\n",
              "      fill: #1967D2;\n",
              "      height: 32px;\n",
              "      padding: 0 0 0 0;\n",
              "      width: 32px;\n",
              "    }\n",
              "\n",
              "    .colab-df-convert:hover {\n",
              "      background-color: #E2EBFA;\n",
              "      box-shadow: 0px 1px 2px rgba(60, 64, 67, 0.3), 0px 1px 3px 1px rgba(60, 64, 67, 0.15);\n",
              "      fill: #174EA6;\n",
              "    }\n",
              "\n",
              "    [theme=dark] .colab-df-convert {\n",
              "      background-color: #3B4455;\n",
              "      fill: #D2E3FC;\n",
              "    }\n",
              "\n",
              "    [theme=dark] .colab-df-convert:hover {\n",
              "      background-color: #434B5C;\n",
              "      box-shadow: 0px 1px 3px 1px rgba(0, 0, 0, 0.15);\n",
              "      filter: drop-shadow(0px 1px 2px rgba(0, 0, 0, 0.3));\n",
              "      fill: #FFFFFF;\n",
              "    }\n",
              "  </style>\n",
              "\n",
              "      <script>\n",
              "        const buttonEl =\n",
              "          document.querySelector('#df-6747673c-771f-4df4-95a1-e76e4f915fda button.colab-df-convert');\n",
              "        buttonEl.style.display =\n",
              "          google.colab.kernel.accessAllowed ? 'block' : 'none';\n",
              "\n",
              "        async function convertToInteractive(key) {\n",
              "          const element = document.querySelector('#df-6747673c-771f-4df4-95a1-e76e4f915fda');\n",
              "          const dataTable =\n",
              "            await google.colab.kernel.invokeFunction('convertToInteractive',\n",
              "                                                     [key], {});\n",
              "          if (!dataTable) return;\n",
              "\n",
              "          const docLinkHtml = 'Like what you see? Visit the ' +\n",
              "            '<a target=\"_blank\" href=https://colab.research.google.com/notebooks/data_table.ipynb>data table notebook</a>'\n",
              "            + ' to learn more about interactive tables.';\n",
              "          element.innerHTML = '';\n",
              "          dataTable['output_type'] = 'display_data';\n",
              "          await google.colab.output.renderOutput(dataTable, element);\n",
              "          const docLink = document.createElement('div');\n",
              "          docLink.innerHTML = docLinkHtml;\n",
              "          element.appendChild(docLink);\n",
              "        }\n",
              "      </script>\n",
              "    </div>\n",
              "  </div>\n",
              "  "
            ]
          },
          "metadata": {},
          "execution_count": 15
        }
      ]
    },
    {
      "cell_type": "markdown",
      "source": [
        "**Global Deaths**"
      ],
      "metadata": {
        "id": "BoKN8LOZBLAj"
      }
    },
    {
      "cell_type": "code",
      "source": [
        "Global_Deaths.head()"
      ],
      "metadata": {
        "colab": {
          "base_uri": "https://localhost:8080/",
          "height": 352
        },
        "id": "hlbQNzpJBNRH",
        "outputId": "622dfb60-3f13-4e20-ec74-ef9b3465b1bb"
      },
      "execution_count": 5,
      "outputs": [
        {
          "output_type": "execute_result",
          "data": {
            "text/plain": [
              "   Country/Region  Afghanistan  Albania  Algeria  Andorra  Angola  Antarctica  \\\n",
              "0  Province/State          NaN      NaN      NaN      NaN     NaN         NaN   \n",
              "1         1/23/20          0.0      0.0      0.0      0.0     0.0         0.0   \n",
              "2         1/24/20          0.0      0.0      0.0      0.0     0.0         0.0   \n",
              "3         1/25/20          0.0      0.0      0.0      0.0     0.0         0.0   \n",
              "4         1/26/20          0.0      0.0      0.0      0.0     0.0         0.0   \n",
              "\n",
              "   Antigua and Barbuda  Argentina  Armenia  ... Uruguay Uzbekistan Vanuatu  \\\n",
              "0                  NaN        NaN      NaN  ...     NaN        NaN     NaN   \n",
              "1                  0.0        0.0      0.0  ...     0.0        0.0     0.0   \n",
              "2                  0.0        0.0      0.0  ...     0.0        0.0     0.0   \n",
              "3                  0.0        0.0      0.0  ...     0.0        0.0     0.0   \n",
              "4                  0.0        0.0      0.0  ...     0.0        0.0     0.0   \n",
              "\n",
              "  Venezuela Vietnam West Bank and Gaza Winter Olympics 2022 Yemen  Zambia  \\\n",
              "0       NaN     NaN                NaN                  NaN   NaN     NaN   \n",
              "1       0.0     0.0                0.0                  0.0   0.0     0.0   \n",
              "2       0.0     0.0                0.0                  0.0   0.0     0.0   \n",
              "3       0.0     0.0                0.0                  0.0   0.0     0.0   \n",
              "4       0.0     0.0                0.0                  0.0   0.0     0.0   \n",
              "\n",
              "   Zimbabwe  \n",
              "0       NaN  \n",
              "1       0.0  \n",
              "2       0.0  \n",
              "3       0.0  \n",
              "4       0.0  \n",
              "\n",
              "[5 rows x 290 columns]"
            ],
            "text/html": [
              "\n",
              "  <div id=\"df-1fb79eec-0e2d-4b53-8c0d-a668a8771f00\">\n",
              "    <div class=\"colab-df-container\">\n",
              "      <div>\n",
              "<style scoped>\n",
              "    .dataframe tbody tr th:only-of-type {\n",
              "        vertical-align: middle;\n",
              "    }\n",
              "\n",
              "    .dataframe tbody tr th {\n",
              "        vertical-align: top;\n",
              "    }\n",
              "\n",
              "    .dataframe thead th {\n",
              "        text-align: right;\n",
              "    }\n",
              "</style>\n",
              "<table border=\"1\" class=\"dataframe\">\n",
              "  <thead>\n",
              "    <tr style=\"text-align: right;\">\n",
              "      <th></th>\n",
              "      <th>Country/Region</th>\n",
              "      <th>Afghanistan</th>\n",
              "      <th>Albania</th>\n",
              "      <th>Algeria</th>\n",
              "      <th>Andorra</th>\n",
              "      <th>Angola</th>\n",
              "      <th>Antarctica</th>\n",
              "      <th>Antigua and Barbuda</th>\n",
              "      <th>Argentina</th>\n",
              "      <th>Armenia</th>\n",
              "      <th>...</th>\n",
              "      <th>Uruguay</th>\n",
              "      <th>Uzbekistan</th>\n",
              "      <th>Vanuatu</th>\n",
              "      <th>Venezuela</th>\n",
              "      <th>Vietnam</th>\n",
              "      <th>West Bank and Gaza</th>\n",
              "      <th>Winter Olympics 2022</th>\n",
              "      <th>Yemen</th>\n",
              "      <th>Zambia</th>\n",
              "      <th>Zimbabwe</th>\n",
              "    </tr>\n",
              "  </thead>\n",
              "  <tbody>\n",
              "    <tr>\n",
              "      <th>0</th>\n",
              "      <td>Province/State</td>\n",
              "      <td>NaN</td>\n",
              "      <td>NaN</td>\n",
              "      <td>NaN</td>\n",
              "      <td>NaN</td>\n",
              "      <td>NaN</td>\n",
              "      <td>NaN</td>\n",
              "      <td>NaN</td>\n",
              "      <td>NaN</td>\n",
              "      <td>NaN</td>\n",
              "      <td>...</td>\n",
              "      <td>NaN</td>\n",
              "      <td>NaN</td>\n",
              "      <td>NaN</td>\n",
              "      <td>NaN</td>\n",
              "      <td>NaN</td>\n",
              "      <td>NaN</td>\n",
              "      <td>NaN</td>\n",
              "      <td>NaN</td>\n",
              "      <td>NaN</td>\n",
              "      <td>NaN</td>\n",
              "    </tr>\n",
              "    <tr>\n",
              "      <th>1</th>\n",
              "      <td>1/23/20</td>\n",
              "      <td>0.0</td>\n",
              "      <td>0.0</td>\n",
              "      <td>0.0</td>\n",
              "      <td>0.0</td>\n",
              "      <td>0.0</td>\n",
              "      <td>0.0</td>\n",
              "      <td>0.0</td>\n",
              "      <td>0.0</td>\n",
              "      <td>0.0</td>\n",
              "      <td>...</td>\n",
              "      <td>0.0</td>\n",
              "      <td>0.0</td>\n",
              "      <td>0.0</td>\n",
              "      <td>0.0</td>\n",
              "      <td>0.0</td>\n",
              "      <td>0.0</td>\n",
              "      <td>0.0</td>\n",
              "      <td>0.0</td>\n",
              "      <td>0.0</td>\n",
              "      <td>0.0</td>\n",
              "    </tr>\n",
              "    <tr>\n",
              "      <th>2</th>\n",
              "      <td>1/24/20</td>\n",
              "      <td>0.0</td>\n",
              "      <td>0.0</td>\n",
              "      <td>0.0</td>\n",
              "      <td>0.0</td>\n",
              "      <td>0.0</td>\n",
              "      <td>0.0</td>\n",
              "      <td>0.0</td>\n",
              "      <td>0.0</td>\n",
              "      <td>0.0</td>\n",
              "      <td>...</td>\n",
              "      <td>0.0</td>\n",
              "      <td>0.0</td>\n",
              "      <td>0.0</td>\n",
              "      <td>0.0</td>\n",
              "      <td>0.0</td>\n",
              "      <td>0.0</td>\n",
              "      <td>0.0</td>\n",
              "      <td>0.0</td>\n",
              "      <td>0.0</td>\n",
              "      <td>0.0</td>\n",
              "    </tr>\n",
              "    <tr>\n",
              "      <th>3</th>\n",
              "      <td>1/25/20</td>\n",
              "      <td>0.0</td>\n",
              "      <td>0.0</td>\n",
              "      <td>0.0</td>\n",
              "      <td>0.0</td>\n",
              "      <td>0.0</td>\n",
              "      <td>0.0</td>\n",
              "      <td>0.0</td>\n",
              "      <td>0.0</td>\n",
              "      <td>0.0</td>\n",
              "      <td>...</td>\n",
              "      <td>0.0</td>\n",
              "      <td>0.0</td>\n",
              "      <td>0.0</td>\n",
              "      <td>0.0</td>\n",
              "      <td>0.0</td>\n",
              "      <td>0.0</td>\n",
              "      <td>0.0</td>\n",
              "      <td>0.0</td>\n",
              "      <td>0.0</td>\n",
              "      <td>0.0</td>\n",
              "    </tr>\n",
              "    <tr>\n",
              "      <th>4</th>\n",
              "      <td>1/26/20</td>\n",
              "      <td>0.0</td>\n",
              "      <td>0.0</td>\n",
              "      <td>0.0</td>\n",
              "      <td>0.0</td>\n",
              "      <td>0.0</td>\n",
              "      <td>0.0</td>\n",
              "      <td>0.0</td>\n",
              "      <td>0.0</td>\n",
              "      <td>0.0</td>\n",
              "      <td>...</td>\n",
              "      <td>0.0</td>\n",
              "      <td>0.0</td>\n",
              "      <td>0.0</td>\n",
              "      <td>0.0</td>\n",
              "      <td>0.0</td>\n",
              "      <td>0.0</td>\n",
              "      <td>0.0</td>\n",
              "      <td>0.0</td>\n",
              "      <td>0.0</td>\n",
              "      <td>0.0</td>\n",
              "    </tr>\n",
              "  </tbody>\n",
              "</table>\n",
              "<p>5 rows × 290 columns</p>\n",
              "</div>\n",
              "      <button class=\"colab-df-convert\" onclick=\"convertToInteractive('df-1fb79eec-0e2d-4b53-8c0d-a668a8771f00')\"\n",
              "              title=\"Convert this dataframe to an interactive table.\"\n",
              "              style=\"display:none;\">\n",
              "        \n",
              "  <svg xmlns=\"http://www.w3.org/2000/svg\" height=\"24px\"viewBox=\"0 0 24 24\"\n",
              "       width=\"24px\">\n",
              "    <path d=\"M0 0h24v24H0V0z\" fill=\"none\"/>\n",
              "    <path d=\"M18.56 5.44l.94 2.06.94-2.06 2.06-.94-2.06-.94-.94-2.06-.94 2.06-2.06.94zm-11 1L8.5 8.5l.94-2.06 2.06-.94-2.06-.94L8.5 2.5l-.94 2.06-2.06.94zm10 10l.94 2.06.94-2.06 2.06-.94-2.06-.94-.94-2.06-.94 2.06-2.06.94z\"/><path d=\"M17.41 7.96l-1.37-1.37c-.4-.4-.92-.59-1.43-.59-.52 0-1.04.2-1.43.59L10.3 9.45l-7.72 7.72c-.78.78-.78 2.05 0 2.83L4 21.41c.39.39.9.59 1.41.59.51 0 1.02-.2 1.41-.59l7.78-7.78 2.81-2.81c.8-.78.8-2.07 0-2.86zM5.41 20L4 18.59l7.72-7.72 1.47 1.35L5.41 20z\"/>\n",
              "  </svg>\n",
              "      </button>\n",
              "      \n",
              "  <style>\n",
              "    .colab-df-container {\n",
              "      display:flex;\n",
              "      flex-wrap:wrap;\n",
              "      gap: 12px;\n",
              "    }\n",
              "\n",
              "    .colab-df-convert {\n",
              "      background-color: #E8F0FE;\n",
              "      border: none;\n",
              "      border-radius: 50%;\n",
              "      cursor: pointer;\n",
              "      display: none;\n",
              "      fill: #1967D2;\n",
              "      height: 32px;\n",
              "      padding: 0 0 0 0;\n",
              "      width: 32px;\n",
              "    }\n",
              "\n",
              "    .colab-df-convert:hover {\n",
              "      background-color: #E2EBFA;\n",
              "      box-shadow: 0px 1px 2px rgba(60, 64, 67, 0.3), 0px 1px 3px 1px rgba(60, 64, 67, 0.15);\n",
              "      fill: #174EA6;\n",
              "    }\n",
              "\n",
              "    [theme=dark] .colab-df-convert {\n",
              "      background-color: #3B4455;\n",
              "      fill: #D2E3FC;\n",
              "    }\n",
              "\n",
              "    [theme=dark] .colab-df-convert:hover {\n",
              "      background-color: #434B5C;\n",
              "      box-shadow: 0px 1px 3px 1px rgba(0, 0, 0, 0.15);\n",
              "      filter: drop-shadow(0px 1px 2px rgba(0, 0, 0, 0.3));\n",
              "      fill: #FFFFFF;\n",
              "    }\n",
              "  </style>\n",
              "\n",
              "      <script>\n",
              "        const buttonEl =\n",
              "          document.querySelector('#df-1fb79eec-0e2d-4b53-8c0d-a668a8771f00 button.colab-df-convert');\n",
              "        buttonEl.style.display =\n",
              "          google.colab.kernel.accessAllowed ? 'block' : 'none';\n",
              "\n",
              "        async function convertToInteractive(key) {\n",
              "          const element = document.querySelector('#df-1fb79eec-0e2d-4b53-8c0d-a668a8771f00');\n",
              "          const dataTable =\n",
              "            await google.colab.kernel.invokeFunction('convertToInteractive',\n",
              "                                                     [key], {});\n",
              "          if (!dataTable) return;\n",
              "\n",
              "          const docLinkHtml = 'Like what you see? Visit the ' +\n",
              "            '<a target=\"_blank\" href=https://colab.research.google.com/notebooks/data_table.ipynb>data table notebook</a>'\n",
              "            + ' to learn more about interactive tables.';\n",
              "          element.innerHTML = '';\n",
              "          dataTable['output_type'] = 'display_data';\n",
              "          await google.colab.output.renderOutput(dataTable, element);\n",
              "          const docLink = document.createElement('div');\n",
              "          docLink.innerHTML = docLinkHtml;\n",
              "          element.appendChild(docLink);\n",
              "        }\n",
              "      </script>\n",
              "    </div>\n",
              "  </div>\n",
              "  "
            ]
          },
          "metadata": {},
          "execution_count": 5
        }
      ]
    },
    {
      "cell_type": "code",
      "source": [
        "# Printing the shape of the data\n",
        "print(\"The covid-19 confirmed deaths dataset has\",Global_Deaths.shape[0], 'rows and',Global_Deaths.shape[1],'columns')"
      ],
      "metadata": {
        "id": "dMknSWTB_oye",
        "outputId": "05647fb2-d320-4298-8376-561dbc266d3a",
        "colab": {
          "base_uri": "https://localhost:8080/"
        }
      },
      "execution_count": 13,
      "outputs": [
        {
          "output_type": "stream",
          "name": "stdout",
          "text": [
            "The covid-19 confirmed deaths dataset has 1077 rows and 290 columns\n"
          ]
        }
      ]
    },
    {
      "cell_type": "code",
      "source": [
        "# Getting the different data types of the columns\n",
        "Global_Deaths.dtypes"
      ],
      "metadata": {
        "id": "Qguz-OvA_y8r",
        "outputId": "773d9dba-2140-493d-b266-df789ee9070b",
        "colab": {
          "base_uri": "https://localhost:8080/"
        }
      },
      "execution_count": 14,
      "outputs": [
        {
          "output_type": "execute_result",
          "data": {
            "text/plain": [
              "Country/Region           object\n",
              "Afghanistan             float64\n",
              "Albania                 float64\n",
              "Algeria                 float64\n",
              "Andorra                 float64\n",
              "                         ...   \n",
              "West Bank and Gaza      float64\n",
              "Winter Olympics 2022    float64\n",
              "Yemen                   float64\n",
              "Zambia                  float64\n",
              "Zimbabwe                float64\n",
              "Length: 290, dtype: object"
            ]
          },
          "metadata": {},
          "execution_count": 14
        }
      ]
    },
    {
      "cell_type": "code",
      "source": [
        "# Data descriptive statistics\n",
        "Global_Deaths.describe()"
      ],
      "metadata": {
        "id": "evy7ow3PBuxu",
        "outputId": "b715a303-9ff3-41d3-f231-f438606af7a9",
        "colab": {
          "base_uri": "https://localhost:8080/",
          "height": 428
        }
      },
      "execution_count": 16,
      "outputs": [
        {
          "output_type": "execute_result",
          "data": {
            "text/plain": [
              "       Afghanistan      Albania      Algeria      Andorra       Angola  \\\n",
              "count  1076.000000  1076.000000  1076.000000  1076.000000  1076.000000   \n",
              "mean      7.294610     3.341078     6.394981     0.153346     1.793680   \n",
              "std      16.033152     4.534501     7.528373     0.547041     3.110402   \n",
              "min       0.000000     0.000000     0.000000    -2.000000    -3.000000   \n",
              "25%       0.000000     0.000000     0.000000     0.000000     0.000000   \n",
              "50%       2.000000     1.000000     5.000000     0.000000     0.000000   \n",
              "75%       6.000000     5.000000     9.000000     0.000000     3.000000   \n",
              "max     159.000000    21.000000    49.000000     7.000000    30.000000   \n",
              "\n",
              "       Antarctica  Antigua and Barbuda    Argentina      Armenia      Austria  \\\n",
              "count      1076.0          1076.000000  1076.000000  1076.000000  1076.000000   \n",
              "mean          0.0             0.135688   120.976766     8.100372    19.929368   \n",
              "std           0.0             0.730842   185.257629    10.942350    26.740799   \n",
              "min           0.0             0.000000     0.000000    -2.000000   -81.000000   \n",
              "25%           0.0             0.000000     0.000000     0.000000     3.000000   \n",
              "50%           0.0             0.000000    43.000000     4.000000    10.000000   \n",
              "75%           0.0             0.000000   179.250000    12.000000    29.000000   \n",
              "max           0.0            12.000000  3351.000000    70.000000   145.000000   \n",
              "\n",
              "       ...      Uruguay   Uzbekistan      Vanuatu    Venezuela      Vietnam  \\\n",
              "count  ...  1076.000000  1076.000000  1076.000000  1076.000000  1076.000000   \n",
              "mean   ...     7.035316     1.521375     0.013011     5.420074    40.135688   \n",
              "std    ...    14.825956     2.125922     0.182535     6.840789    91.328837   \n",
              "min    ...     0.000000     0.000000     0.000000    -6.000000    -3.000000   \n",
              "25%    ...     0.000000     0.000000     0.000000     0.000000     0.000000   \n",
              "50%    ...     1.000000     0.000000     0.000000     3.000000     0.000000   \n",
              "75%    ...     6.000000     3.000000     0.000000     8.000000     7.250000   \n",
              "max    ...    88.000000     9.000000     5.000000    35.000000   804.000000   \n",
              "\n",
              "       West Bank and Gaza  Winter Olympics 2022        Yemen       Zambia  \\\n",
              "count         1076.000000                1076.0  1076.000000  1076.000000   \n",
              "mean             5.304833                   0.0     2.006506     3.739777   \n",
              "std             11.250551                   0.0     4.493608     9.838186   \n",
              "min              0.000000                   0.0     0.000000     0.000000   \n",
              "25%              0.000000                   0.0     0.000000     0.000000   \n",
              "50%              1.000000                   0.0     0.000000     0.000000   \n",
              "75%              7.000000                   0.0     2.000000     3.000000   \n",
              "max            268.000000                   0.0    60.000000    72.000000   \n",
              "\n",
              "          Zimbabwe  \n",
              "count  1076.000000  \n",
              "mean      5.238848  \n",
              "std      12.962257  \n",
              "min       0.000000  \n",
              "25%       0.000000  \n",
              "50%       1.000000  \n",
              "75%       3.000000  \n",
              "max     107.000000  \n",
              "\n",
              "[8 rows x 198 columns]"
            ],
            "text/html": [
              "\n",
              "  <div id=\"df-3fecc1a8-8175-4fee-b889-9cf6227ad8a1\">\n",
              "    <div class=\"colab-df-container\">\n",
              "      <div>\n",
              "<style scoped>\n",
              "    .dataframe tbody tr th:only-of-type {\n",
              "        vertical-align: middle;\n",
              "    }\n",
              "\n",
              "    .dataframe tbody tr th {\n",
              "        vertical-align: top;\n",
              "    }\n",
              "\n",
              "    .dataframe thead th {\n",
              "        text-align: right;\n",
              "    }\n",
              "</style>\n",
              "<table border=\"1\" class=\"dataframe\">\n",
              "  <thead>\n",
              "    <tr style=\"text-align: right;\">\n",
              "      <th></th>\n",
              "      <th>Afghanistan</th>\n",
              "      <th>Albania</th>\n",
              "      <th>Algeria</th>\n",
              "      <th>Andorra</th>\n",
              "      <th>Angola</th>\n",
              "      <th>Antarctica</th>\n",
              "      <th>Antigua and Barbuda</th>\n",
              "      <th>Argentina</th>\n",
              "      <th>Armenia</th>\n",
              "      <th>Austria</th>\n",
              "      <th>...</th>\n",
              "      <th>Uruguay</th>\n",
              "      <th>Uzbekistan</th>\n",
              "      <th>Vanuatu</th>\n",
              "      <th>Venezuela</th>\n",
              "      <th>Vietnam</th>\n",
              "      <th>West Bank and Gaza</th>\n",
              "      <th>Winter Olympics 2022</th>\n",
              "      <th>Yemen</th>\n",
              "      <th>Zambia</th>\n",
              "      <th>Zimbabwe</th>\n",
              "    </tr>\n",
              "  </thead>\n",
              "  <tbody>\n",
              "    <tr>\n",
              "      <th>count</th>\n",
              "      <td>1076.000000</td>\n",
              "      <td>1076.000000</td>\n",
              "      <td>1076.000000</td>\n",
              "      <td>1076.000000</td>\n",
              "      <td>1076.000000</td>\n",
              "      <td>1076.0</td>\n",
              "      <td>1076.000000</td>\n",
              "      <td>1076.000000</td>\n",
              "      <td>1076.000000</td>\n",
              "      <td>1076.000000</td>\n",
              "      <td>...</td>\n",
              "      <td>1076.000000</td>\n",
              "      <td>1076.000000</td>\n",
              "      <td>1076.000000</td>\n",
              "      <td>1076.000000</td>\n",
              "      <td>1076.000000</td>\n",
              "      <td>1076.000000</td>\n",
              "      <td>1076.0</td>\n",
              "      <td>1076.000000</td>\n",
              "      <td>1076.000000</td>\n",
              "      <td>1076.000000</td>\n",
              "    </tr>\n",
              "    <tr>\n",
              "      <th>mean</th>\n",
              "      <td>7.294610</td>\n",
              "      <td>3.341078</td>\n",
              "      <td>6.394981</td>\n",
              "      <td>0.153346</td>\n",
              "      <td>1.793680</td>\n",
              "      <td>0.0</td>\n",
              "      <td>0.135688</td>\n",
              "      <td>120.976766</td>\n",
              "      <td>8.100372</td>\n",
              "      <td>19.929368</td>\n",
              "      <td>...</td>\n",
              "      <td>7.035316</td>\n",
              "      <td>1.521375</td>\n",
              "      <td>0.013011</td>\n",
              "      <td>5.420074</td>\n",
              "      <td>40.135688</td>\n",
              "      <td>5.304833</td>\n",
              "      <td>0.0</td>\n",
              "      <td>2.006506</td>\n",
              "      <td>3.739777</td>\n",
              "      <td>5.238848</td>\n",
              "    </tr>\n",
              "    <tr>\n",
              "      <th>std</th>\n",
              "      <td>16.033152</td>\n",
              "      <td>4.534501</td>\n",
              "      <td>7.528373</td>\n",
              "      <td>0.547041</td>\n",
              "      <td>3.110402</td>\n",
              "      <td>0.0</td>\n",
              "      <td>0.730842</td>\n",
              "      <td>185.257629</td>\n",
              "      <td>10.942350</td>\n",
              "      <td>26.740799</td>\n",
              "      <td>...</td>\n",
              "      <td>14.825956</td>\n",
              "      <td>2.125922</td>\n",
              "      <td>0.182535</td>\n",
              "      <td>6.840789</td>\n",
              "      <td>91.328837</td>\n",
              "      <td>11.250551</td>\n",
              "      <td>0.0</td>\n",
              "      <td>4.493608</td>\n",
              "      <td>9.838186</td>\n",
              "      <td>12.962257</td>\n",
              "    </tr>\n",
              "    <tr>\n",
              "      <th>min</th>\n",
              "      <td>0.000000</td>\n",
              "      <td>0.000000</td>\n",
              "      <td>0.000000</td>\n",
              "      <td>-2.000000</td>\n",
              "      <td>-3.000000</td>\n",
              "      <td>0.0</td>\n",
              "      <td>0.000000</td>\n",
              "      <td>0.000000</td>\n",
              "      <td>-2.000000</td>\n",
              "      <td>-81.000000</td>\n",
              "      <td>...</td>\n",
              "      <td>0.000000</td>\n",
              "      <td>0.000000</td>\n",
              "      <td>0.000000</td>\n",
              "      <td>-6.000000</td>\n",
              "      <td>-3.000000</td>\n",
              "      <td>0.000000</td>\n",
              "      <td>0.0</td>\n",
              "      <td>0.000000</td>\n",
              "      <td>0.000000</td>\n",
              "      <td>0.000000</td>\n",
              "    </tr>\n",
              "    <tr>\n",
              "      <th>25%</th>\n",
              "      <td>0.000000</td>\n",
              "      <td>0.000000</td>\n",
              "      <td>0.000000</td>\n",
              "      <td>0.000000</td>\n",
              "      <td>0.000000</td>\n",
              "      <td>0.0</td>\n",
              "      <td>0.000000</td>\n",
              "      <td>0.000000</td>\n",
              "      <td>0.000000</td>\n",
              "      <td>3.000000</td>\n",
              "      <td>...</td>\n",
              "      <td>0.000000</td>\n",
              "      <td>0.000000</td>\n",
              "      <td>0.000000</td>\n",
              "      <td>0.000000</td>\n",
              "      <td>0.000000</td>\n",
              "      <td>0.000000</td>\n",
              "      <td>0.0</td>\n",
              "      <td>0.000000</td>\n",
              "      <td>0.000000</td>\n",
              "      <td>0.000000</td>\n",
              "    </tr>\n",
              "    <tr>\n",
              "      <th>50%</th>\n",
              "      <td>2.000000</td>\n",
              "      <td>1.000000</td>\n",
              "      <td>5.000000</td>\n",
              "      <td>0.000000</td>\n",
              "      <td>0.000000</td>\n",
              "      <td>0.0</td>\n",
              "      <td>0.000000</td>\n",
              "      <td>43.000000</td>\n",
              "      <td>4.000000</td>\n",
              "      <td>10.000000</td>\n",
              "      <td>...</td>\n",
              "      <td>1.000000</td>\n",
              "      <td>0.000000</td>\n",
              "      <td>0.000000</td>\n",
              "      <td>3.000000</td>\n",
              "      <td>0.000000</td>\n",
              "      <td>1.000000</td>\n",
              "      <td>0.0</td>\n",
              "      <td>0.000000</td>\n",
              "      <td>0.000000</td>\n",
              "      <td>1.000000</td>\n",
              "    </tr>\n",
              "    <tr>\n",
              "      <th>75%</th>\n",
              "      <td>6.000000</td>\n",
              "      <td>5.000000</td>\n",
              "      <td>9.000000</td>\n",
              "      <td>0.000000</td>\n",
              "      <td>3.000000</td>\n",
              "      <td>0.0</td>\n",
              "      <td>0.000000</td>\n",
              "      <td>179.250000</td>\n",
              "      <td>12.000000</td>\n",
              "      <td>29.000000</td>\n",
              "      <td>...</td>\n",
              "      <td>6.000000</td>\n",
              "      <td>3.000000</td>\n",
              "      <td>0.000000</td>\n",
              "      <td>8.000000</td>\n",
              "      <td>7.250000</td>\n",
              "      <td>7.000000</td>\n",
              "      <td>0.0</td>\n",
              "      <td>2.000000</td>\n",
              "      <td>3.000000</td>\n",
              "      <td>3.000000</td>\n",
              "    </tr>\n",
              "    <tr>\n",
              "      <th>max</th>\n",
              "      <td>159.000000</td>\n",
              "      <td>21.000000</td>\n",
              "      <td>49.000000</td>\n",
              "      <td>7.000000</td>\n",
              "      <td>30.000000</td>\n",
              "      <td>0.0</td>\n",
              "      <td>12.000000</td>\n",
              "      <td>3351.000000</td>\n",
              "      <td>70.000000</td>\n",
              "      <td>145.000000</td>\n",
              "      <td>...</td>\n",
              "      <td>88.000000</td>\n",
              "      <td>9.000000</td>\n",
              "      <td>5.000000</td>\n",
              "      <td>35.000000</td>\n",
              "      <td>804.000000</td>\n",
              "      <td>268.000000</td>\n",
              "      <td>0.0</td>\n",
              "      <td>60.000000</td>\n",
              "      <td>72.000000</td>\n",
              "      <td>107.000000</td>\n",
              "    </tr>\n",
              "  </tbody>\n",
              "</table>\n",
              "<p>8 rows × 198 columns</p>\n",
              "</div>\n",
              "      <button class=\"colab-df-convert\" onclick=\"convertToInteractive('df-3fecc1a8-8175-4fee-b889-9cf6227ad8a1')\"\n",
              "              title=\"Convert this dataframe to an interactive table.\"\n",
              "              style=\"display:none;\">\n",
              "        \n",
              "  <svg xmlns=\"http://www.w3.org/2000/svg\" height=\"24px\"viewBox=\"0 0 24 24\"\n",
              "       width=\"24px\">\n",
              "    <path d=\"M0 0h24v24H0V0z\" fill=\"none\"/>\n",
              "    <path d=\"M18.56 5.44l.94 2.06.94-2.06 2.06-.94-2.06-.94-.94-2.06-.94 2.06-2.06.94zm-11 1L8.5 8.5l.94-2.06 2.06-.94-2.06-.94L8.5 2.5l-.94 2.06-2.06.94zm10 10l.94 2.06.94-2.06 2.06-.94-2.06-.94-.94-2.06-.94 2.06-2.06.94z\"/><path d=\"M17.41 7.96l-1.37-1.37c-.4-.4-.92-.59-1.43-.59-.52 0-1.04.2-1.43.59L10.3 9.45l-7.72 7.72c-.78.78-.78 2.05 0 2.83L4 21.41c.39.39.9.59 1.41.59.51 0 1.02-.2 1.41-.59l7.78-7.78 2.81-2.81c.8-.78.8-2.07 0-2.86zM5.41 20L4 18.59l7.72-7.72 1.47 1.35L5.41 20z\"/>\n",
              "  </svg>\n",
              "      </button>\n",
              "      \n",
              "  <style>\n",
              "    .colab-df-container {\n",
              "      display:flex;\n",
              "      flex-wrap:wrap;\n",
              "      gap: 12px;\n",
              "    }\n",
              "\n",
              "    .colab-df-convert {\n",
              "      background-color: #E8F0FE;\n",
              "      border: none;\n",
              "      border-radius: 50%;\n",
              "      cursor: pointer;\n",
              "      display: none;\n",
              "      fill: #1967D2;\n",
              "      height: 32px;\n",
              "      padding: 0 0 0 0;\n",
              "      width: 32px;\n",
              "    }\n",
              "\n",
              "    .colab-df-convert:hover {\n",
              "      background-color: #E2EBFA;\n",
              "      box-shadow: 0px 1px 2px rgba(60, 64, 67, 0.3), 0px 1px 3px 1px rgba(60, 64, 67, 0.15);\n",
              "      fill: #174EA6;\n",
              "    }\n",
              "\n",
              "    [theme=dark] .colab-df-convert {\n",
              "      background-color: #3B4455;\n",
              "      fill: #D2E3FC;\n",
              "    }\n",
              "\n",
              "    [theme=dark] .colab-df-convert:hover {\n",
              "      background-color: #434B5C;\n",
              "      box-shadow: 0px 1px 3px 1px rgba(0, 0, 0, 0.15);\n",
              "      filter: drop-shadow(0px 1px 2px rgba(0, 0, 0, 0.3));\n",
              "      fill: #FFFFFF;\n",
              "    }\n",
              "  </style>\n",
              "\n",
              "      <script>\n",
              "        const buttonEl =\n",
              "          document.querySelector('#df-3fecc1a8-8175-4fee-b889-9cf6227ad8a1 button.colab-df-convert');\n",
              "        buttonEl.style.display =\n",
              "          google.colab.kernel.accessAllowed ? 'block' : 'none';\n",
              "\n",
              "        async function convertToInteractive(key) {\n",
              "          const element = document.querySelector('#df-3fecc1a8-8175-4fee-b889-9cf6227ad8a1');\n",
              "          const dataTable =\n",
              "            await google.colab.kernel.invokeFunction('convertToInteractive',\n",
              "                                                     [key], {});\n",
              "          if (!dataTable) return;\n",
              "\n",
              "          const docLinkHtml = 'Like what you see? Visit the ' +\n",
              "            '<a target=\"_blank\" href=https://colab.research.google.com/notebooks/data_table.ipynb>data table notebook</a>'\n",
              "            + ' to learn more about interactive tables.';\n",
              "          element.innerHTML = '';\n",
              "          dataTable['output_type'] = 'display_data';\n",
              "          await google.colab.output.renderOutput(dataTable, element);\n",
              "          const docLink = document.createElement('div');\n",
              "          docLink.innerHTML = docLinkHtml;\n",
              "          element.appendChild(docLink);\n",
              "        }\n",
              "      </script>\n",
              "    </div>\n",
              "  </div>\n",
              "  "
            ]
          },
          "metadata": {},
          "execution_count": 16
        }
      ]
    },
    {
      "cell_type": "markdown",
      "source": [
        "## **Data Preparation**\n",
        "\n",
        "Now the next step is data preparation, I will simply prepare new data by combining the above datasets and then we will visualize a geographical plot of the data to see what we are going to work with:"
      ],
      "metadata": {
        "id": "e-1Czf_VCXbv"
      }
    },
    {
      "cell_type": "code",
      "source": [
        "world = pd.DataFrame({\"Country\":[],\"Cases\":[]})\n",
        "world[\"Country\"] = Global_Cases.iloc[:,1:].columns\n",
        "cases = []\n",
        "for i in world[\"Country\"]:\n",
        "    cases.append(pd.to_numeric(Global_Cases[i][1:]).sum())\n",
        "world[\"Cases\"]=cases\n",
        "\n",
        "country_list=list(world[\"Country\"].values)\n",
        "idx = 0\n",
        "for i in country_list:\n",
        "    sayac = 0\n",
        "    for j in i:\n",
        "        if j==\".\":\n",
        "            i = i[:sayac]\n",
        "            country_list[idx]=i\n",
        "        elif j==\"(\":\n",
        "            i = i[:sayac-1]\n",
        "            country_list[idx]=i\n",
        "        else:\n",
        "            sayac += 1\n",
        "    idx += 1\n",
        "world[\"Country\"]=country_list\n",
        "world = world.groupby(\"Country\")[\"Cases\"].sum().reset_index()\n",
        "world.head()\n",
        "continent[\"name\"]=continent[\"name\"].str.upper()\n",
        "continent[\"name\"]"
      ],
      "metadata": {
        "id": "axZT7CeGCcL0",
        "outputId": "8aa300a2-19cc-49c7-e84f-a338ab090309",
        "colab": {
          "base_uri": "https://localhost:8080/"
        }
      },
      "execution_count": 18,
      "outputs": [
        {
          "output_type": "execute_result",
          "data": {
            "text/plain": [
              "0            AFGHANISTAN\n",
              "1          ÅLAND ISLANDS\n",
              "2                ALBANIA\n",
              "3                ALGERIA\n",
              "4         AMERICAN SAMOA\n",
              "             ...        \n",
              "244    WALLIS AND FUTUNA\n",
              "245       WESTERN SAHARA\n",
              "246                YEMEN\n",
              "247               ZAMBIA\n",
              "248             ZIMBABWE\n",
              "Name: name, Length: 249, dtype: object"
            ]
          },
          "metadata": {},
          "execution_count": 18
        }
      ]
    },
    {
      "cell_type": "markdown",
      "source": [
        "## **Data Visualization**"
      ],
      "metadata": {
        "id": "Us4_B6xoFIUY"
      }
    },
    {
      "cell_type": "markdown",
      "source": [
        "Now here I will prepare three visualizations. One will be a geographical visualization to visualize the worldwide spread of Covid-19. Then the next visualization will be to have a look at the daily cases of Covid-19 in the world. Then the last visualization will be to have a look at the daily death cases of Covid-19 in the world.\n",
        "\n",
        "Now let’s start data visualization by looking at the worldwide spread of Covid-19:"
      ],
      "metadata": {
        "id": "RRtj0ouPFhGM"
      }
    },
    {
      "cell_type": "code",
      "source": [
        "world[\"Cases Range\"]=pd.cut(world[\"Cases\"],[-150000,50000,200000,800000,1500000,15000000],labels=[\"U50K\",\"50Kto200K\",\"200Kto800K\",\"800Kto1.5M\",\"1.5M+\"])\n",
        "alpha =[]\n",
        "for i in world[\"Country\"].str.upper().values:\n",
        "    if i == \"BRUNEI\":\n",
        "        i=\"BRUNEI DARUSSALAM\"\n",
        "    elif  i==\"US\":\n",
        "        i=\"UNITED STATES\" \n",
        "    if len(continent[continent[\"name\"]==i][\"alpha-3\"].values)==0:\n",
        "        alpha.append(np.nan)\n",
        "    else:\n",
        "        alpha.append(continent[continent[\"name\"]==i][\"alpha-3\"].values[0])\n",
        "world[\"Coutry\"]=alpha\n",
        "\n",
        "fig = px.choropleth(world.dropna(),\n",
        "                   locations=\"Coutry\",\n",
        "                   color=\"Cases Range\",\n",
        "                   projection=\"mercator\",\n",
        "                   color_discrete_sequence=[\"#DBDFFD\",\"#9BA3EB\",\"#646FD4\",\"#242F9B\",\"#0A2647\"]\n",
        "                    )\n",
        "\n",
        "\n",
        "                    \n",
        "fig.update_geos(fitbounds=\"locations\", visible=False)\n",
        "\n",
        "fig.update_layout(\n",
        "    title_text='Global Covid-19 Spread',\n",
        "    geo=dict(\n",
        "        showframe=False,\n",
        "        showcoastlines=False,\n",
        "        projection_type='equirectangular'\n",
        "    ),\n",
        "    annotations = [dict(\n",
        "        x=0.55,\n",
        "        y=0.1,\n",
        "        xref='paper',\n",
        "        yref='paper',\n",
        "        text='Author: <a href=\"https://github.com/SamuelWanjiru\">\\\n",
        "            Samuel Mureithi Wanjiru</a>',\n",
        "        showarrow = False\n",
        "    )]\n",
        ")\n",
        "fig.show()"
      ],
      "metadata": {
        "id": "hSC_QkXiFpIy",
        "outputId": "72cc464f-dccc-437a-a1b3-2436ffeab890",
        "colab": {
          "base_uri": "https://localhost:8080/",
          "height": 542
        }
      },
      "execution_count": 78,
      "outputs": [
        {
          "output_type": "display_data",
          "data": {
            "text/html": [
              "<html>\n",
              "<head><meta charset=\"utf-8\" /></head>\n",
              "<body>\n",
              "    <div>            <script src=\"https://cdnjs.cloudflare.com/ajax/libs/mathjax/2.7.5/MathJax.js?config=TeX-AMS-MML_SVG\"></script><script type=\"text/javascript\">if (window.MathJax) {MathJax.Hub.Config({SVG: {font: \"STIX-Web\"}});}</script>                <script type=\"text/javascript\">window.PlotlyConfig = {MathJaxConfig: 'local'};</script>\n",
              "        <script src=\"https://cdn.plot.ly/plotly-2.8.3.min.js\"></script>                <div id=\"a82afaa8-45dc-4db3-b312-b90a47737606\" class=\"plotly-graph-div\" style=\"height:525px; width:100%;\"></div>            <script type=\"text/javascript\">                                    window.PLOTLYENV=window.PLOTLYENV || {};                                    if (document.getElementById(\"a82afaa8-45dc-4db3-b312-b90a47737606\")) {                    Plotly.newPlot(                        \"a82afaa8-45dc-4db3-b312-b90a47737606\",                        [{\"colorscale\":[[0.0,\"#DBDFFD\"],[1.0,\"#DBDFFD\"]],\"geo\":\"geo\",\"hovertemplate\":\"Cases Range=200Kto800K<br>Coutry=%{location}<extra></extra>\",\"locations\":[\"AFG\",\"ALB\",\"DZA\",\"ARM\",\"BHR\",\"BIH\",\"BWA\",\"BRN\",\"CYP\",\"DOM\",\"EGY\",\"SLV\",\"EST\",\"ETH\",\"HND\",\"ISL\",\"KEN\",\"KWT\",\"KGZ\",\"LAO\",\"LBY\",\"LUX\",\"MUS\",\"MDA\",\"MNE\",\"MOZ\",\"NGA\",\"OMN\",\"PRY\",\"QAT\",\"LKA\",\"UZB\",\"VEN\",\"ZMB\",\"ZWE\"],\"name\":\"200Kto800K\",\"showlegend\":true,\"showscale\":false,\"z\":[1,1,1,1,1,1,1,1,1,1,1,1,1,1,1,1,1,1,1,1,1,1,1,1,1,1,1,1,1,1,1,1,1,1,1],\"type\":\"choropleth\"},{\"colorscale\":[[0.0,\"#9BA3EB\"],[1.0,\"#9BA3EB\"]],\"geo\":\"geo\",\"hovertemplate\":\"Cases Range=U50K<br>Coutry=%{location}<extra></extra>\",\"locations\":[\"AND\",\"ATA\",\"ATG\",\"BHS\",\"BEN\",\"BFA\",\"CAF\",\"TCD\",\"COM\",\"DJI\",\"DMA\",\"GNQ\",\"ERI\",\"GAB\",\"GMB\",\"GRD\",\"GIN\",\"HTI\",\"VAT\",\"KIR\",\"LSO\",\"LBR\",\"LIE\",\"MLI\",\"MHL\",\"MCO\",\"NRU\",\"NIC\",\"NER\",\"PLW\",\"PNG\",\"KNA\",\"LCA\",\"VCT\",\"WSM\",\"SMR\",\"STP\",\"SLE\",\"SLB\",\"SOM\",\"SSD\",\"TJK\",\"TZA\",\"TLS\",\"TGO\",\"TON\",\"TUV\",\"VUT\",\"YEM\"],\"name\":\"U50K\",\"showlegend\":true,\"showscale\":false,\"z\":[1,1,1,1,1,1,1,1,1,1,1,1,1,1,1,1,1,1,1,1,1,1,1,1,1,1,1,1,1,1,1,1,1,1,1,1,1,1,1,1,1,1,1,1,1,1,1,1,1],\"type\":\"choropleth\"},{\"colorscale\":[[0.0,\"#646FD4\"],[1.0,\"#646FD4\"]],\"geo\":\"geo\",\"hovertemplate\":\"Cases Range=50Kto200K<br>Coutry=%{location}<extra></extra>\",\"locations\":[\"AGO\",\"BRB\",\"BLZ\",\"BTN\",\"BDI\",\"CPV\",\"KHM\",\"CMR\",\"COG\",\"SWZ\",\"FJI\",\"GHA\",\"GUY\",\"JAM\",\"MDG\",\"MWI\",\"MDV\",\"MLT\",\"MRT\",\"NAM\",\"RWA\",\"SEN\",\"SYC\",\"SDN\",\"SUR\",\"SYR\",\"TTO\",\"UGA\"],\"name\":\"50Kto200K\",\"showlegend\":true,\"showscale\":false,\"z\":[1,1,1,1,1,1,1,1,1,1,1,1,1,1,1,1,1,1,1,1,1,1,1,1,1,1,1,1],\"type\":\"choropleth\"},{\"colorscale\":[[0.0,\"#242F9B\"],[1.0,\"#242F9B\"]],\"geo\":\"geo\",\"hovertemplate\":\"Cases Range=1.5M+<br>Coutry=%{location}<extra></extra>\",\"locations\":[\"ARG\",\"AUS\",\"AUT\",\"BGD\",\"BEL\",\"CAN\",\"CHL\",\"CHN\",\"COL\",\"DNK\",\"GEO\",\"GRC\",\"HUN\",\"IDN\",\"IRN\",\"IRQ\",\"IRL\",\"ISR\",\"JOR\",\"MYS\",\"MEX\",\"NLD\",\"NZL\",\"PAK\",\"PER\",\"PHL\",\"POL\",\"PRT\",\"ROU\",\"SRB\",\"SGP\",\"SVK\",\"ZAF\",\"ESP\",\"SWE\",\"CHE\",\"THA\",\"UKR\",\"VNM\"],\"name\":\"1.5M+\",\"showlegend\":true,\"showscale\":false,\"z\":[1,1,1,1,1,1,1,1,1,1,1,1,1,1,1,1,1,1,1,1,1,1,1,1,1,1,1,1,1,1,1,1,1,1,1,1,1,1,1],\"type\":\"choropleth\"},{\"colorscale\":[[0.0,\"#0A2647\"],[1.0,\"#0A2647\"]],\"geo\":\"geo\",\"hovertemplate\":\"Cases Range=800Kto1.5M<br>Coutry=%{location}<extra></extra>\",\"locations\":[\"AZE\",\"BLR\",\"BOL\",\"BGR\",\"CRI\",\"HRV\",\"CUB\",\"ECU\",\"FIN\",\"GTM\",\"KAZ\",\"LVA\",\"LBN\",\"LTU\",\"MNG\",\"MAR\",\"NPL\",\"NOR\",\"PAN\",\"SAU\",\"SVN\",\"TUN\",\"ARE\",\"URY\"],\"name\":\"800Kto1.5M\",\"showlegend\":true,\"showscale\":false,\"z\":[1,1,1,1,1,1,1,1,1,1,1,1,1,1,1,1,1,1,1,1,1,1,1,1],\"type\":\"choropleth\"}],                        {\"template\":{\"data\":{\"bar\":[{\"error_x\":{\"color\":\"#2a3f5f\"},\"error_y\":{\"color\":\"#2a3f5f\"},\"marker\":{\"line\":{\"color\":\"#E5ECF6\",\"width\":0.5},\"pattern\":{\"fillmode\":\"overlay\",\"size\":10,\"solidity\":0.2}},\"type\":\"bar\"}],\"barpolar\":[{\"marker\":{\"line\":{\"color\":\"#E5ECF6\",\"width\":0.5},\"pattern\":{\"fillmode\":\"overlay\",\"size\":10,\"solidity\":0.2}},\"type\":\"barpolar\"}],\"carpet\":[{\"aaxis\":{\"endlinecolor\":\"#2a3f5f\",\"gridcolor\":\"white\",\"linecolor\":\"white\",\"minorgridcolor\":\"white\",\"startlinecolor\":\"#2a3f5f\"},\"baxis\":{\"endlinecolor\":\"#2a3f5f\",\"gridcolor\":\"white\",\"linecolor\":\"white\",\"minorgridcolor\":\"white\",\"startlinecolor\":\"#2a3f5f\"},\"type\":\"carpet\"}],\"choropleth\":[{\"colorbar\":{\"outlinewidth\":0,\"ticks\":\"\"},\"type\":\"choropleth\"}],\"contour\":[{\"colorbar\":{\"outlinewidth\":0,\"ticks\":\"\"},\"colorscale\":[[0.0,\"#0d0887\"],[0.1111111111111111,\"#46039f\"],[0.2222222222222222,\"#7201a8\"],[0.3333333333333333,\"#9c179e\"],[0.4444444444444444,\"#bd3786\"],[0.5555555555555556,\"#d8576b\"],[0.6666666666666666,\"#ed7953\"],[0.7777777777777778,\"#fb9f3a\"],[0.8888888888888888,\"#fdca26\"],[1.0,\"#f0f921\"]],\"type\":\"contour\"}],\"contourcarpet\":[{\"colorbar\":{\"outlinewidth\":0,\"ticks\":\"\"},\"type\":\"contourcarpet\"}],\"heatmap\":[{\"colorbar\":{\"outlinewidth\":0,\"ticks\":\"\"},\"colorscale\":[[0.0,\"#0d0887\"],[0.1111111111111111,\"#46039f\"],[0.2222222222222222,\"#7201a8\"],[0.3333333333333333,\"#9c179e\"],[0.4444444444444444,\"#bd3786\"],[0.5555555555555556,\"#d8576b\"],[0.6666666666666666,\"#ed7953\"],[0.7777777777777778,\"#fb9f3a\"],[0.8888888888888888,\"#fdca26\"],[1.0,\"#f0f921\"]],\"type\":\"heatmap\"}],\"heatmapgl\":[{\"colorbar\":{\"outlinewidth\":0,\"ticks\":\"\"},\"colorscale\":[[0.0,\"#0d0887\"],[0.1111111111111111,\"#46039f\"],[0.2222222222222222,\"#7201a8\"],[0.3333333333333333,\"#9c179e\"],[0.4444444444444444,\"#bd3786\"],[0.5555555555555556,\"#d8576b\"],[0.6666666666666666,\"#ed7953\"],[0.7777777777777778,\"#fb9f3a\"],[0.8888888888888888,\"#fdca26\"],[1.0,\"#f0f921\"]],\"type\":\"heatmapgl\"}],\"histogram\":[{\"marker\":{\"pattern\":{\"fillmode\":\"overlay\",\"size\":10,\"solidity\":0.2}},\"type\":\"histogram\"}],\"histogram2d\":[{\"colorbar\":{\"outlinewidth\":0,\"ticks\":\"\"},\"colorscale\":[[0.0,\"#0d0887\"],[0.1111111111111111,\"#46039f\"],[0.2222222222222222,\"#7201a8\"],[0.3333333333333333,\"#9c179e\"],[0.4444444444444444,\"#bd3786\"],[0.5555555555555556,\"#d8576b\"],[0.6666666666666666,\"#ed7953\"],[0.7777777777777778,\"#fb9f3a\"],[0.8888888888888888,\"#fdca26\"],[1.0,\"#f0f921\"]],\"type\":\"histogram2d\"}],\"histogram2dcontour\":[{\"colorbar\":{\"outlinewidth\":0,\"ticks\":\"\"},\"colorscale\":[[0.0,\"#0d0887\"],[0.1111111111111111,\"#46039f\"],[0.2222222222222222,\"#7201a8\"],[0.3333333333333333,\"#9c179e\"],[0.4444444444444444,\"#bd3786\"],[0.5555555555555556,\"#d8576b\"],[0.6666666666666666,\"#ed7953\"],[0.7777777777777778,\"#fb9f3a\"],[0.8888888888888888,\"#fdca26\"],[1.0,\"#f0f921\"]],\"type\":\"histogram2dcontour\"}],\"mesh3d\":[{\"colorbar\":{\"outlinewidth\":0,\"ticks\":\"\"},\"type\":\"mesh3d\"}],\"parcoords\":[{\"line\":{\"colorbar\":{\"outlinewidth\":0,\"ticks\":\"\"}},\"type\":\"parcoords\"}],\"pie\":[{\"automargin\":true,\"type\":\"pie\"}],\"scatter\":[{\"marker\":{\"colorbar\":{\"outlinewidth\":0,\"ticks\":\"\"}},\"type\":\"scatter\"}],\"scatter3d\":[{\"line\":{\"colorbar\":{\"outlinewidth\":0,\"ticks\":\"\"}},\"marker\":{\"colorbar\":{\"outlinewidth\":0,\"ticks\":\"\"}},\"type\":\"scatter3d\"}],\"scattercarpet\":[{\"marker\":{\"colorbar\":{\"outlinewidth\":0,\"ticks\":\"\"}},\"type\":\"scattercarpet\"}],\"scattergeo\":[{\"marker\":{\"colorbar\":{\"outlinewidth\":0,\"ticks\":\"\"}},\"type\":\"scattergeo\"}],\"scattergl\":[{\"marker\":{\"colorbar\":{\"outlinewidth\":0,\"ticks\":\"\"}},\"type\":\"scattergl\"}],\"scattermapbox\":[{\"marker\":{\"colorbar\":{\"outlinewidth\":0,\"ticks\":\"\"}},\"type\":\"scattermapbox\"}],\"scatterpolar\":[{\"marker\":{\"colorbar\":{\"outlinewidth\":0,\"ticks\":\"\"}},\"type\":\"scatterpolar\"}],\"scatterpolargl\":[{\"marker\":{\"colorbar\":{\"outlinewidth\":0,\"ticks\":\"\"}},\"type\":\"scatterpolargl\"}],\"scatterternary\":[{\"marker\":{\"colorbar\":{\"outlinewidth\":0,\"ticks\":\"\"}},\"type\":\"scatterternary\"}],\"surface\":[{\"colorbar\":{\"outlinewidth\":0,\"ticks\":\"\"},\"colorscale\":[[0.0,\"#0d0887\"],[0.1111111111111111,\"#46039f\"],[0.2222222222222222,\"#7201a8\"],[0.3333333333333333,\"#9c179e\"],[0.4444444444444444,\"#bd3786\"],[0.5555555555555556,\"#d8576b\"],[0.6666666666666666,\"#ed7953\"],[0.7777777777777778,\"#fb9f3a\"],[0.8888888888888888,\"#fdca26\"],[1.0,\"#f0f921\"]],\"type\":\"surface\"}],\"table\":[{\"cells\":{\"fill\":{\"color\":\"#EBF0F8\"},\"line\":{\"color\":\"white\"}},\"header\":{\"fill\":{\"color\":\"#C8D4E3\"},\"line\":{\"color\":\"white\"}},\"type\":\"table\"}]},\"layout\":{\"annotationdefaults\":{\"arrowcolor\":\"#2a3f5f\",\"arrowhead\":0,\"arrowwidth\":1},\"autotypenumbers\":\"strict\",\"coloraxis\":{\"colorbar\":{\"outlinewidth\":0,\"ticks\":\"\"}},\"colorscale\":{\"diverging\":[[0,\"#8e0152\"],[0.1,\"#c51b7d\"],[0.2,\"#de77ae\"],[0.3,\"#f1b6da\"],[0.4,\"#fde0ef\"],[0.5,\"#f7f7f7\"],[0.6,\"#e6f5d0\"],[0.7,\"#b8e186\"],[0.8,\"#7fbc41\"],[0.9,\"#4d9221\"],[1,\"#276419\"]],\"sequential\":[[0.0,\"#0d0887\"],[0.1111111111111111,\"#46039f\"],[0.2222222222222222,\"#7201a8\"],[0.3333333333333333,\"#9c179e\"],[0.4444444444444444,\"#bd3786\"],[0.5555555555555556,\"#d8576b\"],[0.6666666666666666,\"#ed7953\"],[0.7777777777777778,\"#fb9f3a\"],[0.8888888888888888,\"#fdca26\"],[1.0,\"#f0f921\"]],\"sequentialminus\":[[0.0,\"#0d0887\"],[0.1111111111111111,\"#46039f\"],[0.2222222222222222,\"#7201a8\"],[0.3333333333333333,\"#9c179e\"],[0.4444444444444444,\"#bd3786\"],[0.5555555555555556,\"#d8576b\"],[0.6666666666666666,\"#ed7953\"],[0.7777777777777778,\"#fb9f3a\"],[0.8888888888888888,\"#fdca26\"],[1.0,\"#f0f921\"]]},\"colorway\":[\"#636efa\",\"#EF553B\",\"#00cc96\",\"#ab63fa\",\"#FFA15A\",\"#19d3f3\",\"#FF6692\",\"#B6E880\",\"#FF97FF\",\"#FECB52\"],\"font\":{\"color\":\"#2a3f5f\"},\"geo\":{\"bgcolor\":\"white\",\"lakecolor\":\"white\",\"landcolor\":\"#E5ECF6\",\"showlakes\":true,\"showland\":true,\"subunitcolor\":\"white\"},\"hoverlabel\":{\"align\":\"left\"},\"hovermode\":\"closest\",\"mapbox\":{\"style\":\"light\"},\"paper_bgcolor\":\"white\",\"plot_bgcolor\":\"#E5ECF6\",\"polar\":{\"angularaxis\":{\"gridcolor\":\"white\",\"linecolor\":\"white\",\"ticks\":\"\"},\"bgcolor\":\"#E5ECF6\",\"radialaxis\":{\"gridcolor\":\"white\",\"linecolor\":\"white\",\"ticks\":\"\"}},\"scene\":{\"xaxis\":{\"backgroundcolor\":\"#E5ECF6\",\"gridcolor\":\"white\",\"gridwidth\":2,\"linecolor\":\"white\",\"showbackground\":true,\"ticks\":\"\",\"zerolinecolor\":\"white\"},\"yaxis\":{\"backgroundcolor\":\"#E5ECF6\",\"gridcolor\":\"white\",\"gridwidth\":2,\"linecolor\":\"white\",\"showbackground\":true,\"ticks\":\"\",\"zerolinecolor\":\"white\"},\"zaxis\":{\"backgroundcolor\":\"#E5ECF6\",\"gridcolor\":\"white\",\"gridwidth\":2,\"linecolor\":\"white\",\"showbackground\":true,\"ticks\":\"\",\"zerolinecolor\":\"white\"}},\"shapedefaults\":{\"line\":{\"color\":\"#2a3f5f\"}},\"ternary\":{\"aaxis\":{\"gridcolor\":\"white\",\"linecolor\":\"white\",\"ticks\":\"\"},\"baxis\":{\"gridcolor\":\"white\",\"linecolor\":\"white\",\"ticks\":\"\"},\"bgcolor\":\"#E5ECF6\",\"caxis\":{\"gridcolor\":\"white\",\"linecolor\":\"white\",\"ticks\":\"\"}},\"title\":{\"x\":0.05},\"xaxis\":{\"automargin\":true,\"gridcolor\":\"white\",\"linecolor\":\"white\",\"ticks\":\"\",\"title\":{\"standoff\":15},\"zerolinecolor\":\"white\",\"zerolinewidth\":2},\"yaxis\":{\"automargin\":true,\"gridcolor\":\"white\",\"linecolor\":\"white\",\"ticks\":\"\",\"title\":{\"standoff\":15},\"zerolinecolor\":\"white\",\"zerolinewidth\":2}}},\"geo\":{\"domain\":{\"x\":[0.0,1.0],\"y\":[0.0,1.0]},\"projection\":{\"type\":\"equirectangular\"},\"center\":{},\"fitbounds\":\"locations\",\"visible\":false,\"showframe\":false,\"showcoastlines\":false},\"legend\":{\"title\":{\"text\":\"Cases Range\"},\"tracegroupgap\":0},\"margin\":{\"t\":60},\"title\":{\"text\":\"Global Covid-19 Spread\"},\"annotations\":[{\"showarrow\":false,\"text\":\"Author: <a href=\\\"https://github.com/SamuelWanjiru\\\">            Samuel Mureithi Wanjiru</a>\",\"x\":0.55,\"xref\":\"paper\",\"y\":0.1,\"yref\":\"paper\"}]},                        {\"responsive\": true}                    ).then(function(){\n",
              "                            \n",
              "var gd = document.getElementById('a82afaa8-45dc-4db3-b312-b90a47737606');\n",
              "var x = new MutationObserver(function (mutations, observer) {{\n",
              "        var display = window.getComputedStyle(gd).display;\n",
              "        if (!display || display === 'none') {{\n",
              "            console.log([gd, 'removed!']);\n",
              "            Plotly.purge(gd);\n",
              "            observer.disconnect();\n",
              "        }}\n",
              "}});\n",
              "\n",
              "// Listen for the removal of the full notebook cells\n",
              "var notebookContainer = gd.closest('#notebook-container');\n",
              "if (notebookContainer) {{\n",
              "    x.observe(notebookContainer, {childList: true});\n",
              "}}\n",
              "\n",
              "// Listen for the clearing of the current output cell\n",
              "var outputEl = gd.closest('.output');\n",
              "if (outputEl) {{\n",
              "    x.observe(outputEl, {childList: true});\n",
              "}}\n",
              "\n",
              "                        })                };                            </script>        </div>\n",
              "</body>\n",
              "</html>"
            ]
          },
          "metadata": {}
        }
      ]
    },
    {
      "cell_type": "markdown",
      "source": [
        "**Now let’s have a look at the daily cases all around the world:**"
      ],
      "metadata": {
        "id": "PuuJKj23USH3"
      }
    },
    {
      "cell_type": "code",
      "source": [
        "count = []\n",
        "for i in range(1,len(Global_Cases)):\n",
        "    count.append(sum(pd.to_numeric(Global_Cases.iloc[i,1:].values)))\n",
        "\n",
        "df = pd.DataFrame()\n",
        "df[\"Date\"] = Global_Cases[\"Country/Region\"][1:]\n",
        "df[\"Cases\"] = count\n",
        "df=df.set_index(\"Date\")\n",
        "\n",
        "count = []\n",
        "for i in range(1,len(Global_Deaths)):\n",
        "    count.append(sum(pd.to_numeric(Global_Deaths.iloc[i,1:].values)))\n",
        "\n",
        "df[\"Deaths\"] = count\n",
        "\n",
        "df.Cases.plot(title=\"Daily Covid19 Cases in World\",marker=\".\",figsize=(15,10),label=\"daily cases\",linewidth=1)\n",
        "df.Cases.rolling(window=5).mean().plot(figsize=(15,10),label=\"MA5\")\n",
        "plt.ylabel(\"Cases\",fontweight='bold')\n",
        "ax = plt.axes()\n",
        "ax.set_facecolor(\"black\")\n",
        "plt.legend(facecolor='white', framealpha=2)\n",
        "plt.show();"
      ],
      "metadata": {
        "id": "7FNb3yuQUTJf",
        "outputId": "041467b9-31ad-438f-a1f5-7b57150147a7",
        "colab": {
          "base_uri": "https://localhost:8080/",
          "height": 626
        }
      },
      "execution_count": 105,
      "outputs": [
        {
          "output_type": "display_data",
          "data": {
            "text/plain": [
              "<Figure size 1080x720 with 1 Axes>"
            ],
            "image/png": "[encoded data removed]"
          },
          "metadata": {}
        }
      ]
    },
    {
      "cell_type": "markdown",
      "source": [
        "**Now let’s have a look at the daily death cases of Covid-19:**"
      ],
      "metadata": {
        "id": "_RYEkHHAj-Xt"
      }
    },
    {
      "cell_type": "code",
      "source": [
        "df.Deaths.plot(title=\"Daily Covid19 Deaths in World\",marker=\".\",figsize=(15,10),label=\"daily deaths\")\n",
        "df.Deaths.rolling(window=5).mean().plot(figsize=(15,10),label=\"MA5\")\n",
        "ax = plt.axes()\n",
        "ax.set_facecolor(\"black\")\n",
        "plt.ylabel(\"Deaths\",fontweight='bold')\n",
        "plt.legend()\n",
        "plt.show()"
      ],
      "metadata": {
        "id": "sUz2Zc-tj_rK",
        "outputId": "bfa1f9d0-7e0b-4164-dad5-165c0b20725a",
        "colab": {
          "base_uri": "https://localhost:8080/",
          "height": 626
        }
      },
      "execution_count": 110,
      "outputs": [
        {
          "output_type": "display_data",
          "data": {
            "text/plain": [
              "<Figure size 1080x720 with 1 Axes>"
            ],
            "image/png": "[encoded data removed]"
          },
          "metadata": {}
        }
      ]
    },
    {
      "cell_type": "markdown",
      "source": [
        "# **Bonus**"
      ],
      "metadata": {
        "id": "96Q8gaOZHtrs"
      }
    },
    {
      "cell_type": "markdown",
      "source": [
        "## **Lets Look at the situation in Kenya**"
      ],
      "metadata": {
        "id": "i_ZLdz3ClMYr"
      }
    },
    {
      "cell_type": "markdown",
      "source": [
        "**Total Confirmed covid cases & Deaths in Kenya**"
      ],
      "metadata": {
        "id": "1bDgDY11lXQo"
      }
    },
    {
      "cell_type": "code",
      "source": [
        "# Creating a dataframe for country Kenya\n",
        "Kenya_cases = pd.DataFrame()\n",
        "Kenya_cases['Date'] = Global_Cases[\"Country/Region\"][1:]\n",
        "Kenya_cases['Covid_Cases']=Global_Cases['Kenya']\n",
        "Kenya_cases['Covid_Deaths'] = Global_Deaths['Kenya']"
      ],
      "metadata": {
        "id": "24i6enxZp6pC"
      },
      "execution_count": 220,
      "outputs": []
    },
    {
      "cell_type": "code",
      "source": [
        "Kenya_cases.head()"
      ],
      "metadata": {
        "id": "APjdHflXpwhd",
        "outputId": "97e99dad-ab22-496f-993a-132e93b9799d",
        "colab": {
          "base_uri": "https://localhost:8080/",
          "height": 206
        }
      },
      "execution_count": 221,
      "outputs": [
        {
          "output_type": "execute_result",
          "data": {
            "text/plain": [
              "      Date  Covid_Cases  Covid_Deaths\n",
              "1  1/23/20          0.0           0.0\n",
              "2  1/24/20          0.0           0.0\n",
              "3  1/25/20          0.0           0.0\n",
              "4  1/26/20          0.0           0.0\n",
              "5  1/27/20          0.0           0.0"
            ],
            "text/html": [
              "\n",
              "  <div id=\"df-5722fdb1-c2d4-4fd2-a59f-d9e400a12aaf\">\n",
              "    <div class=\"colab-df-container\">\n",
              "      <div>\n",
              "<style scoped>\n",
              "    .dataframe tbody tr th:only-of-type {\n",
              "        vertical-align: middle;\n",
              "    }\n",
              "\n",
              "    .dataframe tbody tr th {\n",
              "        vertical-align: top;\n",
              "    }\n",
              "\n",
              "    .dataframe thead th {\n",
              "        text-align: right;\n",
              "    }\n",
              "</style>\n",
              "<table border=\"1\" class=\"dataframe\">\n",
              "  <thead>\n",
              "    <tr style=\"text-align: right;\">\n",
              "      <th></th>\n",
              "      <th>Date</th>\n",
              "      <th>Covid_Cases</th>\n",
              "      <th>Covid_Deaths</th>\n",
              "    </tr>\n",
              "  </thead>\n",
              "  <tbody>\n",
              "    <tr>\n",
              "      <th>1</th>\n",
              "      <td>1/23/20</td>\n",
              "      <td>0.0</td>\n",
              "      <td>0.0</td>\n",
              "    </tr>\n",
              "    <tr>\n",
              "      <th>2</th>\n",
              "      <td>1/24/20</td>\n",
              "      <td>0.0</td>\n",
              "      <td>0.0</td>\n",
              "    </tr>\n",
              "    <tr>\n",
              "      <th>3</th>\n",
              "      <td>1/25/20</td>\n",
              "      <td>0.0</td>\n",
              "      <td>0.0</td>\n",
              "    </tr>\n",
              "    <tr>\n",
              "      <th>4</th>\n",
              "      <td>1/26/20</td>\n",
              "      <td>0.0</td>\n",
              "      <td>0.0</td>\n",
              "    </tr>\n",
              "    <tr>\n",
              "      <th>5</th>\n",
              "      <td>1/27/20</td>\n",
              "      <td>0.0</td>\n",
              "      <td>0.0</td>\n",
              "    </tr>\n",
              "  </tbody>\n",
              "</table>\n",
              "</div>\n",
              "      <button class=\"colab-df-convert\" onclick=\"convertToInteractive('df-5722fdb1-c2d4-4fd2-a59f-d9e400a12aaf')\"\n",
              "              title=\"Convert this dataframe to an interactive table.\"\n",
              "              style=\"display:none;\">\n",
              "        \n",
              "  <svg xmlns=\"http://www.w3.org/2000/svg\" height=\"24px\"viewBox=\"0 0 24 24\"\n",
              "       width=\"24px\">\n",
              "    <path d=\"M0 0h24v24H0V0z\" fill=\"none\"/>\n",
              "    <path d=\"M18.56 5.44l.94 2.06.94-2.06 2.06-.94-2.06-.94-.94-2.06-.94 2.06-2.06.94zm-11 1L8.5 8.5l.94-2.06 2.06-.94-2.06-.94L8.5 2.5l-.94 2.06-2.06.94zm10 10l.94 2.06.94-2.06 2.06-.94-2.06-.94-.94-2.06-.94 2.06-2.06.94z\"/><path d=\"M17.41 7.96l-1.37-1.37c-.4-.4-.92-.59-1.43-.59-.52 0-1.04.2-1.43.59L10.3 9.45l-7.72 7.72c-.78.78-.78 2.05 0 2.83L4 21.41c.39.39.9.59 1.41.59.51 0 1.02-.2 1.41-.59l7.78-7.78 2.81-2.81c.8-.78.8-2.07 0-2.86zM5.41 20L4 18.59l7.72-7.72 1.47 1.35L5.41 20z\"/>\n",
              "  </svg>\n",
              "      </button>\n",
              "      \n",
              "  <style>\n",
              "    .colab-df-container {\n",
              "      display:flex;\n",
              "      flex-wrap:wrap;\n",
              "      gap: 12px;\n",
              "    }\n",
              "\n",
              "    .colab-df-convert {\n",
              "      background-color: #E8F0FE;\n",
              "      border: none;\n",
              "      border-radius: 50%;\n",
              "      cursor: pointer;\n",
              "      display: none;\n",
              "      fill: #1967D2;\n",
              "      height: 32px;\n",
              "      padding: 0 0 0 0;\n",
              "      width: 32px;\n",
              "    }\n",
              "\n",
              "    .colab-df-convert:hover {\n",
              "      background-color: #E2EBFA;\n",
              "      box-shadow: 0px 1px 2px rgba(60, 64, 67, 0.3), 0px 1px 3px 1px rgba(60, 64, 67, 0.15);\n",
              "      fill: #174EA6;\n",
              "    }\n",
              "\n",
              "    [theme=dark] .colab-df-convert {\n",
              "      background-color: #3B4455;\n",
              "      fill: #D2E3FC;\n",
              "    }\n",
              "\n",
              "    [theme=dark] .colab-df-convert:hover {\n",
              "      background-color: #434B5C;\n",
              "      box-shadow: 0px 1px 3px 1px rgba(0, 0, 0, 0.15);\n",
              "      filter: drop-shadow(0px 1px 2px rgba(0, 0, 0, 0.3));\n",
              "      fill: #FFFFFF;\n",
              "    }\n",
              "  </style>\n",
              "\n",
              "      <script>\n",
              "        const buttonEl =\n",
              "          document.querySelector('#df-5722fdb1-c2d4-4fd2-a59f-d9e400a12aaf button.colab-df-convert');\n",
              "        buttonEl.style.display =\n",
              "          google.colab.kernel.accessAllowed ? 'block' : 'none';\n",
              "\n",
              "        async function convertToInteractive(key) {\n",
              "          const element = document.querySelector('#df-5722fdb1-c2d4-4fd2-a59f-d9e400a12aaf');\n",
              "          const dataTable =\n",
              "            await google.colab.kernel.invokeFunction('convertToInteractive',\n",
              "                                                     [key], {});\n",
              "          if (!dataTable) return;\n",
              "\n",
              "          const docLinkHtml = 'Like what you see? Visit the ' +\n",
              "            '<a target=\"_blank\" href=https://colab.research.google.com/notebooks/data_table.ipynb>data table notebook</a>'\n",
              "            + ' to learn more about interactive tables.';\n",
              "          element.innerHTML = '';\n",
              "          dataTable['output_type'] = 'display_data';\n",
              "          await google.colab.output.renderOutput(dataTable, element);\n",
              "          const docLink = document.createElement('div');\n",
              "          docLink.innerHTML = docLinkHtml;\n",
              "          element.appendChild(docLink);\n",
              "        }\n",
              "      </script>\n",
              "    </div>\n",
              "  </div>\n",
              "  "
            ]
          },
          "metadata": {},
          "execution_count": 221
        }
      ]
    },
    {
      "cell_type": "markdown",
      "source": [
        "Cleaning the data"
      ],
      "metadata": {
        "id": "2eU9mhPml3t0"
      }
    },
    {
      "cell_type": "code",
      "source": [
        "# Droping the missing value\n",
        "Kenya_cases=Kenya_cases.dropna()\n",
        "\n",
        "#Checking if there is any null value remaining\n",
        "Kenya_cases.isna().sum()"
      ],
      "metadata": {
        "id": "zd0kI4JCl7FQ",
        "outputId": "d4a35a9c-4c05-42e1-e770-480c9cee0a46",
        "colab": {
          "base_uri": "https://localhost:8080/"
        }
      },
      "execution_count": 209,
      "outputs": [
        {
          "output_type": "execute_result",
          "data": {
            "text/plain": [
              "Covid_Cases     0\n",
              "Covid_Deaths    0\n",
              "dtype: int64"
            ]
          },
          "metadata": {},
          "execution_count": 209
        }
      ]
    },
    {
      "cell_type": "markdown",
      "source": [
        "**Kenyan covid-19 cases statistics**"
      ],
      "metadata": {
        "id": "1cMMI-FVmlbk"
      }
    },
    {
      "cell_type": "code",
      "source": [
        "print(Back.BLACK + Fore.WHITE +\"There has been\",sum(Kenya_cases['Covid_Cases']),\"confimed covid-19 cases in kenya for the period between 2019 and January 2023.\")\n"
      ],
      "metadata": {
        "id": "i1KoV8y2mIMY",
        "outputId": "93589f55-9b4d-449b-f47f-c3b52ceae973",
        "colab": {
          "base_uri": "https://localhost:8080/"
        }
      },
      "execution_count": 210,
      "outputs": [
        {
          "output_type": "stream",
          "name": "stdout",
          "text": [
            "\u001b[40m\u001b[37mThere has been 342511.0 confimed covid-19 cases in kenya for the period between 2019 and January 2023.\n"
          ]
        }
      ]
    },
    {
      "cell_type": "code",
      "source": [
        "print(Back.BLACK + Fore.WHITE +\"On average,\",round(Kenya_cases['Covid_Cases'].mean(),0),\"cases have been recorded in Kenya on a daily basis.\")"
      ],
      "metadata": {
        "id": "1muKESR0vy4Y",
        "outputId": "cabcab8c-6d31-4e4d-b2a1-a20b413d4913",
        "colab": {
          "base_uri": "https://localhost:8080/"
        }
      },
      "execution_count": 211,
      "outputs": [
        {
          "output_type": "stream",
          "name": "stdout",
          "text": [
            "\u001b[40m\u001b[37mOn average, 318.0 cases have been recorded in Kenya on a daily basis.\n"
          ]
        }
      ]
    },
    {
      "cell_type": "code",
      "source": [
        "print(Back.BLACK + Fore.WHITE + \"There has been\",sum(Kenya_cases['Covid_Deaths']),'deaths in Kenya from 2019 to January 2023.')\n",
        "print('On average, Kenya has recorded',round(Kenya_cases['Covid_Deaths'].mean(),0),'deaths daily.')"
      ],
      "metadata": {
        "id": "7J7l_FnxrI76",
        "outputId": "665c43b0-8ff0-4647-fef3-bf9037473ed9",
        "colab": {
          "base_uri": "https://localhost:8080/"
        }
      },
      "execution_count": 212,
      "outputs": [
        {
          "output_type": "stream",
          "name": "stdout",
          "text": [
            "\u001b[40m\u001b[37mThere has been 5688.0 deaths in Kenya from 2019 to January 2023.\n",
            "On average, Kenya has recorded 5.0 deaths daily.\n"
          ]
        }
      ]
    },
    {
      "cell_type": "markdown",
      "source": [
        "### **<font color='blue'>I will now visualize the covid-19 cases and deaths in Kenya ⚡**"
      ],
      "metadata": {
        "id": "znvDT7NZw_Ue"
      }
    },
    {
      "cell_type": "markdown",
      "source": [
        "**1. Covid-19 Cases in Kenya**"
      ],
      "metadata": {
        "id": "U17cy1yM59ID"
      }
    },
    {
      "cell_type": "code",
      "source": [
        "fig = px.line(Kenya_cases,x='Date', y='Covid_Cases', title='Covid-19 Daily Cases',color_discrete_sequence=[\"blue\"])\n",
        "fig.update_xaxes(visible=False,showticklabels=False )\n",
        "fig.show(config= dict(displayModeBar = False))"
      ],
      "metadata": {
        "id": "8xGPTo0GxJZ1",
        "outputId": "a457cedf-d8c3-4613-9cb8-9113f1dc43f9",
        "colab": {
          "base_uri": "https://localhost:8080/",
          "height": 542
        }
      },
      "execution_count": 247,
      "outputs": [
        {
          "output_type": "display_data",
          "data": {
            "text/html": [
              "<html>\n",
              "<head><meta charset=\"utf-8\" /></head>\n",
              "<body>\n",
              "    <div>            <script src=\"https://cdnjs.cloudflare.com/ajax/libs/mathjax/2.7.5/MathJax.js?config=TeX-AMS-MML_SVG\"></script><script type=\"text/javascript\">if (window.MathJax) {MathJax.Hub.Config({SVG: {font: \"STIX-Web\"}});}</script>                <script type=\"text/javascript\">window.PlotlyConfig = {MathJaxConfig: 'local'};</script>\n",
              "        <script src=\"https://cdn.plot.ly/plotly-2.8.3.min.js\"></script>                <div id=\"536e09eb-ebea-4711-b0bb-b96d107793a6\" class=\"plotly-graph-div\" style=\"height:525px; width:100%;\"></div>            <script type=\"text/javascript\">                                    window.PLOTLYENV=window.PLOTLYENV || {};                                    if (document.getElementById(\"536e09eb-ebea-4711-b0bb-b96d107793a6\")) {                    Plotly.newPlot(                        \"536e09eb-ebea-4711-b0bb-b96d107793a6\",                        [{\"hovertemplate\":\"Date=%{x}<br>Covid_Cases=%{y}<extra></extra>\",\"legendgroup\":\"\",\"line\":{\"color\":\"blue\",\"dash\":\"solid\"},\"marker\":{\"symbol\":\"circle\"},\"mode\":\"lines\",\"name\":\"\",\"showlegend\":false,\"x\":[\"1/23/20\",\"1/24/20\",\"1/25/20\",\"1/26/20\",\"1/27/20\",\"1/28/20\",\"1/29/20\",\"1/30/20\",\"1/31/20\",\"2/1/20\",\"2/2/20\",\"2/3/20\",\"2/4/20\",\"2/5/20\",\"2/6/20\",\"2/7/20\",\"2/8/20\",\"2/9/20\",\"2/10/20\",\"2/11/20\",\"2/12/20\",\"2/13/20\",\"2/14/20\",\"2/15/20\",\"2/16/20\",\"2/17/20\",\"2/18/20\",\"2/19/20\",\"2/20/20\",\"2/21/20\",\"2/22/20\",\"2/23/20\",\"2/24/20\",\"2/25/20\",\"2/26/20\",\"2/27/20\",\"2/28/20\",\"2/29/20\",\"3/1/20\",\"3/2/20\",\"3/3/20\",\"3/4/20\",\"3/5/20\",\"3/6/20\",\"3/7/20\",\"3/8/20\",\"3/9/20\",\"3/10/20\",\"3/11/20\",\"3/12/20\",\"3/13/20\",\"3/14/20\",\"3/15/20\",\"3/16/20\",\"3/17/20\",\"3/18/20\",\"3/19/20\",\"3/20/20\",\"3/21/20\",\"3/22/20\",\"3/23/20\",\"3/24/20\",\"3/25/20\",\"3/26/20\",\"3/27/20\",\"3/28/20\",\"3/29/20\",\"3/30/20\",\"3/31/20\",\"4/1/20\",\"4/2/20\",\"4/3/20\",\"4/4/20\",\"4/5/20\",\"4/6/20\",\"4/7/20\",\"4/8/20\",\"4/9/20\",\"4/10/20\",\"4/11/20\",\"4/12/20\",\"4/13/20\",\"4/14/20\",\"4/15/20\",\"4/16/20\",\"4/17/20\",\"4/18/20\",\"4/19/20\",\"4/20/20\",\"4/21/20\",\"4/22/20\",\"4/23/20\",\"4/24/20\",\"4/25/20\",\"4/26/20\",\"4/27/20\",\"4/28/20\",\"4/29/20\",\"4/30/20\",\"5/1/20\",\"5/2/20\",\"5/3/20\",\"5/4/20\",\"5/5/20\",\"5/6/20\",\"5/7/20\",\"5/8/20\",\"5/9/20\",\"5/10/20\",\"5/11/20\",\"5/12/20\",\"5/13/20\",\"5/14/20\",\"5/15/20\",\"5/16/20\",\"5/17/20\",\"5/18/20\",\"5/19/20\",\"5/20/20\",\"5/21/20\",\"5/22/20\",\"5/23/20\",\"5/24/20\",\"5/25/20\",\"5/26/20\",\"5/27/20\",\"5/28/20\",\"5/29/20\",\"5/30/20\",\"5/31/20\",\"6/1/20\",\"6/2/20\",\"6/3/20\",\"6/4/20\",\"6/5/20\",\"6/6/20\",\"6/7/20\",\"6/8/20\",\"6/9/20\",\"6/10/20\",\"6/11/20\",\"6/12/20\",\"6/13/20\",\"6/14/20\",\"6/15/20\",\"6/16/20\",\"6/17/20\",\"6/18/20\",\"6/19/20\",\"6/20/20\",\"6/21/20\",\"6/22/20\",\"6/23/20\",\"6/24/20\",\"6/25/20\",\"6/26/20\",\"6/27/20\",\"6/28/20\",\"6/29/20\",\"6/30/20\",\"7/1/20\",\"7/2/20\",\"7/3/20\",\"7/4/20\",\"7/5/20\",\"7/6/20\",\"7/7/20\",\"7/8/20\",\"7/9/20\",\"7/10/20\",\"7/11/20\",\"7/12/20\",\"7/13/20\",\"7/14/20\",\"7/15/20\",\"7/16/20\",\"7/17/20\",\"7/18/20\",\"7/19/20\",\"7/20/20\",\"7/21/20\",\"7/22/20\",\"7/23/20\",\"7/24/20\",\"7/25/20\",\"7/26/20\",\"7/27/20\",\"7/28/20\",\"7/29/20\",\"7/30/20\",\"7/31/20\",\"8/1/20\",\"8/2/20\",\"8/3/20\",\"8/4/20\",\"8/5/20\",\"8/6/20\",\"8/7/20\",\"8/8/20\",\"8/9/20\",\"8/10/20\",\"8/11/20\",\"8/12/20\",\"8/13/20\",\"8/14/20\",\"8/15/20\",\"8/16/20\",\"8/17/20\",\"8/18/20\",\"8/19/20\",\"8/20/20\",\"8/21/20\",\"8/22/20\",\"8/23/20\",\"8/24/20\",\"8/25/20\",\"8/26/20\",\"8/27/20\",\"8/28/20\",\"8/29/20\",\"8/30/20\",\"8/31/20\",\"9/1/20\",\"9/2/20\",\"9/3/20\",\"9/4/20\",\"9/5/20\",\"9/6/20\",\"9/7/20\",\"9/8/20\",\"9/9/20\",\"9/10/20\",\"9/11/20\",\"9/12/20\",\"9/13/20\",\"9/14/20\",\"9/15/20\",\"9/16/20\",\"9/17/20\",\"9/18/20\",\"9/19/20\",\"9/20/20\",\"9/21/20\",\"9/22/20\",\"9/23/20\",\"9/24/20\",\"9/25/20\",\"9/26/20\",\"9/27/20\",\"9/28/20\",\"9/29/20\",\"9/30/20\",\"10/1/20\",\"10/2/20\",\"10/3/20\",\"10/4/20\",\"10/5/20\",\"10/6/20\",\"10/7/20\",\"10/8/20\",\"10/9/20\",\"10/10/20\",\"10/11/20\",\"10/12/20\",\"10/13/20\",\"10/14/20\",\"10/15/20\",\"10/16/20\",\"10/17/20\",\"10/18/20\",\"10/19/20\",\"10/20/20\",\"10/21/20\",\"10/22/20\",\"10/23/20\",\"10/24/20\",\"10/25/20\",\"10/26/20\",\"10/27/20\",\"10/28/20\",\"10/29/20\",\"10/30/20\",\"10/31/20\",\"11/1/20\",\"11/2/20\",\"11/3/20\",\"11/4/20\",\"11/5/20\",\"11/6/20\",\"11/7/20\",\"11/8/20\",\"11/9/20\",\"11/10/20\",\"11/11/20\",\"11/12/20\",\"11/13/20\",\"11/14/20\",\"11/15/20\",\"11/16/20\",\"11/17/20\",\"11/18/20\",\"11/19/20\",\"11/20/20\",\"11/21/20\",\"11/22/20\",\"11/23/20\",\"11/24/20\",\"11/25/20\",\"11/26/20\",\"11/27/20\",\"11/28/20\",\"11/29/20\",\"11/30/20\",\"12/1/20\",\"12/2/20\",\"12/3/20\",\"12/4/20\",\"12/5/20\",\"12/6/20\",\"12/7/20\",\"12/8/20\",\"12/9/20\",\"12/10/20\",\"12/11/20\",\"12/12/20\",\"12/13/20\",\"12/14/20\",\"12/15/20\",\"12/16/20\",\"12/17/20\",\"12/18/20\",\"12/19/20\",\"12/20/20\",\"12/21/20\",\"12/22/20\",\"12/23/20\",\"12/24/20\",\"12/25/20\",\"12/26/20\",\"12/27/20\",\"12/28/20\",\"12/29/20\",\"12/30/20\",\"12/31/20\",\"1/1/21\",\"1/2/21\",\"1/3/21\",\"1/4/21\",\"1/5/21\",\"1/6/21\",\"1/7/21\",\"1/8/21\",\"1/9/21\",\"1/10/21\",\"1/11/21\",\"1/12/21\",\"1/13/21\",\"1/14/21\",\"1/15/21\",\"1/16/21\",\"1/17/21\",\"1/18/21\",\"1/19/21\",\"1/20/21\",\"1/21/21\",\"1/22/21\",\"1/23/21\",\"1/24/21\",\"1/25/21\",\"1/26/21\",\"1/27/21\",\"1/28/21\",\"1/29/21\",\"1/30/21\",\"1/31/21\",\"2/1/21\",\"2/2/21\",\"2/3/21\",\"2/4/21\",\"2/5/21\",\"2/6/21\",\"2/7/21\",\"2/8/21\",\"2/9/21\",\"2/10/21\",\"2/11/21\",\"2/12/21\",\"2/13/21\",\"2/14/21\",\"2/15/21\",\"2/16/21\",\"2/17/21\",\"2/18/21\",\"2/19/21\",\"2/20/21\",\"2/21/21\",\"2/22/21\",\"2/23/21\",\"2/24/21\",\"2/25/21\",\"2/26/21\",\"2/27/21\",\"2/28/21\",\"3/1/21\",\"3/2/21\",\"3/3/21\",\"3/4/21\",\"3/5/21\",\"3/6/21\",\"3/7/21\",\"3/8/21\",\"3/9/21\",\"3/10/21\",\"3/11/21\",\"3/12/21\",\"3/13/21\",\"3/14/21\",\"3/15/21\",\"3/16/21\",\"3/17/21\",\"3/18/21\",\"3/19/21\",\"3/20/21\",\"3/21/21\",\"3/22/21\",\"3/23/21\",\"3/24/21\",\"3/25/21\",\"3/26/21\",\"3/27/21\",\"3/28/21\",\"3/29/21\",\"3/30/21\",\"3/31/21\",\"4/1/21\",\"4/2/21\",\"4/3/21\",\"4/4/21\",\"4/5/21\",\"4/6/21\",\"4/7/21\",\"4/8/21\",\"4/9/21\",\"4/10/21\",\"4/11/21\",\"4/12/21\",\"4/13/21\",\"4/14/21\",\"4/15/21\",\"4/16/21\",\"4/17/21\",\"4/18/21\",\"4/19/21\",\"4/20/21\",\"4/21/21\",\"4/22/21\",\"4/23/21\",\"4/24/21\",\"4/25/21\",\"4/26/21\",\"4/27/21\",\"4/28/21\",\"4/29/21\",\"4/30/21\",\"5/1/21\",\"5/2/21\",\"5/3/21\",\"5/4/21\",\"5/5/21\",\"5/6/21\",\"5/7/21\",\"5/8/21\",\"5/9/21\",\"5/10/21\",\"5/11/21\",\"5/12/21\",\"5/13/21\",\"5/14/21\",\"5/15/21\",\"5/16/21\",\"5/17/21\",\"5/18/21\",\"5/19/21\",\"5/20/21\",\"5/21/21\",\"5/22/21\",\"5/23/21\",\"5/24/21\",\"5/25/21\",\"5/26/21\",\"5/27/21\",\"5/28/21\",\"5/29/21\",\"5/30/21\",\"5/31/21\",\"6/1/21\",\"6/2/21\",\"6/3/21\",\"6/4/21\",\"6/5/21\",\"6/6/21\",\"6/7/21\",\"6/8/21\",\"6/9/21\",\"6/10/21\",\"6/11/21\",\"6/12/21\",\"6/13/21\",\"6/14/21\",\"6/15/21\",\"6/16/21\",\"6/17/21\",\"6/18/21\",\"6/19/21\",\"6/20/21\",\"6/21/21\",\"6/22/21\",\"6/23/21\",\"6/24/21\",\"6/25/21\",\"6/26/21\",\"6/27/21\",\"6/28/21\",\"6/29/21\",\"6/30/21\",\"7/1/21\",\"7/2/21\",\"7/3/21\",\"7/4/21\",\"7/5/21\",\"7/6/21\",\"7/7/21\",\"7/8/21\",\"7/9/21\",\"7/10/21\",\"7/11/21\",\"7/12/21\",\"7/13/21\",\"7/14/21\",\"7/15/21\",\"7/16/21\",\"7/17/21\",\"7/18/21\",\"7/19/21\",\"7/20/21\",\"7/21/21\",\"7/22/21\",\"7/23/21\",\"7/24/21\",\"7/25/21\",\"7/26/21\",\"7/27/21\",\"7/28/21\",\"7/29/21\",\"7/30/21\",\"7/31/21\",\"8/1/21\",\"8/2/21\",\"8/3/21\",\"8/4/21\",\"8/5/21\",\"8/6/21\",\"8/7/21\",\"8/8/21\",\"8/9/21\",\"8/10/21\",\"8/11/21\",\"8/12/21\",\"8/13/21\",\"8/14/21\",\"8/15/21\",\"8/16/21\",\"8/17/21\",\"8/18/21\",\"8/19/21\",\"8/20/21\",\"8/21/21\",\"8/22/21\",\"8/23/21\",\"8/24/21\",\"8/25/21\",\"8/26/21\",\"8/27/21\",\"8/28/21\",\"8/29/21\",\"8/30/21\",\"8/31/21\",\"9/1/21\",\"9/2/21\",\"9/3/21\",\"9/4/21\",\"9/5/21\",\"9/6/21\",\"9/7/21\",\"9/8/21\",\"9/9/21\",\"9/10/21\",\"9/11/21\",\"9/12/21\",\"9/13/21\",\"9/14/21\",\"9/15/21\",\"9/16/21\",\"9/17/21\",\"9/18/21\",\"9/19/21\",\"9/20/21\",\"9/21/21\",\"9/22/21\",\"9/23/21\",\"9/24/21\",\"9/25/21\",\"9/26/21\",\"9/27/21\",\"9/28/21\",\"9/29/21\",\"9/30/21\",\"10/1/21\",\"10/2/21\",\"10/3/21\",\"10/4/21\",\"10/5/21\",\"10/6/21\",\"10/7/21\",\"10/8/21\",\"10/9/21\",\"10/10/21\",\"10/11/21\",\"10/12/21\",\"10/13/21\",\"10/14/21\",\"10/15/21\",\"10/16/21\",\"10/17/21\",\"10/18/21\",\"10/19/21\",\"10/20/21\",\"10/21/21\",\"10/22/21\",\"10/23/21\",\"10/24/21\",\"10/25/21\",\"10/26/21\",\"10/27/21\",\"10/28/21\",\"10/29/21\",\"10/30/21\",\"10/31/21\",\"11/1/21\",\"11/2/21\",\"11/3/21\",\"11/4/21\",\"11/5/21\",\"11/6/21\",\"11/7/21\",\"11/8/21\",\"11/9/21\",\"11/10/21\",\"11/11/21\",\"11/12/21\",\"11/13/21\",\"11/14/21\",\"11/15/21\",\"11/16/21\",\"11/17/21\",\"11/18/21\",\"11/19/21\",\"11/20/21\",\"11/21/21\",\"11/22/21\",\"11/23/21\",\"11/24/21\",\"11/25/21\",\"11/26/21\",\"11/27/21\",\"11/28/21\",\"11/29/21\",\"11/30/21\",\"12/1/21\",\"12/2/21\",\"12/3/21\",\"12/4/21\",\"12/5/21\",\"12/6/21\",\"12/7/21\",\"12/8/21\",\"12/9/21\",\"12/10/21\",\"12/11/21\",\"12/12/21\",\"12/13/21\",\"12/14/21\",\"12/15/21\",\"12/16/21\",\"12/17/21\",\"12/18/21\",\"12/19/21\",\"12/20/21\",\"12/21/21\",\"12/22/21\",\"12/23/21\",\"12/24/21\",\"12/25/21\",\"12/26/21\",\"12/27/21\",\"12/28/21\",\"12/29/21\",\"12/30/21\",\"12/31/21\",\"1/1/22\",\"1/2/22\",\"1/3/22\",\"1/4/22\",\"1/5/22\",\"1/6/22\",\"1/7/22\",\"1/8/22\",\"1/9/22\",\"1/10/22\",\"1/11/22\",\"1/12/22\",\"1/13/22\",\"1/14/22\",\"1/15/22\",\"1/16/22\",\"1/17/22\",\"1/18/22\",\"1/19/22\",\"1/20/22\",\"1/21/22\",\"1/22/22\",\"1/23/22\",\"1/24/22\",\"1/25/22\",\"1/26/22\",\"1/27/22\",\"1/28/22\",\"1/29/22\",\"1/30/22\",\"1/31/22\",\"2/1/22\",\"2/2/22\",\"2/3/22\",\"2/4/22\",\"2/5/22\",\"2/6/22\",\"2/7/22\",\"2/8/22\",\"2/9/22\",\"2/10/22\",\"2/11/22\",\"2/12/22\",\"2/13/22\",\"2/14/22\",\"2/15/22\",\"2/16/22\",\"2/17/22\",\"2/18/22\",\"2/19/22\",\"2/20/22\",\"2/21/22\",\"2/22/22\",\"2/23/22\",\"2/24/22\",\"2/25/22\",\"2/26/22\",\"2/27/22\",\"2/28/22\",\"3/1/22\",\"3/2/22\",\"3/3/22\",\"3/4/22\",\"3/5/22\",\"3/6/22\",\"3/7/22\",\"3/8/22\",\"3/9/22\",\"3/10/22\",\"3/11/22\",\"3/12/22\",\"3/13/22\",\"3/14/22\",\"3/15/22\",\"3/16/22\",\"3/17/22\",\"3/18/22\",\"3/19/22\",\"3/20/22\",\"3/21/22\",\"3/22/22\",\"3/23/22\",\"3/24/22\",\"3/25/22\",\"3/26/22\",\"3/27/22\",\"3/28/22\",\"3/29/22\",\"3/30/22\",\"3/31/22\",\"4/1/22\",\"4/2/22\",\"4/3/22\",\"4/4/22\",\"4/5/22\",\"4/6/22\",\"4/7/22\",\"4/8/22\",\"4/9/22\",\"4/10/22\",\"4/11/22\",\"4/12/22\",\"4/13/22\",\"4/14/22\",\"4/15/22\",\"4/16/22\",\"4/17/22\",\"4/18/22\",\"4/19/22\",\"4/20/22\",\"4/21/22\",\"4/22/22\",\"4/23/22\",\"4/24/22\",\"4/25/22\",\"4/26/22\",\"4/27/22\",\"4/28/22\",\"4/29/22\",\"4/30/22\",\"5/1/22\",\"5/2/22\",\"5/3/22\",\"5/4/22\",\"5/5/22\",\"5/6/22\",\"5/7/22\",\"5/8/22\",\"5/9/22\",\"5/10/22\",\"5/11/22\",\"5/12/22\",\"5/13/22\",\"5/14/22\",\"5/15/22\",\"5/16/22\",\"5/17/22\",\"5/18/22\",\"5/19/22\",\"5/20/22\",\"5/21/22\",\"5/22/22\",\"5/23/22\",\"5/24/22\",\"5/25/22\",\"5/26/22\",\"5/27/22\",\"5/28/22\",\"5/29/22\",\"5/30/22\",\"5/31/22\",\"6/1/22\",\"6/2/22\",\"6/3/22\",\"6/4/22\",\"6/5/22\",\"6/6/22\",\"6/7/22\",\"6/8/22\",\"6/9/22\",\"6/10/22\",\"6/11/22\",\"6/12/22\",\"6/13/22\",\"6/14/22\",\"6/15/22\",\"6/16/22\",\"6/17/22\",\"6/18/22\",\"6/19/22\",\"6/20/22\",\"6/21/22\",\"6/22/22\",\"6/23/22\",\"6/24/22\",\"6/25/22\",\"6/26/22\",\"6/27/22\",\"6/28/22\",\"6/29/22\",\"6/30/22\",\"7/1/22\",\"7/2/22\",\"7/3/22\",\"7/4/22\",\"7/5/22\",\"7/6/22\",\"7/7/22\",\"7/8/22\",\"7/9/22\",\"7/10/22\",\"7/11/22\",\"7/12/22\",\"7/13/22\",\"7/14/22\",\"7/15/22\",\"7/16/22\",\"7/17/22\",\"7/18/22\",\"7/19/22\",\"7/20/22\",\"7/21/22\",\"7/22/22\",\"7/23/22\",\"7/24/22\",\"7/25/22\",\"7/26/22\",\"7/27/22\",\"7/28/22\",\"7/29/22\",\"7/30/22\",\"7/31/22\",\"8/1/22\",\"8/2/22\",\"8/3/22\",\"8/4/22\",\"8/5/22\",\"8/6/22\",\"8/7/22\",\"8/8/22\",\"8/9/22\",\"8/10/22\",\"8/11/22\",\"8/12/22\",\"8/13/22\",\"8/14/22\",\"8/15/22\",\"8/16/22\",\"8/17/22\",\"8/18/22\",\"8/19/22\",\"8/20/22\",\"8/21/22\",\"8/22/22\",\"8/23/22\",\"8/24/22\",\"8/25/22\",\"8/26/22\",\"8/27/22\",\"8/28/22\",\"8/29/22\",\"8/30/22\",\"8/31/22\",\"9/1/22\",\"9/2/22\",\"9/3/22\",\"9/4/22\",\"9/5/22\",\"9/6/22\",\"9/7/22\",\"9/8/22\",\"9/9/22\",\"9/10/22\",\"9/11/22\",\"9/12/22\",\"9/13/22\",\"9/14/22\",\"9/15/22\",\"9/16/22\",\"9/17/22\",\"9/18/22\",\"9/19/22\",\"9/20/22\",\"9/21/22\",\"9/22/22\",\"9/23/22\",\"9/24/22\",\"9/25/22\",\"9/26/22\",\"9/27/22\",\"9/28/22\",\"9/29/22\",\"9/30/22\",\"10/1/22\",\"10/2/22\",\"10/3/22\",\"10/4/22\",\"10/5/22\",\"10/6/22\",\"10/7/22\",\"10/8/22\",\"10/9/22\",\"10/10/22\",\"10/11/22\",\"10/12/22\",\"10/13/22\",\"10/14/22\",\"10/15/22\",\"10/16/22\",\"10/17/22\",\"10/18/22\",\"10/19/22\",\"10/20/22\",\"10/21/22\",\"10/22/22\",\"10/23/22\",\"10/24/22\",\"10/25/22\",\"10/26/22\",\"10/27/22\",\"10/28/22\",\"10/29/22\",\"10/30/22\",\"10/31/22\",\"11/1/22\",\"11/2/22\",\"11/3/22\",\"11/4/22\",\"11/5/22\",\"11/6/22\",\"11/7/22\",\"11/8/22\",\"11/9/22\",\"11/10/22\",\"11/11/22\",\"11/12/22\",\"11/13/22\",\"11/14/22\",\"11/15/22\",\"11/16/22\",\"11/17/22\",\"11/18/22\",\"11/19/22\",\"11/20/22\",\"11/21/22\",\"11/22/22\",\"11/23/22\",\"11/24/22\",\"11/25/22\",\"11/26/22\",\"11/27/22\",\"11/28/22\",\"11/29/22\",\"11/30/22\",\"12/1/22\",\"12/2/22\",\"12/3/22\",\"12/4/22\",\"12/5/22\",\"12/6/22\",\"12/7/22\",\"12/8/22\",\"12/9/22\",\"12/10/22\",\"12/11/22\",\"12/12/22\",\"12/13/22\",\"12/14/22\",\"12/15/22\",\"12/16/22\",\"12/17/22\",\"12/18/22\",\"12/19/22\",\"12/20/22\",\"12/21/22\",\"12/22/22\",\"12/23/22\",\"12/24/22\",\"12/25/22\",\"12/26/22\",\"12/27/22\",\"12/28/22\",\"12/29/22\",\"12/30/22\",\"12/31/22\",\"1/1/23\",\"1/2/23\"],\"xaxis\":\"x\",\"y\":[0.0,0.0,0.0,0.0,0.0,0.0,0.0,0.0,0.0,0.0,0.0,0.0,0.0,0.0,0.0,0.0,0.0,0.0,0.0,0.0,0.0,0.0,0.0,0.0,0.0,0.0,0.0,0.0,0.0,0.0,0.0,0.0,0.0,0.0,0.0,0.0,0.0,0.0,0.0,0.0,0.0,0.0,0.0,0.0,0.0,0.0,0.0,0.0,0.0,0.0,1.0,0.0,2.0,0.0,0.0,0.0,4.0,0.0,0.0,8.0,1.0,9.0,3.0,3.0,0.0,7.0,4.0,8.0,9.0,22.0,29.0,12.0,4.0,16.0,16.0,14.0,7.0,5.0,5.0,2.0,6.0,11.0,8.0,9.0,9.0,12.0,16.0,8.0,11.0,15.0,7.0,17.0,16.0,7.0,12.0,8.0,11.0,10.0,12.0,15.0,24.0,30.0,25.0,45.0,47.0,25.0,14.0,28.0,23.0,28.0,15.0,22.0,21.0,23.0,49.0,57.0,25.0,51.0,66.0,80.0,52.0,31.0,22.0,72.0,62.0,123.0,147.0,127.0,143.0,74.0,59.0,72.0,123.0,124.0,134.0,126.0,167.0,105.0,117.0,105.0,121.0,90.0,152.0,137.0,133.0,133.0,184.0,213.0,117.0,104.0,260.0,59.0,155.0,254.0,178.0,149.0,278.0,259.0,120.0,176.0,307.0,268.0,247.0,389.0,309.0,181.0,183.0,278.0,447.0,473.0,278.0,379.0,189.0,497.0,461.0,421.0,389.0,688.0,603.0,418.0,397.0,637.0,796.0,667.0,375.0,960.0,372.0,606.0,544.0,788.0,723.0,727.0,690.0,544.0,605.0,671.0,538.0,727.0,699.0,599.0,492.0,497.0,679.0,650.0,580.0,515.0,271.0,245.0,271.0,379.0,426.0,322.0,355.0,246.0,193.0,246.0,213.0,373.0,241.0,164.0,263.0,144.0,114.0,178.0,212.0,179.0,136.0,83.0,102.0,151.0,104.0,143.0,190.0,176.0,188.0,48.0,96.0,0.0,275.0,148.0,105.0,152.0,98.0,139.0,130.0,141.0,218.0,164.0,244.0,53.0,210.0,151.0,184.0,210.0,261.0,243.0,22.0,137.0,321.0,271.0,442.0,538.0,388.0,73.0,318.0,604.0,602.0,437.0,616.0,685.0,195.0,571.0,497.0,1068.0,631.0,947.0,931.0,276.0,836.0,1018.0,761.0,1185.0,1395.0,685.0,724.0,492.0,1494.0,1008.0,1109.0,1065.0,719.0,756.0,1344.0,1216.0,919.0,1470.0,1080.0,972.0,559.0,925.0,957.0,1459.0,1048.0,1211.0,968.0,413.0,727.0,810.0,780.0,1554.0,949.0,711.0,302.0,551.0,961.0,1253.0,866.0,735.0,396.0,199.0,521.0,561.0,644.0,673.0,548.0,366.0,163.0,404.0,394.0,552.0,356.0,390.0,349.0,114.0,154.0,427.0,236.0,282.0,130.0,80.0,69.0,147.0,112.0,207.0,156.0,64.0,124.0,106.0,219.0,271.0,335.0,221.0,230.0,87.0,63.0,98.0,123.0,138.0,166.0,223.0,80.0,65.0,81.0,136.0,186.0,139.0,129.0,85.0,69.0,141.0,130.0,99.0,141.0,112.0,98.0,83.0,153.0,150.0,180.0,195.0,156.0,129.0,125.0,104.0,173.0,132.0,260.0,179.0,75.0,147.0,174.0,144.0,283.0,226.0,152.0,208.0,105.0,194.0,280.0,277.0,410.0,181.0,325.0,152.0,345.0,331.0,528.0,400.0,633.0,465.0,337.0,479.0,713.0,829.0,750.0,870.0,431.0,731.0,1064.0,1279.0,1225.0,1354.0,1274.0,747.0,1130.0,1127.0,1540.0,1463.0,2008.0,1152.0,884.0,902.0,1530.0,1412.0,984.0,1851.0,1184.0,911.0,460.0,394.0,1523.0,1698.0,1091.0,1030.0,486.0,486.0,991.0,981.0,1091.0,1041.0,1027.0,366.0,241.0,629.0,965.0,904.0,773.0,1153.0,469.0,194.0,511.0,834.0,495.0,497.0,735.0,369.0,137.0,345.0,489.0,705.0,568.0,572.0,316.0,66.0,356.0,410.0,334.0,392.0,267.0,86.0,72.0,469.0,376.0,494.0,659.0,573.0,324.0,111.0,382.0,431.0,341.0,344.0,444.0,162.0,88.0,349.0,142.0,432.0,284.0,383.0,166.0,148.0,433.0,589.0,624.0,488.0,403.0,161.0,344.0,456.0,485.0,660.0,796.0,714.0,283.0,218.0,583.0,622.0,741.0,646.0,508.0,204.0,287.0,719.0,558.0,376.0,523.0,531.0,277.0,185.0,400.0,506.0,566.0,452.0,536.0,241.0,188.0,761.0,480.0,837.0,692.0,723.0,323.0,431.0,618.0,503.0,801.0,787.0,847.0,664.0,550.0,976.0,1006.0,1068.0,945.0,1259.0,467.0,591.0,1085.0,1335.0,1571.0,1561.0,1205.0,800.0,745.0,1183.0,1974.0,1546.0,1437.0,1225.0,789.0,679.0,1488.0,1506.0,1263.0,1414.0,1286.0,646.0,619.0,1166.0,1258.0,817.0,932.0,788.0,363.0,346.0,565.0,1018.0,970.0,1001.0,840.0,480.0,258.0,704.0,649.0,501.0,661.0,511.0,269.0,204.0,451.0,446.0,511.0,444.0,515.0,234.0,113.0,313.0,402.0,317.0,394.0,323.0,69.0,54.0,255.0,404.0,260.0,291.0,298.0,91.0,77.0,189.0,130.0,218.0,170.0,159.0,95.0,96.0,65.0,170.0,186.0,134.0,156.0,74.0,33.0,133.0,109.0,67.0,124.0,129.0,44.0,16.0,151.0,99.0,80.0,133.0,142.0,17.0,29.0,70.0,103.0,149.0,76.0,76.0,20.0,20.0,26.0,178.0,94.0,64.0,61.0,21.0,12.0,75.0,69.0,88.0,88.0,59.0,22.0,18.0,53.0,35.0,46.0,42.0,36.0,11.0,28.0,109.0,76.0,96.0,95.0,53.0,29.0,32.0,75.0,108.0,144.0,136.0,202.0,201.0,149.0,331.0,799.0,943.0,1609.0,2169.0,1372.0,1020.0,2844.0,3328.0,3746.0,2964.0,3749.0,1196.0,1596.0,1504.0,3297.0,3286.0,2791.0,2127.0,1354.0,1223.0,2402.0,2216.0,2336.0,2444.0,1667.0,741.0,1034.0,1105.0,813.0,1175.0,1035.0,624.0,310.0,223.0,392.0,762.0,368.0,459.0,300.0,91.0,170.0,185.0,182.0,152.0,193.0,123.0,101.0,46.0,171.0,119.0,93.0,158.0,121.0,53.0,55.0,63.0,60.0,60.0,54.0,48.0,37.0,24.0,20.0,28.0,69.0,26.0,29.0,27.0,6.0,34.0,45.0,41.0,47.0,37.0,24.0,16.0,32.0,24.0,23.0,32.0,14.0,4.0,19.0,21.0,14.0,11.0,20.0,11.0,12.0,12.0,9.0,15.0,18.0,18.0,17.0,9.0,8.0,17.0,13.0,14.0,17.0,15.0,9.0,9.0,12.0,7.0,21.0,13.0,14.0,4.0,14.0,11.0,36.0,9.0,0.0,7.0,10.0,16.0,26.0,5.0,7.0,10.0,4.0,5.0,4.0,12.0,16.0,0.0,42.0,8.0,13.0,9.0,5.0,1.0,21.0,15.0,13.0,13.0,6.0,4.0,10.0,12.0,28.0,22.0,13.0,19.0,21.0,18.0,13.0,23.0,36.0,15.0,20.0,25.0,26.0,32.0,46.0,47.0,20.0,32.0,75.0,57.0,63.0,89.0,128.0,82.0,91.0,117.0,94.0,100.0,150.0,122.0,112.0,80.0,163.0,218.0,202.0,232.0,288.0,195.0,213.0,280.0,467.0,427.0,390.0,398.0,246.0,252.0,419.0,454.0,559.0,502.0,427.0,261.0,232.0,439.0,392.0,404.0,258.0,297.0,0.0,302.0,249.0,292.0,249.0,228.0,204.0,88.0,68.0,124.0,239.0,153.0,133.0,112.0,50.0,58.0,106.0,101.0,80.0,76.0,81.0,55.0,42.0,50.0,67.0,44.0,50.0,49.0,23.0,17.0,50.0,45.0,34.0,40.0,25.0,20.0,21.0,10.0,10.0,18.0,9.0,17.0,12.0,11.0,5.0,19.0,24.0,13.0,20.0,5.0,6.0,8.0,27.0,5.0,12.0,48.0,8.0,4.0,5.0,13.0,27.0,4.0,20.0,1.0,2.0,6.0,16.0,12.0,9.0,10.0,5.0,6.0,6.0,1.0,7.0,9.0,8.0,9.0,6.0,18.0,6.0,8.0,0.0,10.0,1.0,0.0,14.0,16.0,0.0,14.0,5.0,6.0,4.0,6.0,8.0,11.0,10.0,0.0,15.0,7.0,12.0,10.0,10.0,30.0,3.0,7.0,21.0,48.0,31.0,25.0,25.0,0.0,21.0,0.0,0.0,159.0,62.0,66.0,42.0,35.0,34.0,106.0,97.0,0.0,202.0,119.0,85.0,32.0,0.0,199.0,127.0,95.0,162.0,60.0,0.0,169.0,90.0,94.0,104.0,87.0,55.0,13.0,73.0,119.0,84.0,42.0,99.0,36.0,19.0,58.0,63.0,60.0,108.0,82.0,38.0,9.0,44.0,49.0,57.0,10.0,0.0,14.0,13.0,35.0,54.0,39.0,46.0,26.0,16.0,11.0,21.0,50.0,26.0,7.0,19.0,0.0,5.0,2.0,2.0,3.0,11.0,6.0,8.0,4.0],\"yaxis\":\"y\",\"type\":\"scattergl\"}],                        {\"template\":{\"data\":{\"bar\":[{\"error_x\":{\"color\":\"#2a3f5f\"},\"error_y\":{\"color\":\"#2a3f5f\"},\"marker\":{\"line\":{\"color\":\"#E5ECF6\",\"width\":0.5},\"pattern\":{\"fillmode\":\"overlay\",\"size\":10,\"solidity\":0.2}},\"type\":\"bar\"}],\"barpolar\":[{\"marker\":{\"line\":{\"color\":\"#E5ECF6\",\"width\":0.5},\"pattern\":{\"fillmode\":\"overlay\",\"size\":10,\"solidity\":0.2}},\"type\":\"barpolar\"}],\"carpet\":[{\"aaxis\":{\"endlinecolor\":\"#2a3f5f\",\"gridcolor\":\"white\",\"linecolor\":\"white\",\"minorgridcolor\":\"white\",\"startlinecolor\":\"#2a3f5f\"},\"baxis\":{\"endlinecolor\":\"#2a3f5f\",\"gridcolor\":\"white\",\"linecolor\":\"white\",\"minorgridcolor\":\"white\",\"startlinecolor\":\"#2a3f5f\"},\"type\":\"carpet\"}],\"choropleth\":[{\"colorbar\":{\"outlinewidth\":0,\"ticks\":\"\"},\"type\":\"choropleth\"}],\"contour\":[{\"colorbar\":{\"outlinewidth\":0,\"ticks\":\"\"},\"colorscale\":[[0.0,\"#0d0887\"],[0.1111111111111111,\"#46039f\"],[0.2222222222222222,\"#7201a8\"],[0.3333333333333333,\"#9c179e\"],[0.4444444444444444,\"#bd3786\"],[0.5555555555555556,\"#d8576b\"],[0.6666666666666666,\"#ed7953\"],[0.7777777777777778,\"#fb9f3a\"],[0.8888888888888888,\"#fdca26\"],[1.0,\"#f0f921\"]],\"type\":\"contour\"}],\"contourcarpet\":[{\"colorbar\":{\"outlinewidth\":0,\"ticks\":\"\"},\"type\":\"contourcarpet\"}],\"heatmap\":[{\"colorbar\":{\"outlinewidth\":0,\"ticks\":\"\"},\"colorscale\":[[0.0,\"#0d0887\"],[0.1111111111111111,\"#46039f\"],[0.2222222222222222,\"#7201a8\"],[0.3333333333333333,\"#9c179e\"],[0.4444444444444444,\"#bd3786\"],[0.5555555555555556,\"#d8576b\"],[0.6666666666666666,\"#ed7953\"],[0.7777777777777778,\"#fb9f3a\"],[0.8888888888888888,\"#fdca26\"],[1.0,\"#f0f921\"]],\"type\":\"heatmap\"}],\"heatmapgl\":[{\"colorbar\":{\"outlinewidth\":0,\"ticks\":\"\"},\"colorscale\":[[0.0,\"#0d0887\"],[0.1111111111111111,\"#46039f\"],[0.2222222222222222,\"#7201a8\"],[0.3333333333333333,\"#9c179e\"],[0.4444444444444444,\"#bd3786\"],[0.5555555555555556,\"#d8576b\"],[0.6666666666666666,\"#ed7953\"],[0.7777777777777778,\"#fb9f3a\"],[0.8888888888888888,\"#fdca26\"],[1.0,\"#f0f921\"]],\"type\":\"heatmapgl\"}],\"histogram\":[{\"marker\":{\"pattern\":{\"fillmode\":\"overlay\",\"size\":10,\"solidity\":0.2}},\"type\":\"histogram\"}],\"histogram2d\":[{\"colorbar\":{\"outlinewidth\":0,\"ticks\":\"\"},\"colorscale\":[[0.0,\"#0d0887\"],[0.1111111111111111,\"#46039f\"],[0.2222222222222222,\"#7201a8\"],[0.3333333333333333,\"#9c179e\"],[0.4444444444444444,\"#bd3786\"],[0.5555555555555556,\"#d8576b\"],[0.6666666666666666,\"#ed7953\"],[0.7777777777777778,\"#fb9f3a\"],[0.8888888888888888,\"#fdca26\"],[1.0,\"#f0f921\"]],\"type\":\"histogram2d\"}],\"histogram2dcontour\":[{\"colorbar\":{\"outlinewidth\":0,\"ticks\":\"\"},\"colorscale\":[[0.0,\"#0d0887\"],[0.1111111111111111,\"#46039f\"],[0.2222222222222222,\"#7201a8\"],[0.3333333333333333,\"#9c179e\"],[0.4444444444444444,\"#bd3786\"],[0.5555555555555556,\"#d8576b\"],[0.6666666666666666,\"#ed7953\"],[0.7777777777777778,\"#fb9f3a\"],[0.8888888888888888,\"#fdca26\"],[1.0,\"#f0f921\"]],\"type\":\"histogram2dcontour\"}],\"mesh3d\":[{\"colorbar\":{\"outlinewidth\":0,\"ticks\":\"\"},\"type\":\"mesh3d\"}],\"parcoords\":[{\"line\":{\"colorbar\":{\"outlinewidth\":0,\"ticks\":\"\"}},\"type\":\"parcoords\"}],\"pie\":[{\"automargin\":true,\"type\":\"pie\"}],\"scatter\":[{\"marker\":{\"colorbar\":{\"outlinewidth\":0,\"ticks\":\"\"}},\"type\":\"scatter\"}],\"scatter3d\":[{\"line\":{\"colorbar\":{\"outlinewidth\":0,\"ticks\":\"\"}},\"marker\":{\"colorbar\":{\"outlinewidth\":0,\"ticks\":\"\"}},\"type\":\"scatter3d\"}],\"scattercarpet\":[{\"marker\":{\"colorbar\":{\"outlinewidth\":0,\"ticks\":\"\"}},\"type\":\"scattercarpet\"}],\"scattergeo\":[{\"marker\":{\"colorbar\":{\"outlinewidth\":0,\"ticks\":\"\"}},\"type\":\"scattergeo\"}],\"scattergl\":[{\"marker\":{\"colorbar\":{\"outlinewidth\":0,\"ticks\":\"\"}},\"type\":\"scattergl\"}],\"scattermapbox\":[{\"marker\":{\"colorbar\":{\"outlinewidth\":0,\"ticks\":\"\"}},\"type\":\"scattermapbox\"}],\"scatterpolar\":[{\"marker\":{\"colorbar\":{\"outlinewidth\":0,\"ticks\":\"\"}},\"type\":\"scatterpolar\"}],\"scatterpolargl\":[{\"marker\":{\"colorbar\":{\"outlinewidth\":0,\"ticks\":\"\"}},\"type\":\"scatterpolargl\"}],\"scatterternary\":[{\"marker\":{\"colorbar\":{\"outlinewidth\":0,\"ticks\":\"\"}},\"type\":\"scatterternary\"}],\"surface\":[{\"colorbar\":{\"outlinewidth\":0,\"ticks\":\"\"},\"colorscale\":[[0.0,\"#0d0887\"],[0.1111111111111111,\"#46039f\"],[0.2222222222222222,\"#7201a8\"],[0.3333333333333333,\"#9c179e\"],[0.4444444444444444,\"#bd3786\"],[0.5555555555555556,\"#d8576b\"],[0.6666666666666666,\"#ed7953\"],[0.7777777777777778,\"#fb9f3a\"],[0.8888888888888888,\"#fdca26\"],[1.0,\"#f0f921\"]],\"type\":\"surface\"}],\"table\":[{\"cells\":{\"fill\":{\"color\":\"#EBF0F8\"},\"line\":{\"color\":\"white\"}},\"header\":{\"fill\":{\"color\":\"#C8D4E3\"},\"line\":{\"color\":\"white\"}},\"type\":\"table\"}]},\"layout\":{\"annotationdefaults\":{\"arrowcolor\":\"#2a3f5f\",\"arrowhead\":0,\"arrowwidth\":1},\"autotypenumbers\":\"strict\",\"coloraxis\":{\"colorbar\":{\"outlinewidth\":0,\"ticks\":\"\"}},\"colorscale\":{\"diverging\":[[0,\"#8e0152\"],[0.1,\"#c51b7d\"],[0.2,\"#de77ae\"],[0.3,\"#f1b6da\"],[0.4,\"#fde0ef\"],[0.5,\"#f7f7f7\"],[0.6,\"#e6f5d0\"],[0.7,\"#b8e186\"],[0.8,\"#7fbc41\"],[0.9,\"#4d9221\"],[1,\"#276419\"]],\"sequential\":[[0.0,\"#0d0887\"],[0.1111111111111111,\"#46039f\"],[0.2222222222222222,\"#7201a8\"],[0.3333333333333333,\"#9c179e\"],[0.4444444444444444,\"#bd3786\"],[0.5555555555555556,\"#d8576b\"],[0.6666666666666666,\"#ed7953\"],[0.7777777777777778,\"#fb9f3a\"],[0.8888888888888888,\"#fdca26\"],[1.0,\"#f0f921\"]],\"sequentialminus\":[[0.0,\"#0d0887\"],[0.1111111111111111,\"#46039f\"],[0.2222222222222222,\"#7201a8\"],[0.3333333333333333,\"#9c179e\"],[0.4444444444444444,\"#bd3786\"],[0.5555555555555556,\"#d8576b\"],[0.6666666666666666,\"#ed7953\"],[0.7777777777777778,\"#fb9f3a\"],[0.8888888888888888,\"#fdca26\"],[1.0,\"#f0f921\"]]},\"colorway\":[\"#636efa\",\"#EF553B\",\"#00cc96\",\"#ab63fa\",\"#FFA15A\",\"#19d3f3\",\"#FF6692\",\"#B6E880\",\"#FF97FF\",\"#FECB52\"],\"font\":{\"color\":\"#2a3f5f\"},\"geo\":{\"bgcolor\":\"white\",\"lakecolor\":\"white\",\"landcolor\":\"#E5ECF6\",\"showlakes\":true,\"showland\":true,\"subunitcolor\":\"white\"},\"hoverlabel\":{\"align\":\"left\"},\"hovermode\":\"closest\",\"mapbox\":{\"style\":\"light\"},\"paper_bgcolor\":\"white\",\"plot_bgcolor\":\"#E5ECF6\",\"polar\":{\"angularaxis\":{\"gridcolor\":\"white\",\"linecolor\":\"white\",\"ticks\":\"\"},\"bgcolor\":\"#E5ECF6\",\"radialaxis\":{\"gridcolor\":\"white\",\"linecolor\":\"white\",\"ticks\":\"\"}},\"scene\":{\"xaxis\":{\"backgroundcolor\":\"#E5ECF6\",\"gridcolor\":\"white\",\"gridwidth\":2,\"linecolor\":\"white\",\"showbackground\":true,\"ticks\":\"\",\"zerolinecolor\":\"white\"},\"yaxis\":{\"backgroundcolor\":\"#E5ECF6\",\"gridcolor\":\"white\",\"gridwidth\":2,\"linecolor\":\"white\",\"showbackground\":true,\"ticks\":\"\",\"zerolinecolor\":\"white\"},\"zaxis\":{\"backgroundcolor\":\"#E5ECF6\",\"gridcolor\":\"white\",\"gridwidth\":2,\"linecolor\":\"white\",\"showbackground\":true,\"ticks\":\"\",\"zerolinecolor\":\"white\"}},\"shapedefaults\":{\"line\":{\"color\":\"#2a3f5f\"}},\"ternary\":{\"aaxis\":{\"gridcolor\":\"white\",\"linecolor\":\"white\",\"ticks\":\"\"},\"baxis\":{\"gridcolor\":\"white\",\"linecolor\":\"white\",\"ticks\":\"\"},\"bgcolor\":\"#E5ECF6\",\"caxis\":{\"gridcolor\":\"white\",\"linecolor\":\"white\",\"ticks\":\"\"}},\"title\":{\"x\":0.05},\"xaxis\":{\"automargin\":true,\"gridcolor\":\"white\",\"linecolor\":\"white\",\"ticks\":\"\",\"title\":{\"standoff\":15},\"zerolinecolor\":\"white\",\"zerolinewidth\":2},\"yaxis\":{\"automargin\":true,\"gridcolor\":\"white\",\"linecolor\":\"white\",\"ticks\":\"\",\"title\":{\"standoff\":15},\"zerolinecolor\":\"white\",\"zerolinewidth\":2}}},\"xaxis\":{\"anchor\":\"y\",\"domain\":[0.0,1.0],\"title\":{\"text\":\"Date\"},\"visible\":false,\"showticklabels\":false},\"yaxis\":{\"anchor\":\"x\",\"domain\":[0.0,1.0],\"title\":{\"text\":\"Covid_Cases\"}},\"legend\":{\"tracegroupgap\":0},\"title\":{\"text\":\"Covid-19 Daily Cases\"}},                        {\"displayModeBar\": false, \"responsive\": true}                    ).then(function(){\n",
              "                            \n",
              "var gd = document.getElementById('536e09eb-ebea-4711-b0bb-b96d107793a6');\n",
              "var x = new MutationObserver(function (mutations, observer) {{\n",
              "        var display = window.getComputedStyle(gd).display;\n",
              "        if (!display || display === 'none') {{\n",
              "            console.log([gd, 'removed!']);\n",
              "            Plotly.purge(gd);\n",
              "            observer.disconnect();\n",
              "        }}\n",
              "}});\n",
              "\n",
              "// Listen for the removal of the full notebook cells\n",
              "var notebookContainer = gd.closest('#notebook-container');\n",
              "if (notebookContainer) {{\n",
              "    x.observe(notebookContainer, {childList: true});\n",
              "}}\n",
              "\n",
              "// Listen for the clearing of the current output cell\n",
              "var outputEl = gd.closest('.output');\n",
              "if (outputEl) {{\n",
              "    x.observe(outputEl, {childList: true});\n",
              "}}\n",
              "\n",
              "                        })                };                            </script>        </div>\n",
              "</body>\n",
              "</html>"
            ]
          },
          "metadata": {}
        }
      ]
    },
    {
      "cell_type": "markdown",
      "source": [
        "**2. Covid-19 Deaths in Kenya**"
      ],
      "metadata": {
        "id": "I4qVb_Of7fyo"
      }
    },
    {
      "cell_type": "code",
      "source": [
        "fig = px.line(Kenya_cases,x='Date', y='Covid_Deaths', title='Covid-19 Daily Deaths',color_discrete_sequence=[\"red\"])\n",
        "fig.update_xaxes(visible=False,showticklabels=False )\n",
        "fig.show(config= dict(displayModeBar = False))"
      ],
      "metadata": {
        "id": "1PTVbz5M7hpx",
        "outputId": "fdfa6a0f-92ec-4d9d-cc38-d75203289e4c",
        "colab": {
          "base_uri": "https://localhost:8080/",
          "height": 542
        }
      },
      "execution_count": 254,
      "outputs": [
        {
          "output_type": "display_data",
          "data": {
            "text/html": [
              "<html>\n",
              "<head><meta charset=\"utf-8\" /></head>\n",
              "<body>\n",
              "    <div>            <script src=\"https://cdnjs.cloudflare.com/ajax/libs/mathjax/2.7.5/MathJax.js?config=TeX-AMS-MML_SVG\"></script><script type=\"text/javascript\">if (window.MathJax) {MathJax.Hub.Config({SVG: {font: \"STIX-Web\"}});}</script>                <script type=\"text/javascript\">window.PlotlyConfig = {MathJaxConfig: 'local'};</script>\n",
              "        <script src=\"https://cdn.plot.ly/plotly-2.8.3.min.js\"></script>                <div id=\"41b42dca-086f-4935-978f-4cb60bde5ee8\" class=\"plotly-graph-div\" style=\"height:525px; width:100%;\"></div>            <script type=\"text/javascript\">                                    window.PLOTLYENV=window.PLOTLYENV || {};                                    if (document.getElementById(\"41b42dca-086f-4935-978f-4cb60bde5ee8\")) {                    Plotly.newPlot(                        \"41b42dca-086f-4935-978f-4cb60bde5ee8\",                        [{\"hovertemplate\":\"Date=%{x}<br>Covid_Deaths=%{y}<extra></extra>\",\"legendgroup\":\"\",\"line\":{\"color\":\"red\",\"dash\":\"solid\"},\"marker\":{\"symbol\":\"circle\"},\"mode\":\"lines\",\"name\":\"\",\"showlegend\":false,\"x\":[\"1/23/20\",\"1/24/20\",\"1/25/20\",\"1/26/20\",\"1/27/20\",\"1/28/20\",\"1/29/20\",\"1/30/20\",\"1/31/20\",\"2/1/20\",\"2/2/20\",\"2/3/20\",\"2/4/20\",\"2/5/20\",\"2/6/20\",\"2/7/20\",\"2/8/20\",\"2/9/20\",\"2/10/20\",\"2/11/20\",\"2/12/20\",\"2/13/20\",\"2/14/20\",\"2/15/20\",\"2/16/20\",\"2/17/20\",\"2/18/20\",\"2/19/20\",\"2/20/20\",\"2/21/20\",\"2/22/20\",\"2/23/20\",\"2/24/20\",\"2/25/20\",\"2/26/20\",\"2/27/20\",\"2/28/20\",\"2/29/20\",\"3/1/20\",\"3/2/20\",\"3/3/20\",\"3/4/20\",\"3/5/20\",\"3/6/20\",\"3/7/20\",\"3/8/20\",\"3/9/20\",\"3/10/20\",\"3/11/20\",\"3/12/20\",\"3/13/20\",\"3/14/20\",\"3/15/20\",\"3/16/20\",\"3/17/20\",\"3/18/20\",\"3/19/20\",\"3/20/20\",\"3/21/20\",\"3/22/20\",\"3/23/20\",\"3/24/20\",\"3/25/20\",\"3/26/20\",\"3/27/20\",\"3/28/20\",\"3/29/20\",\"3/30/20\",\"3/31/20\",\"4/1/20\",\"4/2/20\",\"4/3/20\",\"4/4/20\",\"4/5/20\",\"4/6/20\",\"4/7/20\",\"4/8/20\",\"4/9/20\",\"4/10/20\",\"4/11/20\",\"4/12/20\",\"4/13/20\",\"4/14/20\",\"4/15/20\",\"4/16/20\",\"4/17/20\",\"4/18/20\",\"4/19/20\",\"4/20/20\",\"4/21/20\",\"4/22/20\",\"4/23/20\",\"4/24/20\",\"4/25/20\",\"4/26/20\",\"4/27/20\",\"4/28/20\",\"4/29/20\",\"4/30/20\",\"5/1/20\",\"5/2/20\",\"5/3/20\",\"5/4/20\",\"5/5/20\",\"5/6/20\",\"5/7/20\",\"5/8/20\",\"5/9/20\",\"5/10/20\",\"5/11/20\",\"5/12/20\",\"5/13/20\",\"5/14/20\",\"5/15/20\",\"5/16/20\",\"5/17/20\",\"5/18/20\",\"5/19/20\",\"5/20/20\",\"5/21/20\",\"5/22/20\",\"5/23/20\",\"5/24/20\",\"5/25/20\",\"5/26/20\",\"5/27/20\",\"5/28/20\",\"5/29/20\",\"5/30/20\",\"5/31/20\",\"6/1/20\",\"6/2/20\",\"6/3/20\",\"6/4/20\",\"6/5/20\",\"6/6/20\",\"6/7/20\",\"6/8/20\",\"6/9/20\",\"6/10/20\",\"6/11/20\",\"6/12/20\",\"6/13/20\",\"6/14/20\",\"6/15/20\",\"6/16/20\",\"6/17/20\",\"6/18/20\",\"6/19/20\",\"6/20/20\",\"6/21/20\",\"6/22/20\",\"6/23/20\",\"6/24/20\",\"6/25/20\",\"6/26/20\",\"6/27/20\",\"6/28/20\",\"6/29/20\",\"6/30/20\",\"7/1/20\",\"7/2/20\",\"7/3/20\",\"7/4/20\",\"7/5/20\",\"7/6/20\",\"7/7/20\",\"7/8/20\",\"7/9/20\",\"7/10/20\",\"7/11/20\",\"7/12/20\",\"7/13/20\",\"7/14/20\",\"7/15/20\",\"7/16/20\",\"7/17/20\",\"7/18/20\",\"7/19/20\",\"7/20/20\",\"7/21/20\",\"7/22/20\",\"7/23/20\",\"7/24/20\",\"7/25/20\",\"7/26/20\",\"7/27/20\",\"7/28/20\",\"7/29/20\",\"7/30/20\",\"7/31/20\",\"8/1/20\",\"8/2/20\",\"8/3/20\",\"8/4/20\",\"8/5/20\",\"8/6/20\",\"8/7/20\",\"8/8/20\",\"8/9/20\",\"8/10/20\",\"8/11/20\",\"8/12/20\",\"8/13/20\",\"8/14/20\",\"8/15/20\",\"8/16/20\",\"8/17/20\",\"8/18/20\",\"8/19/20\",\"8/20/20\",\"8/21/20\",\"8/22/20\",\"8/23/20\",\"8/24/20\",\"8/25/20\",\"8/26/20\",\"8/27/20\",\"8/28/20\",\"8/29/20\",\"8/30/20\",\"8/31/20\",\"9/1/20\",\"9/2/20\",\"9/3/20\",\"9/4/20\",\"9/5/20\",\"9/6/20\",\"9/7/20\",\"9/8/20\",\"9/9/20\",\"9/10/20\",\"9/11/20\",\"9/12/20\",\"9/13/20\",\"9/14/20\",\"9/15/20\",\"9/16/20\",\"9/17/20\",\"9/18/20\",\"9/19/20\",\"9/20/20\",\"9/21/20\",\"9/22/20\",\"9/23/20\",\"9/24/20\",\"9/25/20\",\"9/26/20\",\"9/27/20\",\"9/28/20\",\"9/29/20\",\"9/30/20\",\"10/1/20\",\"10/2/20\",\"10/3/20\",\"10/4/20\",\"10/5/20\",\"10/6/20\",\"10/7/20\",\"10/8/20\",\"10/9/20\",\"10/10/20\",\"10/11/20\",\"10/12/20\",\"10/13/20\",\"10/14/20\",\"10/15/20\",\"10/16/20\",\"10/17/20\",\"10/18/20\",\"10/19/20\",\"10/20/20\",\"10/21/20\",\"10/22/20\",\"10/23/20\",\"10/24/20\",\"10/25/20\",\"10/26/20\",\"10/27/20\",\"10/28/20\",\"10/29/20\",\"10/30/20\",\"10/31/20\",\"11/1/20\",\"11/2/20\",\"11/3/20\",\"11/4/20\",\"11/5/20\",\"11/6/20\",\"11/7/20\",\"11/8/20\",\"11/9/20\",\"11/10/20\",\"11/11/20\",\"11/12/20\",\"11/13/20\",\"11/14/20\",\"11/15/20\",\"11/16/20\",\"11/17/20\",\"11/18/20\",\"11/19/20\",\"11/20/20\",\"11/21/20\",\"11/22/20\",\"11/23/20\",\"11/24/20\",\"11/25/20\",\"11/26/20\",\"11/27/20\",\"11/28/20\",\"11/29/20\",\"11/30/20\",\"12/1/20\",\"12/2/20\",\"12/3/20\",\"12/4/20\",\"12/5/20\",\"12/6/20\",\"12/7/20\",\"12/8/20\",\"12/9/20\",\"12/10/20\",\"12/11/20\",\"12/12/20\",\"12/13/20\",\"12/14/20\",\"12/15/20\",\"12/16/20\",\"12/17/20\",\"12/18/20\",\"12/19/20\",\"12/20/20\",\"12/21/20\",\"12/22/20\",\"12/23/20\",\"12/24/20\",\"12/25/20\",\"12/26/20\",\"12/27/20\",\"12/28/20\",\"12/29/20\",\"12/30/20\",\"12/31/20\",\"1/1/21\",\"1/2/21\",\"1/3/21\",\"1/4/21\",\"1/5/21\",\"1/6/21\",\"1/7/21\",\"1/8/21\",\"1/9/21\",\"1/10/21\",\"1/11/21\",\"1/12/21\",\"1/13/21\",\"1/14/21\",\"1/15/21\",\"1/16/21\",\"1/17/21\",\"1/18/21\",\"1/19/21\",\"1/20/21\",\"1/21/21\",\"1/22/21\",\"1/23/21\",\"1/24/21\",\"1/25/21\",\"1/26/21\",\"1/27/21\",\"1/28/21\",\"1/29/21\",\"1/30/21\",\"1/31/21\",\"2/1/21\",\"2/2/21\",\"2/3/21\",\"2/4/21\",\"2/5/21\",\"2/6/21\",\"2/7/21\",\"2/8/21\",\"2/9/21\",\"2/10/21\",\"2/11/21\",\"2/12/21\",\"2/13/21\",\"2/14/21\",\"2/15/21\",\"2/16/21\",\"2/17/21\",\"2/18/21\",\"2/19/21\",\"2/20/21\",\"2/21/21\",\"2/22/21\",\"2/23/21\",\"2/24/21\",\"2/25/21\",\"2/26/21\",\"2/27/21\",\"2/28/21\",\"3/1/21\",\"3/2/21\",\"3/3/21\",\"3/4/21\",\"3/5/21\",\"3/6/21\",\"3/7/21\",\"3/8/21\",\"3/9/21\",\"3/10/21\",\"3/11/21\",\"3/12/21\",\"3/13/21\",\"3/14/21\",\"3/15/21\",\"3/16/21\",\"3/17/21\",\"3/18/21\",\"3/19/21\",\"3/20/21\",\"3/21/21\",\"3/22/21\",\"3/23/21\",\"3/24/21\",\"3/25/21\",\"3/26/21\",\"3/27/21\",\"3/28/21\",\"3/29/21\",\"3/30/21\",\"3/31/21\",\"4/1/21\",\"4/2/21\",\"4/3/21\",\"4/4/21\",\"4/5/21\",\"4/6/21\",\"4/7/21\",\"4/8/21\",\"4/9/21\",\"4/10/21\",\"4/11/21\",\"4/12/21\",\"4/13/21\",\"4/14/21\",\"4/15/21\",\"4/16/21\",\"4/17/21\",\"4/18/21\",\"4/19/21\",\"4/20/21\",\"4/21/21\",\"4/22/21\",\"4/23/21\",\"4/24/21\",\"4/25/21\",\"4/26/21\",\"4/27/21\",\"4/28/21\",\"4/29/21\",\"4/30/21\",\"5/1/21\",\"5/2/21\",\"5/3/21\",\"5/4/21\",\"5/5/21\",\"5/6/21\",\"5/7/21\",\"5/8/21\",\"5/9/21\",\"5/10/21\",\"5/11/21\",\"5/12/21\",\"5/13/21\",\"5/14/21\",\"5/15/21\",\"5/16/21\",\"5/17/21\",\"5/18/21\",\"5/19/21\",\"5/20/21\",\"5/21/21\",\"5/22/21\",\"5/23/21\",\"5/24/21\",\"5/25/21\",\"5/26/21\",\"5/27/21\",\"5/28/21\",\"5/29/21\",\"5/30/21\",\"5/31/21\",\"6/1/21\",\"6/2/21\",\"6/3/21\",\"6/4/21\",\"6/5/21\",\"6/6/21\",\"6/7/21\",\"6/8/21\",\"6/9/21\",\"6/10/21\",\"6/11/21\",\"6/12/21\",\"6/13/21\",\"6/14/21\",\"6/15/21\",\"6/16/21\",\"6/17/21\",\"6/18/21\",\"6/19/21\",\"6/20/21\",\"6/21/21\",\"6/22/21\",\"6/23/21\",\"6/24/21\",\"6/25/21\",\"6/26/21\",\"6/27/21\",\"6/28/21\",\"6/29/21\",\"6/30/21\",\"7/1/21\",\"7/2/21\",\"7/3/21\",\"7/4/21\",\"7/5/21\",\"7/6/21\",\"7/7/21\",\"7/8/21\",\"7/9/21\",\"7/10/21\",\"7/11/21\",\"7/12/21\",\"7/13/21\",\"7/14/21\",\"7/15/21\",\"7/16/21\",\"7/17/21\",\"7/18/21\",\"7/19/21\",\"7/20/21\",\"7/21/21\",\"7/22/21\",\"7/23/21\",\"7/24/21\",\"7/25/21\",\"7/26/21\",\"7/27/21\",\"7/28/21\",\"7/29/21\",\"7/30/21\",\"7/31/21\",\"8/1/21\",\"8/2/21\",\"8/3/21\",\"8/4/21\",\"8/5/21\",\"8/6/21\",\"8/7/21\",\"8/8/21\",\"8/9/21\",\"8/10/21\",\"8/11/21\",\"8/12/21\",\"8/13/21\",\"8/14/21\",\"8/15/21\",\"8/16/21\",\"8/17/21\",\"8/18/21\",\"8/19/21\",\"8/20/21\",\"8/21/21\",\"8/22/21\",\"8/23/21\",\"8/24/21\",\"8/25/21\",\"8/26/21\",\"8/27/21\",\"8/28/21\",\"8/29/21\",\"8/30/21\",\"8/31/21\",\"9/1/21\",\"9/2/21\",\"9/3/21\",\"9/4/21\",\"9/5/21\",\"9/6/21\",\"9/7/21\",\"9/8/21\",\"9/9/21\",\"9/10/21\",\"9/11/21\",\"9/12/21\",\"9/13/21\",\"9/14/21\",\"9/15/21\",\"9/16/21\",\"9/17/21\",\"9/18/21\",\"9/19/21\",\"9/20/21\",\"9/21/21\",\"9/22/21\",\"9/23/21\",\"9/24/21\",\"9/25/21\",\"9/26/21\",\"9/27/21\",\"9/28/21\",\"9/29/21\",\"9/30/21\",\"10/1/21\",\"10/2/21\",\"10/3/21\",\"10/4/21\",\"10/5/21\",\"10/6/21\",\"10/7/21\",\"10/8/21\",\"10/9/21\",\"10/10/21\",\"10/11/21\",\"10/12/21\",\"10/13/21\",\"10/14/21\",\"10/15/21\",\"10/16/21\",\"10/17/21\",\"10/18/21\",\"10/19/21\",\"10/20/21\",\"10/21/21\",\"10/22/21\",\"10/23/21\",\"10/24/21\",\"10/25/21\",\"10/26/21\",\"10/27/21\",\"10/28/21\",\"10/29/21\",\"10/30/21\",\"10/31/21\",\"11/1/21\",\"11/2/21\",\"11/3/21\",\"11/4/21\",\"11/5/21\",\"11/6/21\",\"11/7/21\",\"11/8/21\",\"11/9/21\",\"11/10/21\",\"11/11/21\",\"11/12/21\",\"11/13/21\",\"11/14/21\",\"11/15/21\",\"11/16/21\",\"11/17/21\",\"11/18/21\",\"11/19/21\",\"11/20/21\",\"11/21/21\",\"11/22/21\",\"11/23/21\",\"11/24/21\",\"11/25/21\",\"11/26/21\",\"11/27/21\",\"11/28/21\",\"11/29/21\",\"11/30/21\",\"12/1/21\",\"12/2/21\",\"12/3/21\",\"12/4/21\",\"12/5/21\",\"12/6/21\",\"12/7/21\",\"12/8/21\",\"12/9/21\",\"12/10/21\",\"12/11/21\",\"12/12/21\",\"12/13/21\",\"12/14/21\",\"12/15/21\",\"12/16/21\",\"12/17/21\",\"12/18/21\",\"12/19/21\",\"12/20/21\",\"12/21/21\",\"12/22/21\",\"12/23/21\",\"12/24/21\",\"12/25/21\",\"12/26/21\",\"12/27/21\",\"12/28/21\",\"12/29/21\",\"12/30/21\",\"12/31/21\",\"1/1/22\",\"1/2/22\",\"1/3/22\",\"1/4/22\",\"1/5/22\",\"1/6/22\",\"1/7/22\",\"1/8/22\",\"1/9/22\",\"1/10/22\",\"1/11/22\",\"1/12/22\",\"1/13/22\",\"1/14/22\",\"1/15/22\",\"1/16/22\",\"1/17/22\",\"1/18/22\",\"1/19/22\",\"1/20/22\",\"1/21/22\",\"1/22/22\",\"1/23/22\",\"1/24/22\",\"1/25/22\",\"1/26/22\",\"1/27/22\",\"1/28/22\",\"1/29/22\",\"1/30/22\",\"1/31/22\",\"2/1/22\",\"2/2/22\",\"2/3/22\",\"2/4/22\",\"2/5/22\",\"2/6/22\",\"2/7/22\",\"2/8/22\",\"2/9/22\",\"2/10/22\",\"2/11/22\",\"2/12/22\",\"2/13/22\",\"2/14/22\",\"2/15/22\",\"2/16/22\",\"2/17/22\",\"2/18/22\",\"2/19/22\",\"2/20/22\",\"2/21/22\",\"2/22/22\",\"2/23/22\",\"2/24/22\",\"2/25/22\",\"2/26/22\",\"2/27/22\",\"2/28/22\",\"3/1/22\",\"3/2/22\",\"3/3/22\",\"3/4/22\",\"3/5/22\",\"3/6/22\",\"3/7/22\",\"3/8/22\",\"3/9/22\",\"3/10/22\",\"3/11/22\",\"3/12/22\",\"3/13/22\",\"3/14/22\",\"3/15/22\",\"3/16/22\",\"3/17/22\",\"3/18/22\",\"3/19/22\",\"3/20/22\",\"3/21/22\",\"3/22/22\",\"3/23/22\",\"3/24/22\",\"3/25/22\",\"3/26/22\",\"3/27/22\",\"3/28/22\",\"3/29/22\",\"3/30/22\",\"3/31/22\",\"4/1/22\",\"4/2/22\",\"4/3/22\",\"4/4/22\",\"4/5/22\",\"4/6/22\",\"4/7/22\",\"4/8/22\",\"4/9/22\",\"4/10/22\",\"4/11/22\",\"4/12/22\",\"4/13/22\",\"4/14/22\",\"4/15/22\",\"4/16/22\",\"4/17/22\",\"4/18/22\",\"4/19/22\",\"4/20/22\",\"4/21/22\",\"4/22/22\",\"4/23/22\",\"4/24/22\",\"4/25/22\",\"4/26/22\",\"4/27/22\",\"4/28/22\",\"4/29/22\",\"4/30/22\",\"5/1/22\",\"5/2/22\",\"5/3/22\",\"5/4/22\",\"5/5/22\",\"5/6/22\",\"5/7/22\",\"5/8/22\",\"5/9/22\",\"5/10/22\",\"5/11/22\",\"5/12/22\",\"5/13/22\",\"5/14/22\",\"5/15/22\",\"5/16/22\",\"5/17/22\",\"5/18/22\",\"5/19/22\",\"5/20/22\",\"5/21/22\",\"5/22/22\",\"5/23/22\",\"5/24/22\",\"5/25/22\",\"5/26/22\",\"5/27/22\",\"5/28/22\",\"5/29/22\",\"5/30/22\",\"5/31/22\",\"6/1/22\",\"6/2/22\",\"6/3/22\",\"6/4/22\",\"6/5/22\",\"6/6/22\",\"6/7/22\",\"6/8/22\",\"6/9/22\",\"6/10/22\",\"6/11/22\",\"6/12/22\",\"6/13/22\",\"6/14/22\",\"6/15/22\",\"6/16/22\",\"6/17/22\",\"6/18/22\",\"6/19/22\",\"6/20/22\",\"6/21/22\",\"6/22/22\",\"6/23/22\",\"6/24/22\",\"6/25/22\",\"6/26/22\",\"6/27/22\",\"6/28/22\",\"6/29/22\",\"6/30/22\",\"7/1/22\",\"7/2/22\",\"7/3/22\",\"7/4/22\",\"7/5/22\",\"7/6/22\",\"7/7/22\",\"7/8/22\",\"7/9/22\",\"7/10/22\",\"7/11/22\",\"7/12/22\",\"7/13/22\",\"7/14/22\",\"7/15/22\",\"7/16/22\",\"7/17/22\",\"7/18/22\",\"7/19/22\",\"7/20/22\",\"7/21/22\",\"7/22/22\",\"7/23/22\",\"7/24/22\",\"7/25/22\",\"7/26/22\",\"7/27/22\",\"7/28/22\",\"7/29/22\",\"7/30/22\",\"7/31/22\",\"8/1/22\",\"8/2/22\",\"8/3/22\",\"8/4/22\",\"8/5/22\",\"8/6/22\",\"8/7/22\",\"8/8/22\",\"8/9/22\",\"8/10/22\",\"8/11/22\",\"8/12/22\",\"8/13/22\",\"8/14/22\",\"8/15/22\",\"8/16/22\",\"8/17/22\",\"8/18/22\",\"8/19/22\",\"8/20/22\",\"8/21/22\",\"8/22/22\",\"8/23/22\",\"8/24/22\",\"8/25/22\",\"8/26/22\",\"8/27/22\",\"8/28/22\",\"8/29/22\",\"8/30/22\",\"8/31/22\",\"9/1/22\",\"9/2/22\",\"9/3/22\",\"9/4/22\",\"9/5/22\",\"9/6/22\",\"9/7/22\",\"9/8/22\",\"9/9/22\",\"9/10/22\",\"9/11/22\",\"9/12/22\",\"9/13/22\",\"9/14/22\",\"9/15/22\",\"9/16/22\",\"9/17/22\",\"9/18/22\",\"9/19/22\",\"9/20/22\",\"9/21/22\",\"9/22/22\",\"9/23/22\",\"9/24/22\",\"9/25/22\",\"9/26/22\",\"9/27/22\",\"9/28/22\",\"9/29/22\",\"9/30/22\",\"10/1/22\",\"10/2/22\",\"10/3/22\",\"10/4/22\",\"10/5/22\",\"10/6/22\",\"10/7/22\",\"10/8/22\",\"10/9/22\",\"10/10/22\",\"10/11/22\",\"10/12/22\",\"10/13/22\",\"10/14/22\",\"10/15/22\",\"10/16/22\",\"10/17/22\",\"10/18/22\",\"10/19/22\",\"10/20/22\",\"10/21/22\",\"10/22/22\",\"10/23/22\",\"10/24/22\",\"10/25/22\",\"10/26/22\",\"10/27/22\",\"10/28/22\",\"10/29/22\",\"10/30/22\",\"10/31/22\",\"11/1/22\",\"11/2/22\",\"11/3/22\",\"11/4/22\",\"11/5/22\",\"11/6/22\",\"11/7/22\",\"11/8/22\",\"11/9/22\",\"11/10/22\",\"11/11/22\",\"11/12/22\",\"11/13/22\",\"11/14/22\",\"11/15/22\",\"11/16/22\",\"11/17/22\",\"11/18/22\",\"11/19/22\",\"11/20/22\",\"11/21/22\",\"11/22/22\",\"11/23/22\",\"11/24/22\",\"11/25/22\",\"11/26/22\",\"11/27/22\",\"11/28/22\",\"11/29/22\",\"11/30/22\",\"12/1/22\",\"12/2/22\",\"12/3/22\",\"12/4/22\",\"12/5/22\",\"12/6/22\",\"12/7/22\",\"12/8/22\",\"12/9/22\",\"12/10/22\",\"12/11/22\",\"12/12/22\",\"12/13/22\",\"12/14/22\",\"12/15/22\",\"12/16/22\",\"12/17/22\",\"12/18/22\",\"12/19/22\",\"12/20/22\",\"12/21/22\",\"12/22/22\",\"12/23/22\",\"12/24/22\",\"12/25/22\",\"12/26/22\",\"12/27/22\",\"12/28/22\",\"12/29/22\",\"12/30/22\",\"12/31/22\",\"1/1/23\",\"1/2/23\"],\"xaxis\":\"x\",\"y\":[0.0,0.0,0.0,0.0,0.0,0.0,0.0,0.0,0.0,0.0,0.0,0.0,0.0,0.0,0.0,0.0,0.0,0.0,0.0,0.0,0.0,0.0,0.0,0.0,0.0,0.0,0.0,0.0,0.0,0.0,0.0,0.0,0.0,0.0,0.0,0.0,0.0,0.0,0.0,0.0,0.0,0.0,0.0,0.0,0.0,0.0,0.0,0.0,0.0,0.0,0.0,0.0,0.0,0.0,0.0,0.0,0.0,0.0,0.0,0.0,0.0,0.0,0.0,1.0,0.0,0.0,0.0,0.0,0.0,0.0,2.0,1.0,0.0,0.0,2.0,0.0,0.0,1.0,0.0,0.0,1.0,1.0,0.0,1.0,1.0,0.0,1.0,2.0,0.0,0.0,0.0,0.0,0.0,0.0,0.0,0.0,0.0,1.0,2.0,4.0,1.0,2.0,0.0,0.0,2.0,3.0,0.0,1.0,2.0,1.0,3.0,4.0,2.0,3.0,5.0,0.0,0.0,0.0,0.0,0.0,0.0,0.0,1.0,1.0,0.0,3.0,3.0,4.0,1.0,1.0,5.0,2.0,3.0,4.0,1.0,4.0,1.0,1.0,3.0,1.0,3.0,4.0,4.0,3.0,1.0,1.0,2.0,10.0,2.0,2.0,2.0,2.0,3.0,2.0,2.0,5.0,4.0,2.0,1.0,4.0,1.0,3.0,2.0,5.0,1.0,4.0,3.0,2.0,4.0,8.0,3.0,1.0,12.0,5.0,7.0,8.0,5.0,3.0,9.0,4.0,12.0,10.0,3.0,11.0,4.0,2.0,5.0,14.0,12.0,14.0,16.0,23.0,5.0,13.0,6.0,3.0,8.0,14.0,5.0,2.0,3.0,15.0,18.0,4.0,5.0,7.0,2.0,8.0,5.0,19.0,10.0,16.0,10.0,6.0,6.0,5.0,5.0,3.0,0.0,5.0,2.0,3.0,0.0,4.0,4.0,4.0,5.0,3.0,2.0,0.0,8.0,5.0,4.0,3.0,3.0,2.0,10.0,0.0,8.0,4.0,0.0,2.0,2.0,9.0,5.0,5.0,13.0,7.0,2.0,9.0,7.0,4.0,0.0,14.0,3.0,3.0,4.0,8.0,5.0,3.0,4.0,5.0,6.0,11.0,10.0,10.0,8.0,8.0,12.0,7.0,7.0,3.0,16.0,12.0,14.0,12.0,6.0,18.0,14.0,0.0,30.0,17.0,0.0,32.0,14.0,12.0,12.0,21.0,21.0,10.0,8.0,19.0,24.0,26.0,23.0,25.0,0.0,41.0,18.0,15.0,11.0,17.0,19.0,17.0,14.0,12.0,17.0,8.0,10.0,14.0,4.0,7.0,17.0,5.0,10.0,16.0,6.0,12.0,8.0,5.0,14.0,7.0,16.0,14.0,4.0,1.0,6.0,11.0,10.0,4.0,11.0,4.0,6.0,5.0,3.0,1.0,4.0,1.0,2.0,3.0,6.0,1.0,2.0,3.0,11.0,4.0,0.0,1.0,4.0,4.0,8.0,1.0,1.0,6.0,3.0,3.0,4.0,3.0,3.0,2.0,3.0,3.0,0.0,2.0,3.0,1.0,0.0,4.0,0.0,6.0,1.0,2.0,0.0,2.0,8.0,3.0,0.0,3.0,4.0,3.0,0.0,3.0,7.0,3.0,2.0,3.0,0.0,1.0,0.0,0.0,2.0,4.0,6.0,6.0,4.0,6.0,4.0,10.0,2.0,8.0,6.0,1.0,2.0,3.0,4.0,3.0,4.0,3.0,1.0,2.0,3.0,7.0,12.0,1.0,2.0,7.0,5.0,5.0,7.0,12.0,17.0,28.0,12.0,17.0,12.0,25.0,18.0,26.0,6.0,6.0,13.0,18.0,12.0,6.0,14.0,19.0,20.0,18.0,20.0,14.0,18.0,16.0,17.0,21.0,18.0,20.0,26.0,26.0,4.0,19.0,20.0,18.0,20.0,18.0,21.0,20.0,23.0,20.0,19.0,21.0,22.0,23.0,19.0,17.0,20.0,19.0,18.0,24.0,20.0,25.0,15.0,18.0,12.0,12.0,21.0,22.0,18.0,8.0,25.0,2.0,10.0,8.0,14.0,5.0,3.0,6.0,10.0,14.0,14.0,10.0,11.0,16.0,17.0,16.0,15.0,16.0,18.0,17.0,17.0,24.0,23.0,21.0,18.0,19.0,17.0,16.0,18.0,14.0,11.0,7.0,0.0,6.0,3.0,10.0,9.0,5.0,23.0,30.0,24.0,18.0,18.0,21.0,17.0,9.0,13.0,6.0,11.0,20.0,4.0,15.0,7.0,8.0,11.0,2.0,3.0,1.0,1.0,9.0,5.0,9.0,8.0,6.0,15.0,8.0,17.0,11.0,15.0,12.0,11.0,16.0,7.0,10.0,13.0,15.0,16.0,5.0,15.0,24.0,25.0,30.0,32.0,31.0,29.0,32.0,30.0,32.0,30.0,32.0,29.0,17.0,21.0,10.0,4.0,24.0,26.0,31.0,32.0,30.0,31.0,36.0,36.0,35.0,31.0,28.0,16.0,10.0,6.0,13.0,7.0,11.0,21.0,8.0,9.0,5.0,30.0,34.0,32.0,6.0,4.0,17.0,5.0,21.0,12.0,4.0,15.0,9.0,6.0,13.0,10.0,27.0,37.0,14.0,6.0,7.0,7.0,3.0,4.0,5.0,3.0,9.0,1.0,9.0,25.0,3.0,1.0,2.0,0.0,9.0,5.0,3.0,4.0,8.0,5.0,8.0,1.0,9.0,5.0,0.0,11.0,6.0,2.0,3.0,3.0,3.0,4.0,3.0,3.0,5.0,0.0,1.0,0.0,14.0,0.0,9.0,7.0,0.0,2.0,0.0,1.0,1.0,0.0,0.0,3.0,3.0,3.0,0.0,0.0,0.0,3.0,0.0,2.0,2.0,0.0,1.0,0.0,0.0,1.0,1.0,0.0,0.0,0.0,0.0,0.0,0.0,2.0,0.0,2.0,3.0,4.0,2.0,1.0,0.0,1.0,0.0,3.0,0.0,0.0,0.0,1.0,1.0,1.0,1.0,2.0,2.0,3.0,0.0,8.0,4.0,2.0,3.0,3.0,10.0,7.0,3.0,7.0,14.0,0.0,21.0,8.0,8.0,7.0,3.0,10.0,6.0,0.0,11.0,5.0,16.0,0.0,8.0,3.0,23.0,4.0,4.0,3.0,2.0,11.0,0.0,2.0,3.0,4.0,6.0,11.0,0.0,3.0,14.0,0.0,0.0,1.0,4.0,0.0,3.0,2.0,1.0,0.0,1.0,0.0,0.0,2.0,0.0,3.0,0.0,0.0,0.0,0.0,1.0,0.0,0.0,0.0,1.0,0.0,0.0,0.0,1.0,0.0,0.0,0.0,3.0,0.0,0.0,1.0,1.0,1.0,0.0,0.0,0.0,0.0,0.0,0.0,0.0,0.0,0.0,0.0,0.0,0.0,0.0,1.0,0.0,0.0,0.0,0.0,0.0,0.0,0.0,0.0,0.0,0.0,0.0,0.0,0.0,1.0,0.0,0.0,0.0,0.0,0.0,0.0,0.0,0.0,0.0,0.0,0.0,0.0,0.0,0.0,0.0,0.0,0.0,0.0,0.0,0.0,0.0,0.0,0.0,0.0,0.0,0.0,0.0,0.0,0.0,0.0,0.0,0.0,0.0,0.0,0.0,0.0,0.0,0.0,0.0,2.0,0.0,0.0,0.0,0.0,0.0,0.0,0.0,0.0,0.0,0.0,0.0,0.0,0.0,0.0,0.0,0.0,0.0,0.0,0.0,0.0,0.0,0.0,0.0,0.0,0.0,0.0,0.0,0.0,0.0,0.0,0.0,0.0,0.0,0.0,1.0,0.0,0.0,0.0,0.0,1.0,2.0,0.0,1.0,1.0,2.0,1.0,0.0,3.0,4.0,1.0,0.0,0.0,0.0,0.0,0.0,0.0,0.0,0.0,2.0,0.0,0.0,0.0,0.0,0.0,2.0,0.0,0.0,0.0,0.0,0.0,0.0,0.0,0.0,0.0,0.0,0.0,0.0,0.0,0.0,1.0,0.0,0.0,0.0,0.0,0.0,0.0,0.0,0.0,0.0,0.0,0.0,0.0,0.0,0.0,0.0,0.0,0.0,1.0,0.0,0.0,0.0,0.0,0.0,0.0,0.0,0.0,0.0,0.0,0.0,0.0,0.0,0.0,0.0,1.0,0.0,0.0,0.0,0.0,0.0,0.0,0.0,0.0,0.0,0.0,0.0,0.0,0.0,0.0,3.0,0.0,0.0,0.0,0.0,0.0,0.0,0.0,0.0,0.0,0.0,0.0,0.0,0.0,0.0,0.0,0.0,0.0,0.0,0.0,0.0,0.0,0.0,0.0,0.0,0.0,0.0,0.0,0.0,0.0,0.0,0.0,0.0,0.0,0.0,0.0,0.0,0.0,0.0,0.0,0.0,0.0,0.0,0.0,0.0,0.0,2.0,0.0,0.0,4.0,0.0,0.0,0.0,0.0,0.0,0.0,0.0,0.0,0.0,0.0,0.0,0.0,0.0,0.0,0.0,0.0,0.0,0.0,0.0,0.0,0.0,0.0,0.0,0.0,0.0,0.0,0.0,0.0,0.0,0.0,0.0,4.0,0.0,0.0,0.0,0.0,0.0,0.0,0.0,0.0,0.0,0.0,0.0,0.0,0.0,0.0,0.0],\"yaxis\":\"y\",\"type\":\"scattergl\"}],                        {\"template\":{\"data\":{\"bar\":[{\"error_x\":{\"color\":\"#2a3f5f\"},\"error_y\":{\"color\":\"#2a3f5f\"},\"marker\":{\"line\":{\"color\":\"#E5ECF6\",\"width\":0.5},\"pattern\":{\"fillmode\":\"overlay\",\"size\":10,\"solidity\":0.2}},\"type\":\"bar\"}],\"barpolar\":[{\"marker\":{\"line\":{\"color\":\"#E5ECF6\",\"width\":0.5},\"pattern\":{\"fillmode\":\"overlay\",\"size\":10,\"solidity\":0.2}},\"type\":\"barpolar\"}],\"carpet\":[{\"aaxis\":{\"endlinecolor\":\"#2a3f5f\",\"gridcolor\":\"white\",\"linecolor\":\"white\",\"minorgridcolor\":\"white\",\"startlinecolor\":\"#2a3f5f\"},\"baxis\":{\"endlinecolor\":\"#2a3f5f\",\"gridcolor\":\"white\",\"linecolor\":\"white\",\"minorgridcolor\":\"white\",\"startlinecolor\":\"#2a3f5f\"},\"type\":\"carpet\"}],\"choropleth\":[{\"colorbar\":{\"outlinewidth\":0,\"ticks\":\"\"},\"type\":\"choropleth\"}],\"contour\":[{\"colorbar\":{\"outlinewidth\":0,\"ticks\":\"\"},\"colorscale\":[[0.0,\"#0d0887\"],[0.1111111111111111,\"#46039f\"],[0.2222222222222222,\"#7201a8\"],[0.3333333333333333,\"#9c179e\"],[0.4444444444444444,\"#bd3786\"],[0.5555555555555556,\"#d8576b\"],[0.6666666666666666,\"#ed7953\"],[0.7777777777777778,\"#fb9f3a\"],[0.8888888888888888,\"#fdca26\"],[1.0,\"#f0f921\"]],\"type\":\"contour\"}],\"contourcarpet\":[{\"colorbar\":{\"outlinewidth\":0,\"ticks\":\"\"},\"type\":\"contourcarpet\"}],\"heatmap\":[{\"colorbar\":{\"outlinewidth\":0,\"ticks\":\"\"},\"colorscale\":[[0.0,\"#0d0887\"],[0.1111111111111111,\"#46039f\"],[0.2222222222222222,\"#7201a8\"],[0.3333333333333333,\"#9c179e\"],[0.4444444444444444,\"#bd3786\"],[0.5555555555555556,\"#d8576b\"],[0.6666666666666666,\"#ed7953\"],[0.7777777777777778,\"#fb9f3a\"],[0.8888888888888888,\"#fdca26\"],[1.0,\"#f0f921\"]],\"type\":\"heatmap\"}],\"heatmapgl\":[{\"colorbar\":{\"outlinewidth\":0,\"ticks\":\"\"},\"colorscale\":[[0.0,\"#0d0887\"],[0.1111111111111111,\"#46039f\"],[0.2222222222222222,\"#7201a8\"],[0.3333333333333333,\"#9c179e\"],[0.4444444444444444,\"#bd3786\"],[0.5555555555555556,\"#d8576b\"],[0.6666666666666666,\"#ed7953\"],[0.7777777777777778,\"#fb9f3a\"],[0.8888888888888888,\"#fdca26\"],[1.0,\"#f0f921\"]],\"type\":\"heatmapgl\"}],\"histogram\":[{\"marker\":{\"pattern\":{\"fillmode\":\"overlay\",\"size\":10,\"solidity\":0.2}},\"type\":\"histogram\"}],\"histogram2d\":[{\"colorbar\":{\"outlinewidth\":0,\"ticks\":\"\"},\"colorscale\":[[0.0,\"#0d0887\"],[0.1111111111111111,\"#46039f\"],[0.2222222222222222,\"#7201a8\"],[0.3333333333333333,\"#9c179e\"],[0.4444444444444444,\"#bd3786\"],[0.5555555555555556,\"#d8576b\"],[0.6666666666666666,\"#ed7953\"],[0.7777777777777778,\"#fb9f3a\"],[0.8888888888888888,\"#fdca26\"],[1.0,\"#f0f921\"]],\"type\":\"histogram2d\"}],\"histogram2dcontour\":[{\"colorbar\":{\"outlinewidth\":0,\"ticks\":\"\"},\"colorscale\":[[0.0,\"#0d0887\"],[0.1111111111111111,\"#46039f\"],[0.2222222222222222,\"#7201a8\"],[0.3333333333333333,\"#9c179e\"],[0.4444444444444444,\"#bd3786\"],[0.5555555555555556,\"#d8576b\"],[0.6666666666666666,\"#ed7953\"],[0.7777777777777778,\"#fb9f3a\"],[0.8888888888888888,\"#fdca26\"],[1.0,\"#f0f921\"]],\"type\":\"histogram2dcontour\"}],\"mesh3d\":[{\"colorbar\":{\"outlinewidth\":0,\"ticks\":\"\"},\"type\":\"mesh3d\"}],\"parcoords\":[{\"line\":{\"colorbar\":{\"outlinewidth\":0,\"ticks\":\"\"}},\"type\":\"parcoords\"}],\"pie\":[{\"automargin\":true,\"type\":\"pie\"}],\"scatter\":[{\"marker\":{\"colorbar\":{\"outlinewidth\":0,\"ticks\":\"\"}},\"type\":\"scatter\"}],\"scatter3d\":[{\"line\":{\"colorbar\":{\"outlinewidth\":0,\"ticks\":\"\"}},\"marker\":{\"colorbar\":{\"outlinewidth\":0,\"ticks\":\"\"}},\"type\":\"scatter3d\"}],\"scattercarpet\":[{\"marker\":{\"colorbar\":{\"outlinewidth\":0,\"ticks\":\"\"}},\"type\":\"scattercarpet\"}],\"scattergeo\":[{\"marker\":{\"colorbar\":{\"outlinewidth\":0,\"ticks\":\"\"}},\"type\":\"scattergeo\"}],\"scattergl\":[{\"marker\":{\"colorbar\":{\"outlinewidth\":0,\"ticks\":\"\"}},\"type\":\"scattergl\"}],\"scattermapbox\":[{\"marker\":{\"colorbar\":{\"outlinewidth\":0,\"ticks\":\"\"}},\"type\":\"scattermapbox\"}],\"scatterpolar\":[{\"marker\":{\"colorbar\":{\"outlinewidth\":0,\"ticks\":\"\"}},\"type\":\"scatterpolar\"}],\"scatterpolargl\":[{\"marker\":{\"colorbar\":{\"outlinewidth\":0,\"ticks\":\"\"}},\"type\":\"scatterpolargl\"}],\"scatterternary\":[{\"marker\":{\"colorbar\":{\"outlinewidth\":0,\"ticks\":\"\"}},\"type\":\"scatterternary\"}],\"surface\":[{\"colorbar\":{\"outlinewidth\":0,\"ticks\":\"\"},\"colorscale\":[[0.0,\"#0d0887\"],[0.1111111111111111,\"#46039f\"],[0.2222222222222222,\"#7201a8\"],[0.3333333333333333,\"#9c179e\"],[0.4444444444444444,\"#bd3786\"],[0.5555555555555556,\"#d8576b\"],[0.6666666666666666,\"#ed7953\"],[0.7777777777777778,\"#fb9f3a\"],[0.8888888888888888,\"#fdca26\"],[1.0,\"#f0f921\"]],\"type\":\"surface\"}],\"table\":[{\"cells\":{\"fill\":{\"color\":\"#EBF0F8\"},\"line\":{\"color\":\"white\"}},\"header\":{\"fill\":{\"color\":\"#C8D4E3\"},\"line\":{\"color\":\"white\"}},\"type\":\"table\"}]},\"layout\":{\"annotationdefaults\":{\"arrowcolor\":\"#2a3f5f\",\"arrowhead\":0,\"arrowwidth\":1},\"autotypenumbers\":\"strict\",\"coloraxis\":{\"colorbar\":{\"outlinewidth\":0,\"ticks\":\"\"}},\"colorscale\":{\"diverging\":[[0,\"#8e0152\"],[0.1,\"#c51b7d\"],[0.2,\"#de77ae\"],[0.3,\"#f1b6da\"],[0.4,\"#fde0ef\"],[0.5,\"#f7f7f7\"],[0.6,\"#e6f5d0\"],[0.7,\"#b8e186\"],[0.8,\"#7fbc41\"],[0.9,\"#4d9221\"],[1,\"#276419\"]],\"sequential\":[[0.0,\"#0d0887\"],[0.1111111111111111,\"#46039f\"],[0.2222222222222222,\"#7201a8\"],[0.3333333333333333,\"#9c179e\"],[0.4444444444444444,\"#bd3786\"],[0.5555555555555556,\"#d8576b\"],[0.6666666666666666,\"#ed7953\"],[0.7777777777777778,\"#fb9f3a\"],[0.8888888888888888,\"#fdca26\"],[1.0,\"#f0f921\"]],\"sequentialminus\":[[0.0,\"#0d0887\"],[0.1111111111111111,\"#46039f\"],[0.2222222222222222,\"#7201a8\"],[0.3333333333333333,\"#9c179e\"],[0.4444444444444444,\"#bd3786\"],[0.5555555555555556,\"#d8576b\"],[0.6666666666666666,\"#ed7953\"],[0.7777777777777778,\"#fb9f3a\"],[0.8888888888888888,\"#fdca26\"],[1.0,\"#f0f921\"]]},\"colorway\":[\"#636efa\",\"#EF553B\",\"#00cc96\",\"#ab63fa\",\"#FFA15A\",\"#19d3f3\",\"#FF6692\",\"#B6E880\",\"#FF97FF\",\"#FECB52\"],\"font\":{\"color\":\"#2a3f5f\"},\"geo\":{\"bgcolor\":\"white\",\"lakecolor\":\"white\",\"landcolor\":\"#E5ECF6\",\"showlakes\":true,\"showland\":true,\"subunitcolor\":\"white\"},\"hoverlabel\":{\"align\":\"left\"},\"hovermode\":\"closest\",\"mapbox\":{\"style\":\"light\"},\"paper_bgcolor\":\"white\",\"plot_bgcolor\":\"#E5ECF6\",\"polar\":{\"angularaxis\":{\"gridcolor\":\"white\",\"linecolor\":\"white\",\"ticks\":\"\"},\"bgcolor\":\"#E5ECF6\",\"radialaxis\":{\"gridcolor\":\"white\",\"linecolor\":\"white\",\"ticks\":\"\"}},\"scene\":{\"xaxis\":{\"backgroundcolor\":\"#E5ECF6\",\"gridcolor\":\"white\",\"gridwidth\":2,\"linecolor\":\"white\",\"showbackground\":true,\"ticks\":\"\",\"zerolinecolor\":\"white\"},\"yaxis\":{\"backgroundcolor\":\"#E5ECF6\",\"gridcolor\":\"white\",\"gridwidth\":2,\"linecolor\":\"white\",\"showbackground\":true,\"ticks\":\"\",\"zerolinecolor\":\"white\"},\"zaxis\":{\"backgroundcolor\":\"#E5ECF6\",\"gridcolor\":\"white\",\"gridwidth\":2,\"linecolor\":\"white\",\"showbackground\":true,\"ticks\":\"\",\"zerolinecolor\":\"white\"}},\"shapedefaults\":{\"line\":{\"color\":\"#2a3f5f\"}},\"ternary\":{\"aaxis\":{\"gridcolor\":\"white\",\"linecolor\":\"white\",\"ticks\":\"\"},\"baxis\":{\"gridcolor\":\"white\",\"linecolor\":\"white\",\"ticks\":\"\"},\"bgcolor\":\"#E5ECF6\",\"caxis\":{\"gridcolor\":\"white\",\"linecolor\":\"white\",\"ticks\":\"\"}},\"title\":{\"x\":0.05},\"xaxis\":{\"automargin\":true,\"gridcolor\":\"white\",\"linecolor\":\"white\",\"ticks\":\"\",\"title\":{\"standoff\":15},\"zerolinecolor\":\"white\",\"zerolinewidth\":2},\"yaxis\":{\"automargin\":true,\"gridcolor\":\"white\",\"linecolor\":\"white\",\"ticks\":\"\",\"title\":{\"standoff\":15},\"zerolinecolor\":\"white\",\"zerolinewidth\":2}}},\"xaxis\":{\"anchor\":\"y\",\"domain\":[0.0,1.0],\"title\":{\"text\":\"Date\"},\"visible\":false,\"showticklabels\":false},\"yaxis\":{\"anchor\":\"x\",\"domain\":[0.0,1.0],\"title\":{\"text\":\"Covid_Deaths\"}},\"legend\":{\"tracegroupgap\":0},\"title\":{\"text\":\"Covid-19 Daily Deaths\"}},                        {\"displayModeBar\": false, \"responsive\": true}                    ).then(function(){\n",
              "                            \n",
              "var gd = document.getElementById('41b42dca-086f-4935-978f-4cb60bde5ee8');\n",
              "var x = new MutationObserver(function (mutations, observer) {{\n",
              "        var display = window.getComputedStyle(gd).display;\n",
              "        if (!display || display === 'none') {{\n",
              "            console.log([gd, 'removed!']);\n",
              "            Plotly.purge(gd);\n",
              "            observer.disconnect();\n",
              "        }}\n",
              "}});\n",
              "\n",
              "// Listen for the removal of the full notebook cells\n",
              "var notebookContainer = gd.closest('#notebook-container');\n",
              "if (notebookContainer) {{\n",
              "    x.observe(notebookContainer, {childList: true});\n",
              "}}\n",
              "\n",
              "// Listen for the clearing of the current output cell\n",
              "var outputEl = gd.closest('.output');\n",
              "if (outputEl) {{\n",
              "    x.observe(outputEl, {childList: true});\n",
              "}}\n",
              "\n",
              "                        })                };                            </script>        </div>\n",
              "</body>\n",
              "</html>"
            ]
          },
          "metadata": {}
        }
      ]
    },
    {
      "cell_type": "markdown",
      "source": [
        "### **Lets tackle the task now: <font color='blue'>Predicting covid-19 cases for the next 30 days**\n",
        "\n",
        "To tackle the task, i will use the prohet model to forecast covid-19 cases for the next 30 days."
      ],
      "metadata": {
        "id": "aS1OiHH89TtL"
      }
    },
    {
      "cell_type": "markdown",
      "source": [
        "**Defining a model function**"
      ],
      "metadata": {
        "id": "CsMJGkVm-9Ps"
      }
    },
    {
      "cell_type": "code",
      "source": [
        "class prophet(object):\n",
        "    def fit(self,data):\n",
        "        \n",
        "        self.data  = data\n",
        "        self.model = Prophet(weekly_seasonality=True,daily_seasonality=False,yearly_seasonality=False)\n",
        "        self.model.fit(self.data)\n",
        "    \n",
        "    def forecast(self,periods,freq):\n",
        "        \n",
        "        self.future = self.model.make_future_dataframe(periods=periods,freq=freq)\n",
        "        self.df_forecast = self.model.predict(self.future)\n",
        "        \n",
        "    def plot(self,xlabel=\"Years\",ylabel=\"Values\"):\n",
        "        \n",
        "        self.model.plot(self.df_forecast,xlabel=xlabel,ylabel=ylabel,figsize=(9,4))\n",
        "        self.model.plot_components(self.df_forecast,figsize=(9,6))\n",
        "        \n",
        "    def R2(self):\n",
        "        return r2_score(self.data.y, self.df_forecast.yhat[:len(df)])\n"
      ],
      "metadata": {
        "id": "Xbt65dqp-P4Y"
      },
      "execution_count": 260,
      "outputs": []
    },
    {
      "cell_type": "markdown",
      "source": [
        "**Preparing the dataset for forecasting**"
      ],
      "metadata": {
        "id": "VfOLKbRmA4D2"
      }
    },
    {
      "cell_type": "code",
      "source": [
        "df_fb  = pd.DataFrame({\"ds\":[],\"y\":[]})\n",
        "df_fb[\"ds\"] = pd.to_datetime(df.index)\n",
        "df_fb[\"y\"]  = df.iloc[:,0].values"
      ],
      "metadata": {
        "id": "5Ct6MPGgAiOz"
      },
      "execution_count": 261,
      "outputs": []
    },
    {
      "cell_type": "markdown",
      "source": [
        "**Fitting the model**"
      ],
      "metadata": {
        "id": "FCv4DvVHB_c0"
      }
    },
    {
      "cell_type": "code",
      "source": [
        "model = prophet()\n",
        "model.fit(df_fb)\n",
        "model.forecast(30,\"D\")\n",
        "model.R2()"
      ],
      "metadata": {
        "id": "JANj3AliB-YB",
        "outputId": "784fbd37-2d36-4e6d-a439-f024c255e34e",
        "colab": {
          "base_uri": "https://localhost:8080/"
        }
      },
      "execution_count": 265,
      "outputs": [
        {
          "output_type": "stream",
          "name": "stderr",
          "text": [
            "DEBUG:cmdstanpy:input tempfile: /tmp/tmp_dfnhok4/pqkgv3s4.json\n",
            "DEBUG:cmdstanpy:input tempfile: /tmp/tmp_dfnhok4/l22ibiqi.json\n",
            "DEBUG:cmdstanpy:idx 0\n",
            "DEBUG:cmdstanpy:running CmdStan, num_threads: None\n",
            "DEBUG:cmdstanpy:CmdStan args: ['/usr/local/lib/python3.8/dist-packages/prophet/stan_model/prophet_model.bin', 'random', 'seed=68115', 'data', 'file=/tmp/tmp_dfnhok4/pqkgv3s4.json', 'init=/tmp/tmp_dfnhok4/l22ibiqi.json', 'output', 'file=/tmp/tmp_dfnhok4/prophet_modeltjgaz3e5/prophet_model-20230104134949.csv', 'method=optimize', 'algorithm=lbfgs', 'iter=10000']\n",
            "13:49:49 - cmdstanpy - INFO - Chain [1] start processing\n",
            "INFO:cmdstanpy:Chain [1] start processing\n",
            "13:49:49 - cmdstanpy - INFO - Chain [1] done processing\n",
            "INFO:cmdstanpy:Chain [1] done processing\n"
          ]
        },
        {
          "output_type": "execute_result",
          "data": {
            "text/plain": [
              "0.6327189835114662"
            ]
          },
          "metadata": {},
          "execution_count": 265
        }
      ]
    },
    {
      "cell_type": "markdown",
      "source": [
        "**Forecasting covid 19 cases for the next 30 days**"
      ],
      "metadata": {
        "id": "_ywbp_AjCDHQ"
      }
    },
    {
      "cell_type": "code",
      "source": [
        "forecast = model.df_forecast[[\"ds\",\"yhat_lower\",\"yhat_upper\",\"yhat\"]].tail(30).reset_index().set_index(\"ds\").drop(\"index\",axis=1)"
      ],
      "metadata": {
        "id": "w-Fw0ymICYw3"
      },
      "execution_count": 291,
      "outputs": []
    },
    {
      "cell_type": "markdown",
      "source": [
        "**Plotting the forecast**"
      ],
      "metadata": {
        "id": "ZePXsrvUCfob"
      }
    },
    {
      "cell_type": "code",
      "source": [
        "fig = px.area(forecast,x=forecast.index, y='yhat', title='Covid-19 global forecast for 30 days',color_discrete_sequence=[\"teal\"])\n",
        "fig.update_xaxes(visible=True,showticklabels=True )\n",
        "fig.show(config= dict(displayModeBar = False))"
      ],
      "metadata": {
        "id": "k5A0ZnndDMCY",
        "outputId": "2231d6c6-6803-48fe-e5de-3f1076814892",
        "colab": {
          "base_uri": "https://localhost:8080/",
          "height": 542
        }
      },
      "execution_count": 288,
      "outputs": [
        {
          "output_type": "display_data",
          "data": {
            "text/html": [
              "<html>\n",
              "<head><meta charset=\"utf-8\" /></head>\n",
              "<body>\n",
              "    <div>            <script src=\"https://cdnjs.cloudflare.com/ajax/libs/mathjax/2.7.5/MathJax.js?config=TeX-AMS-MML_SVG\"></script><script type=\"text/javascript\">if (window.MathJax) {MathJax.Hub.Config({SVG: {font: \"STIX-Web\"}});}</script>                <script type=\"text/javascript\">window.PlotlyConfig = {MathJaxConfig: 'local'};</script>\n",
              "        <script src=\"https://cdn.plot.ly/plotly-2.8.3.min.js\"></script>                <div id=\"b06ddd4d-d8f6-4ed5-8941-06a0e22d15a3\" class=\"plotly-graph-div\" style=\"height:525px; width:100%;\"></div>            <script type=\"text/javascript\">                                    window.PLOTLYENV=window.PLOTLYENV || {};                                    if (document.getElementById(\"b06ddd4d-d8f6-4ed5-8941-06a0e22d15a3\")) {                    Plotly.newPlot(                        \"b06ddd4d-d8f6-4ed5-8941-06a0e22d15a3\",                        [{\"hovertemplate\":\"ds=%{x}<br>yhat=%{y}<extra></extra>\",\"legendgroup\":\"\",\"line\":{\"color\":\"teal\"},\"marker\":{\"symbol\":\"circle\"},\"mode\":\"lines\",\"name\":\"\",\"orientation\":\"v\",\"showlegend\":false,\"stackgroup\":\"1\",\"x\":[\"2023-01-03T00:00:00\",\"2023-01-04T00:00:00\",\"2023-01-05T00:00:00\",\"2023-01-06T00:00:00\",\"2023-01-07T00:00:00\",\"2023-01-08T00:00:00\",\"2023-01-09T00:00:00\",\"2023-01-10T00:00:00\",\"2023-01-11T00:00:00\",\"2023-01-12T00:00:00\",\"2023-01-13T00:00:00\",\"2023-01-14T00:00:00\",\"2023-01-15T00:00:00\",\"2023-01-16T00:00:00\",\"2023-01-17T00:00:00\",\"2023-01-18T00:00:00\",\"2023-01-19T00:00:00\",\"2023-01-20T00:00:00\",\"2023-01-21T00:00:00\",\"2023-01-22T00:00:00\",\"2023-01-23T00:00:00\",\"2023-01-24T00:00:00\",\"2023-01-25T00:00:00\",\"2023-01-26T00:00:00\",\"2023-01-27T00:00:00\",\"2023-01-28T00:00:00\",\"2023-01-29T00:00:00\",\"2023-01-30T00:00:00\",\"2023-01-31T00:00:00\",\"2023-02-01T00:00:00\"],\"xaxis\":\"x\",\"y\":[360068.47644096386,393249.7129019746,388529.12157543935,361431.79858888744,173222.2560636645,93053.20747258703,277383.3514813565,340780.22809682536,373961.4645578573,369240.8732314503,342143.5502447448,153934.007719413,73764.95912846085,258095.10313656478,321491.97975268954,354673.21621368965,349952.6248872266,322855.3019004559,134645.75937516103,54476.71078445276,238806.8547926209,302203.7314085542,335384.9678695215,330664.3765431204,303567.05355671723,115357.51103147678,35188.462440207135,219518.60644854364,282915.4830644161,316096.71952534025],\"yaxis\":\"y\",\"type\":\"scatter\"}],                        {\"template\":{\"data\":{\"bar\":[{\"error_x\":{\"color\":\"#2a3f5f\"},\"error_y\":{\"color\":\"#2a3f5f\"},\"marker\":{\"line\":{\"color\":\"#E5ECF6\",\"width\":0.5},\"pattern\":{\"fillmode\":\"overlay\",\"size\":10,\"solidity\":0.2}},\"type\":\"bar\"}],\"barpolar\":[{\"marker\":{\"line\":{\"color\":\"#E5ECF6\",\"width\":0.5},\"pattern\":{\"fillmode\":\"overlay\",\"size\":10,\"solidity\":0.2}},\"type\":\"barpolar\"}],\"carpet\":[{\"aaxis\":{\"endlinecolor\":\"#2a3f5f\",\"gridcolor\":\"white\",\"linecolor\":\"white\",\"minorgridcolor\":\"white\",\"startlinecolor\":\"#2a3f5f\"},\"baxis\":{\"endlinecolor\":\"#2a3f5f\",\"gridcolor\":\"white\",\"linecolor\":\"white\",\"minorgridcolor\":\"white\",\"startlinecolor\":\"#2a3f5f\"},\"type\":\"carpet\"}],\"choropleth\":[{\"colorbar\":{\"outlinewidth\":0,\"ticks\":\"\"},\"type\":\"choropleth\"}],\"contour\":[{\"colorbar\":{\"outlinewidth\":0,\"ticks\":\"\"},\"colorscale\":[[0.0,\"#0d0887\"],[0.1111111111111111,\"#46039f\"],[0.2222222222222222,\"#7201a8\"],[0.3333333333333333,\"#9c179e\"],[0.4444444444444444,\"#bd3786\"],[0.5555555555555556,\"#d8576b\"],[0.6666666666666666,\"#ed7953\"],[0.7777777777777778,\"#fb9f3a\"],[0.8888888888888888,\"#fdca26\"],[1.0,\"#f0f921\"]],\"type\":\"contour\"}],\"contourcarpet\":[{\"colorbar\":{\"outlinewidth\":0,\"ticks\":\"\"},\"type\":\"contourcarpet\"}],\"heatmap\":[{\"colorbar\":{\"outlinewidth\":0,\"ticks\":\"\"},\"colorscale\":[[0.0,\"#0d0887\"],[0.1111111111111111,\"#46039f\"],[0.2222222222222222,\"#7201a8\"],[0.3333333333333333,\"#9c179e\"],[0.4444444444444444,\"#bd3786\"],[0.5555555555555556,\"#d8576b\"],[0.6666666666666666,\"#ed7953\"],[0.7777777777777778,\"#fb9f3a\"],[0.8888888888888888,\"#fdca26\"],[1.0,\"#f0f921\"]],\"type\":\"heatmap\"}],\"heatmapgl\":[{\"colorbar\":{\"outlinewidth\":0,\"ticks\":\"\"},\"colorscale\":[[0.0,\"#0d0887\"],[0.1111111111111111,\"#46039f\"],[0.2222222222222222,\"#7201a8\"],[0.3333333333333333,\"#9c179e\"],[0.4444444444444444,\"#bd3786\"],[0.5555555555555556,\"#d8576b\"],[0.6666666666666666,\"#ed7953\"],[0.7777777777777778,\"#fb9f3a\"],[0.8888888888888888,\"#fdca26\"],[1.0,\"#f0f921\"]],\"type\":\"heatmapgl\"}],\"histogram\":[{\"marker\":{\"pattern\":{\"fillmode\":\"overlay\",\"size\":10,\"solidity\":0.2}},\"type\":\"histogram\"}],\"histogram2d\":[{\"colorbar\":{\"outlinewidth\":0,\"ticks\":\"\"},\"colorscale\":[[0.0,\"#0d0887\"],[0.1111111111111111,\"#46039f\"],[0.2222222222222222,\"#7201a8\"],[0.3333333333333333,\"#9c179e\"],[0.4444444444444444,\"#bd3786\"],[0.5555555555555556,\"#d8576b\"],[0.6666666666666666,\"#ed7953\"],[0.7777777777777778,\"#fb9f3a\"],[0.8888888888888888,\"#fdca26\"],[1.0,\"#f0f921\"]],\"type\":\"histogram2d\"}],\"histogram2dcontour\":[{\"colorbar\":{\"outlinewidth\":0,\"ticks\":\"\"},\"colorscale\":[[0.0,\"#0d0887\"],[0.1111111111111111,\"#46039f\"],[0.2222222222222222,\"#7201a8\"],[0.3333333333333333,\"#9c179e\"],[0.4444444444444444,\"#bd3786\"],[0.5555555555555556,\"#d8576b\"],[0.6666666666666666,\"#ed7953\"],[0.7777777777777778,\"#fb9f3a\"],[0.8888888888888888,\"#fdca26\"],[1.0,\"#f0f921\"]],\"type\":\"histogram2dcontour\"}],\"mesh3d\":[{\"colorbar\":{\"outlinewidth\":0,\"ticks\":\"\"},\"type\":\"mesh3d\"}],\"parcoords\":[{\"line\":{\"colorbar\":{\"outlinewidth\":0,\"ticks\":\"\"}},\"type\":\"parcoords\"}],\"pie\":[{\"automargin\":true,\"type\":\"pie\"}],\"scatter\":[{\"marker\":{\"colorbar\":{\"outlinewidth\":0,\"ticks\":\"\"}},\"type\":\"scatter\"}],\"scatter3d\":[{\"line\":{\"colorbar\":{\"outlinewidth\":0,\"ticks\":\"\"}},\"marker\":{\"colorbar\":{\"outlinewidth\":0,\"ticks\":\"\"}},\"type\":\"scatter3d\"}],\"scattercarpet\":[{\"marker\":{\"colorbar\":{\"outlinewidth\":0,\"ticks\":\"\"}},\"type\":\"scattercarpet\"}],\"scattergeo\":[{\"marker\":{\"colorbar\":{\"outlinewidth\":0,\"ticks\":\"\"}},\"type\":\"scattergeo\"}],\"scattergl\":[{\"marker\":{\"colorbar\":{\"outlinewidth\":0,\"ticks\":\"\"}},\"type\":\"scattergl\"}],\"scattermapbox\":[{\"marker\":{\"colorbar\":{\"outlinewidth\":0,\"ticks\":\"\"}},\"type\":\"scattermapbox\"}],\"scatterpolar\":[{\"marker\":{\"colorbar\":{\"outlinewidth\":0,\"ticks\":\"\"}},\"type\":\"scatterpolar\"}],\"scatterpolargl\":[{\"marker\":{\"colorbar\":{\"outlinewidth\":0,\"ticks\":\"\"}},\"type\":\"scatterpolargl\"}],\"scatterternary\":[{\"marker\":{\"colorbar\":{\"outlinewidth\":0,\"ticks\":\"\"}},\"type\":\"scatterternary\"}],\"surface\":[{\"colorbar\":{\"outlinewidth\":0,\"ticks\":\"\"},\"colorscale\":[[0.0,\"#0d0887\"],[0.1111111111111111,\"#46039f\"],[0.2222222222222222,\"#7201a8\"],[0.3333333333333333,\"#9c179e\"],[0.4444444444444444,\"#bd3786\"],[0.5555555555555556,\"#d8576b\"],[0.6666666666666666,\"#ed7953\"],[0.7777777777777778,\"#fb9f3a\"],[0.8888888888888888,\"#fdca26\"],[1.0,\"#f0f921\"]],\"type\":\"surface\"}],\"table\":[{\"cells\":{\"fill\":{\"color\":\"#EBF0F8\"},\"line\":{\"color\":\"white\"}},\"header\":{\"fill\":{\"color\":\"#C8D4E3\"},\"line\":{\"color\":\"white\"}},\"type\":\"table\"}]},\"layout\":{\"annotationdefaults\":{\"arrowcolor\":\"#2a3f5f\",\"arrowhead\":0,\"arrowwidth\":1},\"autotypenumbers\":\"strict\",\"coloraxis\":{\"colorbar\":{\"outlinewidth\":0,\"ticks\":\"\"}},\"colorscale\":{\"diverging\":[[0,\"#8e0152\"],[0.1,\"#c51b7d\"],[0.2,\"#de77ae\"],[0.3,\"#f1b6da\"],[0.4,\"#fde0ef\"],[0.5,\"#f7f7f7\"],[0.6,\"#e6f5d0\"],[0.7,\"#b8e186\"],[0.8,\"#7fbc41\"],[0.9,\"#4d9221\"],[1,\"#276419\"]],\"sequential\":[[0.0,\"#0d0887\"],[0.1111111111111111,\"#46039f\"],[0.2222222222222222,\"#7201a8\"],[0.3333333333333333,\"#9c179e\"],[0.4444444444444444,\"#bd3786\"],[0.5555555555555556,\"#d8576b\"],[0.6666666666666666,\"#ed7953\"],[0.7777777777777778,\"#fb9f3a\"],[0.8888888888888888,\"#fdca26\"],[1.0,\"#f0f921\"]],\"sequentialminus\":[[0.0,\"#0d0887\"],[0.1111111111111111,\"#46039f\"],[0.2222222222222222,\"#7201a8\"],[0.3333333333333333,\"#9c179e\"],[0.4444444444444444,\"#bd3786\"],[0.5555555555555556,\"#d8576b\"],[0.6666666666666666,\"#ed7953\"],[0.7777777777777778,\"#fb9f3a\"],[0.8888888888888888,\"#fdca26\"],[1.0,\"#f0f921\"]]},\"colorway\":[\"#636efa\",\"#EF553B\",\"#00cc96\",\"#ab63fa\",\"#FFA15A\",\"#19d3f3\",\"#FF6692\",\"#B6E880\",\"#FF97FF\",\"#FECB52\"],\"font\":{\"color\":\"#2a3f5f\"},\"geo\":{\"bgcolor\":\"white\",\"lakecolor\":\"white\",\"landcolor\":\"#E5ECF6\",\"showlakes\":true,\"showland\":true,\"subunitcolor\":\"white\"},\"hoverlabel\":{\"align\":\"left\"},\"hovermode\":\"closest\",\"mapbox\":{\"style\":\"light\"},\"paper_bgcolor\":\"white\",\"plot_bgcolor\":\"#E5ECF6\",\"polar\":{\"angularaxis\":{\"gridcolor\":\"white\",\"linecolor\":\"white\",\"ticks\":\"\"},\"bgcolor\":\"#E5ECF6\",\"radialaxis\":{\"gridcolor\":\"white\",\"linecolor\":\"white\",\"ticks\":\"\"}},\"scene\":{\"xaxis\":{\"backgroundcolor\":\"#E5ECF6\",\"gridcolor\":\"white\",\"gridwidth\":2,\"linecolor\":\"white\",\"showbackground\":true,\"ticks\":\"\",\"zerolinecolor\":\"white\"},\"yaxis\":{\"backgroundcolor\":\"#E5ECF6\",\"gridcolor\":\"white\",\"gridwidth\":2,\"linecolor\":\"white\",\"showbackground\":true,\"ticks\":\"\",\"zerolinecolor\":\"white\"},\"zaxis\":{\"backgroundcolor\":\"#E5ECF6\",\"gridcolor\":\"white\",\"gridwidth\":2,\"linecolor\":\"white\",\"showbackground\":true,\"ticks\":\"\",\"zerolinecolor\":\"white\"}},\"shapedefaults\":{\"line\":{\"color\":\"#2a3f5f\"}},\"ternary\":{\"aaxis\":{\"gridcolor\":\"white\",\"linecolor\":\"white\",\"ticks\":\"\"},\"baxis\":{\"gridcolor\":\"white\",\"linecolor\":\"white\",\"ticks\":\"\"},\"bgcolor\":\"#E5ECF6\",\"caxis\":{\"gridcolor\":\"white\",\"linecolor\":\"white\",\"ticks\":\"\"}},\"title\":{\"x\":0.05},\"xaxis\":{\"automargin\":true,\"gridcolor\":\"white\",\"linecolor\":\"white\",\"ticks\":\"\",\"title\":{\"standoff\":15},\"zerolinecolor\":\"white\",\"zerolinewidth\":2},\"yaxis\":{\"automargin\":true,\"gridcolor\":\"white\",\"linecolor\":\"white\",\"ticks\":\"\",\"title\":{\"standoff\":15},\"zerolinecolor\":\"white\",\"zerolinewidth\":2}}},\"xaxis\":{\"anchor\":\"y\",\"domain\":[0.0,1.0],\"title\":{\"text\":\"ds\"},\"visible\":true,\"showticklabels\":true},\"yaxis\":{\"anchor\":\"x\",\"domain\":[0.0,1.0],\"title\":{\"text\":\"yhat\"}},\"legend\":{\"tracegroupgap\":0},\"title\":{\"text\":\"Covid-19 global forecast for 30 days\"}},                        {\"displayModeBar\": false, \"responsive\": true}                    ).then(function(){\n",
              "                            \n",
              "var gd = document.getElementById('b06ddd4d-d8f6-4ed5-8941-06a0e22d15a3');\n",
              "var x = new MutationObserver(function (mutations, observer) {{\n",
              "        var display = window.getComputedStyle(gd).display;\n",
              "        if (!display || display === 'none') {{\n",
              "            console.log([gd, 'removed!']);\n",
              "            Plotly.purge(gd);\n",
              "            observer.disconnect();\n",
              "        }}\n",
              "}});\n",
              "\n",
              "// Listen for the removal of the full notebook cells\n",
              "var notebookContainer = gd.closest('#notebook-container');\n",
              "if (notebookContainer) {{\n",
              "    x.observe(notebookContainer, {childList: true});\n",
              "}}\n",
              "\n",
              "// Listen for the clearing of the current output cell\n",
              "var outputEl = gd.closest('.output');\n",
              "if (outputEl) {{\n",
              "    x.observe(outputEl, {childList: true});\n",
              "}}\n",
              "\n",
              "                        })                };                            </script>        </div>\n",
              "</body>\n",
              "</html>"
            ]
          },
          "metadata": {}
        }
      ]
    }
  ]
}